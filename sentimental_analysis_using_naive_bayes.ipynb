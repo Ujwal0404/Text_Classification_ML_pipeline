{
  "nbformat": 4,
  "nbformat_minor": 0,
  "metadata": {
    "kernelspec": {
      "display_name": "Python 3",
      "language": "python",
      "name": "python3"
    },
    "language_info": {
      "codemirror_mode": {
        "name": "ipython",
        "version": 3
      },
      "file_extension": ".py",
      "mimetype": "text/x-python",
      "name": "python",
      "nbconvert_exporter": "python",
      "pygments_lexer": "ipython3",
      "version": "3.7.6"
    },
    "colab": {
      "name": "sentimental analysis using naive bayes.ipynb",
      "provenance": []
    }
  },
  "cells": [
    {
      "cell_type": "code",
      "metadata": {
        "id": "sv-QtfSkLMpP"
      },
      "source": [
        ""
      ],
      "execution_count": null,
      "outputs": []
    },
    {
      "cell_type": "code",
      "metadata": {
        "id": "IXFSNF7NKrJW"
      },
      "source": [
        ""
      ],
      "execution_count": null,
      "outputs": []
    },
    {
      "cell_type": "code",
      "metadata": {
        "id": "38799OU7Kjfs"
      },
      "source": [
        ""
      ],
      "execution_count": null,
      "outputs": []
    },
    {
      "cell_type": "code",
      "metadata": {
        "id": "70hSrx69KjXg"
      },
      "source": [
        ""
      ],
      "execution_count": null,
      "outputs": []
    },
    {
      "cell_type": "code",
      "metadata": {
        "id": "d0gkrGkpTzdN"
      },
      "source": [
        ""
      ],
      "execution_count": null,
      "outputs": []
    },
    {
      "cell_type": "code",
      "metadata": {
        "id": "Ho_r8o_pncuZ"
      },
      "source": [
        "import pandas as pd\n",
        "import numpy as np"
      ],
      "execution_count": 62,
      "outputs": []
    },
    {
      "cell_type": "code",
      "metadata": {
        "id": "x0JFUExxncuk"
      },
      "source": [
        "df=pd.read_csv('/content/data (2).csv')"
      ],
      "execution_count": 63,
      "outputs": []
    },
    {
      "cell_type": "code",
      "metadata": {
        "id": "IIyPF78Pncur",
        "outputId": "40ad68b2-ae94-4a39-f723-79fe24c417e5",
        "colab": {
          "base_uri": "https://localhost:8080/",
          "height": 202
        }
      },
      "source": [
        "df.head()"
      ],
      "execution_count": 64,
      "outputs": [
        {
          "output_type": "execute_result",
          "data": {
            "text/html": [
              "<div>\n",
              "<style scoped>\n",
              "    .dataframe tbody tr th:only-of-type {\n",
              "        vertical-align: middle;\n",
              "    }\n",
              "\n",
              "    .dataframe tbody tr th {\n",
              "        vertical-align: top;\n",
              "    }\n",
              "\n",
              "    .dataframe thead th {\n",
              "        text-align: right;\n",
              "    }\n",
              "</style>\n",
              "<table border=\"1\" class=\"dataframe\">\n",
              "  <thead>\n",
              "    <tr style=\"text-align: right;\">\n",
              "      <th></th>\n",
              "      <th>Unnamed: 0</th>\n",
              "      <th>text</th>\n",
              "      <th>label</th>\n",
              "    </tr>\n",
              "  </thead>\n",
              "  <tbody>\n",
              "    <tr>\n",
              "      <th>0</th>\n",
              "      <td>0</td>\n",
              "      <td>=p:\\n\\n      \\n        \\n\\n       \\n       \\n ...</td>\n",
              "      <td>0</td>\n",
              "    </tr>\n",
              "    <tr>\n",
              "      <th>1</th>\n",
              "      <td>1</td>\n",
              "      <td>\\n\\nScanned by CamScanner\\n\\nuO, Aesienams, a...</td>\n",
              "      <td>0</td>\n",
              "    </tr>\n",
              "    <tr>\n",
              "      <th>2</th>\n",
              "      <td>2</td>\n",
              "      <td>\\n\\n=\\n™* 4g hae et\\nwt at ss\\n\\n \\n\\nae Pe ...</td>\n",
              "      <td>0</td>\n",
              "    </tr>\n",
              "    <tr>\n",
              "      <th>3</th>\n",
              "      <td>3</td>\n",
              "      <td>\\n\\nGOVERNMENT OFIND\\n5 Pons Kon oxy\\nPalagi...</td>\n",
              "      <td>0</td>\n",
              "    </tr>\n",
              "    <tr>\n",
              "      <th>4</th>\n",
              "      <td>4</td>\n",
              "      <td>ZTO0ze/TOire -318q\\n\\n \\n\\nLo 4 3\\nAIxXd Uidh[...</td>\n",
              "      <td>0</td>\n",
              "    </tr>\n",
              "  </tbody>\n",
              "</table>\n",
              "</div>"
            ],
            "text/plain": [
              "   Unnamed: 0                                               text  label\n",
              "0           0  =p:\\n\\n      \\n        \\n\\n       \\n       \\n ...      0\n",
              "1           1   \\n\\nScanned by CamScanner\\n\\nuO, Aesienams, a...      0\n",
              "2           2    \\n\\n=\\n™* 4g hae et\\nwt at ss\\n\\n \\n\\nae Pe ...      0\n",
              "3           3    \\n\\nGOVERNMENT OFIND\\n5 Pons Kon oxy\\nPalagi...      0\n",
              "4           4  ZTO0ze/TOire -318q\\n\\n \\n\\nLo 4 3\\nAIxXd Uidh[...      0"
            ]
          },
          "metadata": {
            "tags": []
          },
          "execution_count": 64
        }
      ]
    },
    {
      "cell_type": "code",
      "metadata": {
        "id": "SodO46dNTRfM"
      },
      "source": [
        "df.drop(columns=['Unnamed: 0'],inplace=True)"
      ],
      "execution_count": 4,
      "outputs": []
    },
    {
      "cell_type": "code",
      "metadata": {
        "id": "psyqF6fiT0jv",
        "outputId": "0daccf54-162f-4f63-e2a3-b7babd399f63",
        "colab": {
          "base_uri": "https://localhost:8080/",
          "height": 1000
        }
      },
      "source": [
        "df.head(50)"
      ],
      "execution_count": 5,
      "outputs": [
        {
          "output_type": "execute_result",
          "data": {
            "text/html": [
              "<div>\n",
              "<style scoped>\n",
              "    .dataframe tbody tr th:only-of-type {\n",
              "        vertical-align: middle;\n",
              "    }\n",
              "\n",
              "    .dataframe tbody tr th {\n",
              "        vertical-align: top;\n",
              "    }\n",
              "\n",
              "    .dataframe thead th {\n",
              "        text-align: right;\n",
              "    }\n",
              "</style>\n",
              "<table border=\"1\" class=\"dataframe\">\n",
              "  <thead>\n",
              "    <tr style=\"text-align: right;\">\n",
              "      <th></th>\n",
              "      <th>text</th>\n",
              "      <th>label</th>\n",
              "    </tr>\n",
              "  </thead>\n",
              "  <tbody>\n",
              "    <tr>\n",
              "      <th>0</th>\n",
              "      <td>=p:\\n\\n      \\n        \\n\\n       \\n       \\n ...</td>\n",
              "      <td>0</td>\n",
              "    </tr>\n",
              "    <tr>\n",
              "      <th>1</th>\n",
              "      <td>\\n\\nScanned by CamScanner\\n\\nuO, Aesienams, a...</td>\n",
              "      <td>0</td>\n",
              "    </tr>\n",
              "    <tr>\n",
              "      <th>2</th>\n",
              "      <td>\\n\\n=\\n™* 4g hae et\\nwt at ss\\n\\n \\n\\nae Pe ...</td>\n",
              "      <td>0</td>\n",
              "    </tr>\n",
              "    <tr>\n",
              "      <th>3</th>\n",
              "      <td>\\n\\nGOVERNMENT OFIND\\n5 Pons Kon oxy\\nPalagi...</td>\n",
              "      <td>0</td>\n",
              "    </tr>\n",
              "    <tr>\n",
              "      <th>4</th>\n",
              "      <td>ZTO0ze/TOire -318q\\n\\n \\n\\nLo 4 3\\nAIxXd Uidh[...</td>\n",
              "      <td>0</td>\n",
              "    </tr>\n",
              "    <tr>\n",
              "      <th>5</th>\n",
              "      <td>\\n \\n\\n    \\n\\n  \\n\\nheehee TT TTP pet a gec...</td>\n",
              "      <td>0</td>\n",
              "    </tr>\n",
              "    <tr>\n",
              "      <th>6</th>\n",
              "      <td>re\\n\\n \\n\\n— - AADHAAR\\n\\n \\n\\n| WaArardo\\n\\nB...</td>\n",
              "      <td>0</td>\n",
              "    </tr>\n",
              "    <tr>\n",
              "      <th>7</th>\n",
              "      <td>\\n\\ni\\naapabyt i\\n\\nfirs fale at\\n\\nJoga KUO ...</td>\n",
              "      <td>0</td>\n",
              "    </tr>\n",
              "    <tr>\n",
              "      <th>8</th>\n",
              "      <td>\\n\\nMatomacd Sab Host, ‘coalinant No.: ee e...</td>\n",
              "      <td>0</td>\n",
              "    </tr>\n",
              "    <tr>\n",
              "      <th>9</th>\n",
              "      <td>\\n\\n \\n \\n \\n \\n\\n \\n \\n\\n\"er OS ox\\n\\na\\nec ...</td>\n",
              "      <td>0</td>\n",
              "    </tr>\n",
              "    <tr>\n",
              "      <th>10</th>\n",
              "      <td>\\n      \\n  \\n \\n    \\n \\n  \\n       \\n\\n\" z...</td>\n",
              "      <td>0</td>\n",
              "    </tr>\n",
              "    <tr>\n",
              "      <th>11</th>\n",
              "      <td>\\n\\nsez Unique tdentification-Authonity.of-I...</td>\n",
              "      <td>0</td>\n",
              "    </tr>\n",
              "    <tr>\n",
              "      <th>12</th>\n",
              "      <td>\\n\\n62525/Enrolment No. 0000/98003/14 102\\n\\n...</td>\n",
              "      <td>0</td>\n",
              "    </tr>\n",
              "    <tr>\n",
              "      <th>13</th>\n",
              "      <td>\\n\\n|\\na A ae A\\nPee re\\n\\n \\n\\nAacomeded s...</td>\n",
              "      <td>0</td>\n",
              "    </tr>\n",
              "    <tr>\n",
              "      <th>14</th>\n",
              "      <td>mr ——\\n\\nne xt . ei\\ncea ZW\\n\\nGoverment of tn...</td>\n",
              "      <td>0</td>\n",
              "    </tr>\n",
              "    <tr>\n",
              "      <th>15</th>\n",
              "      <td>Br\\n\\n \\n\\n \\n\\nPOLINA\\n\\nsree |\\na e\\n\\n \\n\\n...</td>\n",
              "      <td>0</td>\n",
              "    </tr>\n",
              "    <tr>\n",
              "      <th>16</th>\n",
              "      <td>\\n \\n  \\n\\n“usar @ wainfénrolment No. 21 29/8...</td>\n",
              "      <td>0</td>\n",
              "    </tr>\n",
              "    <tr>\n",
              "      <th>17</th>\n",
              "      <td>—\\n\\ni ft\\n-\\ni -_\\n=\\nSl ed\\n—— —=\\na -\\n\\n \\...</td>\n",
              "      <td>0</td>\n",
              "    </tr>\n",
              "    <tr>\n",
              "      <th>18</th>\n",
              "      <td>\\n\\n \\n\\nBaie a “Sga03 als\\nSET raat or nos\\n...</td>\n",
              "      <td>0</td>\n",
              "    </tr>\n",
              "    <tr>\n",
              "      <th>19</th>\n",
              "      <td>\\n\\n \\n\\nGanunred Merete n ih\\n\\nGopal Chinna...</td>\n",
              "      <td>0</td>\n",
              "    </tr>\n",
              "    <tr>\n",
              "      <th>20</th>\n",
              "      <td>\\n\\noagas/Enrolment No: 2052/30724 164 014...</td>\n",
              "      <td>0</td>\n",
              "    </tr>\n",
              "    <tr>\n",
              "      <th>21</th>\n",
              "      <td>\\n\\nUnique dentification Authority -of-india—...</td>\n",
              "      <td>0</td>\n",
              "    </tr>\n",
              "    <tr>\n",
              "      <th>22</th>\n",
              "      <td>\\n\\nAM Ge Es See ee aia\\nee, ee r\\n\\n- ‘\\n\"u...</td>\n",
              "      <td>0</td>\n",
              "    </tr>\n",
              "    <tr>\n",
              "      <th>23</th>\n",
              "      <td>\\n\\n   \\n\\nHea ees aC overnment nt LO\\n: AAT ...</td>\n",
              "      <td>0</td>\n",
              "    </tr>\n",
              "    <tr>\n",
              "      <th>24</th>\n",
              "      <td>$\\n\\nde wer’ Seeg.2 Your Anitnaar NOt :\\n\\n‘97...</td>\n",
              "      <td>0</td>\n",
              "    </tr>\n",
              "    <tr>\n",
              "      <th>25</th>\n",
              "      <td>\\n\\n3\\n\\npeng eit\\n\\naera cringe yebh asp aa ...</td>\n",
              "      <td>0</td>\n",
              "    </tr>\n",
              "    <tr>\n",
              "      <th>26</th>\n",
              "      <td>\\n  \\n    \\n\\n  \\n  \\n \\n \\n\\n   \\n\\n   \\n ...</td>\n",
              "      <td>0</td>\n",
              "    </tr>\n",
              "    <tr>\n",
              "      <th>27</th>\n",
              "      <td>aa a\\ntegen atte a a\\n\\nSpacetime ot ia?\\nSoin...</td>\n",
              "      <td>0</td>\n",
              "    </tr>\n",
              "    <tr>\n",
              "      <th>28</th>\n",
              "      <td>\\n  \\n  \\n\\n   \\n\\n    \\n         \\n \\n   ...</td>\n",
              "      <td>0</td>\n",
              "    </tr>\n",
              "    <tr>\n",
              "      <th>29</th>\n",
              "      <td>ee oye tom\\nee a ee\\nSTS eT ee a\\n\\n: ea  ggad...</td>\n",
              "      <td>0</td>\n",
              "    </tr>\n",
              "    <tr>\n",
              "      <th>30</th>\n",
              "      <td>\\n\\nre ai\\n\\nol\\n\\n \\n\\n-\\nPree\\n\\nPan ri Sat...</td>\n",
              "      <td>0</td>\n",
              "    </tr>\n",
              "    <tr>\n",
              "      <th>31</th>\n",
              "      <td>\\n\\nAADHAAR\\n\\n   \\n \\n  \\n \\n \\n \\n  \\n\\n \\n...</td>\n",
              "      <td>0</td>\n",
              "    </tr>\n",
              "    <tr>\n",
              "      <th>32</th>\n",
              "      <td>pfs\\n=&lt; RNY.\\n\\nAADHAAR\\n\\nwDa3\\nm BAO Mss Doe...</td>\n",
              "      <td>0</td>\n",
              "    </tr>\n",
              "    <tr>\n",
              "      <th>33</th>\n",
              "      <td>2, =. aA\\n(es.\\n\\nrexel eal\\n\\nGovernment of I...</td>\n",
              "      <td>0</td>\n",
              "    </tr>\n",
              "    <tr>\n",
              "      <th>34</th>\n",
              "      <td>\\n    \\n   \\n\\nBTOZ/GOMTZ :o1eqg puojuMeg\\n\\n...</td>\n",
              "      <td>0</td>\n",
              "    </tr>\n",
              "    <tr>\n",
              "      <th>35</th>\n",
              "      <td>AADHAAR\\n\\nRUST HOLUIMTTSS anor Frerm, Gwjilen...</td>\n",
              "      <td>0</td>\n",
              "    </tr>\n",
              "    <tr>\n",
              "      <th>36</th>\n",
              "      <td>\\\\n\\n \\n\\noO - epctnnged 2 Qa Sg\\n\\n   \\n \\n\\n...</td>\n",
              "      <td>0</td>\n",
              "    </tr>\n",
              "    <tr>\n",
              "      <th>37</th>\n",
              "      <td>\\n    \\n\\noe Uniques -Identification- Authori...</td>\n",
              "      <td>0</td>\n",
              "    </tr>\n",
              "    <tr>\n",
              "      <th>38</th>\n",
              "      <td>\\n\\n  \\n\\n \\n  \\n  \\n  \\n\\nOw!\\n\\n  \\n \\n \\n\\...</td>\n",
              "      <td>0</td>\n",
              "    </tr>\n",
              "    <tr>\n",
              "      <th>39</th>\n",
              "      <td>\\n \\n\\n  \\n  \\n\\n= . | ere | o&gt; Bate tj\\nUn...</td>\n",
              "      <td>0</td>\n",
              "    </tr>\n",
              "    <tr>\n",
              "      <th>40</th>\n",
              "      <td>weet\\n\\nGovamment of tndis AADHAAR\\n\\n \\n\\n| a...</td>\n",
              "      <td>0</td>\n",
              "    </tr>\n",
              "    <tr>\n",
              "      <th>41</th>\n",
              "      <td>\\n   \\n\\n \\n   \\n\\n  \\n   \\n   \\n\\n        ...</td>\n",
              "      <td>0</td>\n",
              "    </tr>\n",
              "    <tr>\n",
              "      <th>42</th>\n",
              "      <td>ae een -_ as\\nee ee. ek ey, ee ae\\nTape aaa Re...</td>\n",
              "      <td>0</td>\n",
              "    </tr>\n",
              "    <tr>\n",
              "      <th>43</th>\n",
              "      <td>\\n  \\n\\n  \\n\\nPawan Kumar Jain\\naH att / Yea...</td>\n",
              "      <td>0</td>\n",
              "    </tr>\n",
              "    <tr>\n",
              "      <th>44</th>\n",
              "      <td>\\n</td>\n",
              "      <td>0</td>\n",
              "    </tr>\n",
              "    <tr>\n",
              "      <th>45</th>\n",
              "      <td>AADHAAR\\n\\nBOUDATT Sono wTnsZ Haren Frergy, HR...</td>\n",
              "      <td>0</td>\n",
              "    </tr>\n",
              "    <tr>\n",
              "      <th>46</th>\n",
              "      <td>Aeormae 82h aoal, / Enrolment No 1218/13193/00...</td>\n",
              "      <td>0</td>\n",
              "    </tr>\n",
              "    <tr>\n",
              "      <th>47</th>\n",
              "      <td>op eee ey a . eo Wetter ee\\n:oo™ .\\nee\\n\\nt\\n....</td>\n",
              "      <td>0</td>\n",
              "    </tr>\n",
              "    <tr>\n",
              "      <th>48</th>\n",
              "      <td>\\n\\nvd\\ncxsnce ZN\\nee a Str) ee J! fi\\n\\nAAD...</td>\n",
              "      <td>0</td>\n",
              "    </tr>\n",
              "    <tr>\n",
              "      <th>49</th>\n",
              "      <td>ant a .\\n\\neto\\na\\n\\nee eg ie .-\\n\\n \\n\\nee — ...</td>\n",
              "      <td>0</td>\n",
              "    </tr>\n",
              "  </tbody>\n",
              "</table>\n",
              "</div>"
            ],
            "text/plain": [
              "                                                 text  label\n",
              "0   =p:\\n\\n      \\n        \\n\\n       \\n       \\n ...      0\n",
              "1    \\n\\nScanned by CamScanner\\n\\nuO, Aesienams, a...      0\n",
              "2     \\n\\n=\\n™* 4g hae et\\nwt at ss\\n\\n \\n\\nae Pe ...      0\n",
              "3     \\n\\nGOVERNMENT OFIND\\n5 Pons Kon oxy\\nPalagi...      0\n",
              "4   ZTO0ze/TOire -318q\\n\\n \\n\\nLo 4 3\\nAIxXd Uidh[...      0\n",
              "5     \\n \\n\\n    \\n\\n  \\n\\nheehee TT TTP pet a gec...      0\n",
              "6   re\\n\\n \\n\\n— - AADHAAR\\n\\n \\n\\n| WaArardo\\n\\nB...      0\n",
              "7    \\n\\ni\\naapabyt i\\n\\nfirs fale at\\n\\nJoga KUO ...      0\n",
              "8      \\n\\nMatomacd Sab Host, ‘coalinant No.: ee e...      0\n",
              "9    \\n\\n \\n \\n \\n \\n\\n \\n \\n\\n\"er OS ox\\n\\na\\nec ...      0\n",
              "10    \\n      \\n  \\n \\n    \\n \\n  \\n       \\n\\n\" z...      0\n",
              "11    \\n\\nsez Unique tdentification-Authonity.of-I...      0\n",
              "12   \\n\\n62525/Enrolment No. 0000/98003/14 102\\n\\n...      0\n",
              "13     \\n\\n|\\na A ae A\\nPee re\\n\\n \\n\\nAacomeded s...      0\n",
              "14  mr ——\\n\\nne xt . ei\\ncea ZW\\n\\nGoverment of tn...      0\n",
              "15  Br\\n\\n \\n\\n \\n\\nPOLINA\\n\\nsree |\\na e\\n\\n \\n\\n...      0\n",
              "16   \\n \\n  \\n\\n“usar @ wainfénrolment No. 21 29/8...      0\n",
              "17  —\\n\\ni ft\\n-\\ni -_\\n=\\nSl ed\\n—— —=\\na -\\n\\n \\...      0\n",
              "18   \\n\\n \\n\\nBaie a “Sga03 als\\nSET raat or nos\\n...      0\n",
              "19   \\n\\n \\n\\nGanunred Merete n ih\\n\\nGopal Chinna...      0\n",
              "20      \\n\\noagas/Enrolment No: 2052/30724 164 014...      0\n",
              "21   \\n\\nUnique dentification Authority -of-india—...      0\n",
              "22    \\n\\nAM Ge Es See ee aia\\nee, ee r\\n\\n- ‘\\n\"u...      0\n",
              "23   \\n\\n   \\n\\nHea ees aC overnment nt LO\\n: AAT ...      0\n",
              "24  $\\n\\nde wer’ Seeg.2 Your Anitnaar NOt :\\n\\n‘97...      0\n",
              "25   \\n\\n3\\n\\npeng eit\\n\\naera cringe yebh asp aa ...      0\n",
              "26     \\n  \\n    \\n\\n  \\n  \\n \\n \\n\\n   \\n\\n   \\n ...      0\n",
              "27  aa a\\ntegen atte a a\\n\\nSpacetime ot ia?\\nSoin...      0\n",
              "28      \\n  \\n  \\n\\n   \\n\\n    \\n         \\n \\n   ...      0\n",
              "29  ee oye tom\\nee a ee\\nSTS eT ee a\\n\\n: ea  ggad...      0\n",
              "30   \\n\\nre ai\\n\\nol\\n\\n \\n\\n-\\nPree\\n\\nPan ri Sat...      0\n",
              "31   \\n\\nAADHAAR\\n\\n   \\n \\n  \\n \\n \\n \\n  \\n\\n \\n...      0\n",
              "32  pfs\\n=< RNY.\\n\\nAADHAAR\\n\\nwDa3\\nm BAO Mss Doe...      0\n",
              "33  2, =. aA\\n(es.\\n\\nrexel eal\\n\\nGovernment of I...      0\n",
              "34   \\n    \\n   \\n\\nBTOZ/GOMTZ :o1eqg puojuMeg\\n\\n...      0\n",
              "35  AADHAAR\\n\\nRUST HOLUIMTTSS anor Frerm, Gwjilen...      0\n",
              "36  \\\\n\\n \\n\\noO - epctnnged 2 Qa Sg\\n\\n   \\n \\n\\n...      0\n",
              "37   \\n    \\n\\noe Uniques -Identification- Authori...      0\n",
              "38   \\n\\n  \\n\\n \\n  \\n  \\n  \\n\\nOw!\\n\\n  \\n \\n \\n\\...      0\n",
              "39     \\n \\n\\n  \\n  \\n\\n= . | ere | o> Bate tj\\nUn...      0\n",
              "40  weet\\n\\nGovamment of tndis AADHAAR\\n\\n \\n\\n| a...      0\n",
              "41     \\n   \\n\\n \\n   \\n\\n  \\n   \\n   \\n\\n        ...      0\n",
              "42  ae een -_ as\\nee ee. ek ey, ee ae\\nTape aaa Re...      0\n",
              "43    \\n  \\n\\n  \\n\\nPawan Kumar Jain\\naH att / Yea...      0\n",
              "44                                                \\n\n",
              "      0\n",
              "45  AADHAAR\\n\\nBOUDATT Sono wTnsZ Haren Frergy, HR...      0\n",
              "46  Aeormae 82h aoal, / Enrolment No 1218/13193/00...      0\n",
              "47  op eee ey a . eo Wetter ee\\n:oo™ .\\nee\\n\\nt\\n....      0\n",
              "48    \\n\\nvd\\ncxsnce ZN\\nee a Str) ee J! fi\\n\\nAAD...      0\n",
              "49  ant a .\\n\\neto\\na\\n\\nee eg ie .-\\n\\n \\n\\nee — ...      0"
            ]
          },
          "metadata": {
            "tags": []
          },
          "execution_count": 5
        }
      ]
    },
    {
      "cell_type": "code",
      "metadata": {
        "id": "RaqETivHXevK"
      },
      "source": [
        "# ['\\n','-','_','=',',','.','\"','“',':','*']"
      ],
      "execution_count": 6,
      "outputs": []
    },
    {
      "cell_type": "code",
      "metadata": {
        "id": "dWFMcUjiT0b1",
        "outputId": "02b22584-03f0-45f2-c1bf-3975b84f54c5",
        "colab": {
          "base_uri": "https://localhost:8080/",
          "height": 102
        }
      },
      "source": [
        "df['text'].iloc[0]"
      ],
      "execution_count": 7,
      "outputs": [
        {
          "output_type": "execute_result",
          "data": {
            "application/vnd.google.colaboratory.intrinsic+json": {
              "type": "string"
            },
            "text/plain": [
              "'=p:\\n\\n      \\n        \\n\\n       \\n       \\n       \\n   \\n \\n         \\n    \\n    \\n  \\n\\nspat\\n\\n  \\n \\n\\n7 szeoaait2\\n\\nLas\\noF\\n\\nEe\\n\\nUF340011386iN -\\n34091138 _\\n\\n9396 3982 7286\\nwErG - PSPSgO hy\\n\\n \\n\\n_ = Lae\\n\\n  \\n\\nSad do\\nThadimarri sakshmidevi\\n\\nnn!\\n\\n#, SOUS 0435 y8er Year of Birth: 1953 32\\n=)/Femate =\\n\\neet\\n\\n  \\n\\n- $B 2326 8982 7286 =\\nSQrs - TEP HO ey\\n\\n   \\n\\n \\n\\nMare Some / Enrollment No. : 1080/10243/01010 a.\\n\\n. ) od\\nTo = 3F vi\\n__Whadimarri Lakshmidev Ik r,\\n\\nHd © . ft\\n\\n; ee a = \" & po\\n\\x0c'"
            ]
          },
          "metadata": {
            "tags": []
          },
          "execution_count": 7
        }
      ]
    },
    {
      "cell_type": "code",
      "metadata": {
        "id": "2RZbpnKdncuw"
      },
      "source": [
        "import re\n",
        "from nltk.corpus import stopwords\n",
        "from nltk.stem import PorterStemmer"
      ],
      "execution_count": 8,
      "outputs": []
    },
    {
      "cell_type": "code",
      "metadata": {
        "id": "I0neb8p9Yu0M",
        "outputId": "5d239a57-8236-46ba-cbca-dd1e3e91e42b",
        "colab": {
          "base_uri": "https://localhost:8080/"
        }
      },
      "source": [
        "import nltk\n",
        "nltk.download('stopwords')"
      ],
      "execution_count": 9,
      "outputs": [
        {
          "output_type": "stream",
          "text": [
            "[nltk_data] Downloading package stopwords to /root/nltk_data...\n",
            "[nltk_data]   Unzipping corpora/stopwords.zip.\n"
          ],
          "name": "stdout"
        },
        {
          "output_type": "execute_result",
          "data": {
            "text/plain": [
              "True"
            ]
          },
          "metadata": {
            "tags": []
          },
          "execution_count": 9
        }
      ]
    },
    {
      "cell_type": "code",
      "metadata": {
        "id": "a_NUS9VXncuz"
      },
      "source": [
        "sw = set(stopwords.words('english'))\n",
        "ps = PorterStemmer()"
      ],
      "execution_count": 10,
      "outputs": []
    },
    {
      "cell_type": "code",
      "metadata": {
        "id": "m9W7uWTWncu3"
      },
      "source": [
        "def clean_text(sample):\n",
        "    sample = sample.lower()\n",
        "    sample = re.sub(\"[^a-zA-Z0-9]+\", \" \", sample)\n",
        "    \n",
        "    sample = sample.split()\n",
        "    \n",
        "    sample = [ps.stem(s) for s in sample if s not in sw] # list comprehension\n",
        "    \n",
        "    sample = \" \".join(sample)\n",
        "    \n",
        "    return sample"
      ],
      "execution_count": 11,
      "outputs": []
    },
    {
      "cell_type": "code",
      "metadata": {
        "id": "S8WzHM0Encu9"
      },
      "source": [
        "df['text']=df['text'].apply(clean_text)"
      ],
      "execution_count": 12,
      "outputs": []
    },
    {
      "cell_type": "code",
      "metadata": {
        "id": "B1y9v8XxncvE",
        "outputId": "55c15a5c-8c6f-4e18-b4ec-c4215bf7b283",
        "colab": {
          "base_uri": "https://localhost:8080/",
          "height": 202
        }
      },
      "source": [
        "df.head()"
      ],
      "execution_count": 13,
      "outputs": [
        {
          "output_type": "execute_result",
          "data": {
            "text/html": [
              "<div>\n",
              "<style scoped>\n",
              "    .dataframe tbody tr th:only-of-type {\n",
              "        vertical-align: middle;\n",
              "    }\n",
              "\n",
              "    .dataframe tbody tr th {\n",
              "        vertical-align: top;\n",
              "    }\n",
              "\n",
              "    .dataframe thead th {\n",
              "        text-align: right;\n",
              "    }\n",
              "</style>\n",
              "<table border=\"1\" class=\"dataframe\">\n",
              "  <thead>\n",
              "    <tr style=\"text-align: right;\">\n",
              "      <th></th>\n",
              "      <th>text</th>\n",
              "      <th>label</th>\n",
              "    </tr>\n",
              "  </thead>\n",
              "  <tbody>\n",
              "    <tr>\n",
              "      <th>0</th>\n",
              "      <td>p spat 7 szeoaait2 la ee uf340011386in 3409113...</td>\n",
              "      <td>0</td>\n",
              "    </tr>\n",
              "    <tr>\n",
              "      <th>1</th>\n",
              "      <td>scan camscann uo aesienam awa houngi sa cumaam...</td>\n",
              "      <td>0</td>\n",
              "    </tr>\n",
              "    <tr>\n",
              "      <th>2</th>\n",
              "      <td>4g hae et wt ss ae pe ee se ome eek oe nr ra r...</td>\n",
              "      <td>0</td>\n",
              "    </tr>\n",
              "    <tr>\n",
              "      <th>3</th>\n",
              "      <td>govern ofind 5 pon kon oxi palagiri ganga anus...</td>\n",
              "      <td>0</td>\n",
              "    </tr>\n",
              "    <tr>\n",
              "      <th>4</th>\n",
              "      <td>zto0z toir 318q lo 4 3 aixxd uidh nh uniqu ide...</td>\n",
              "      <td>0</td>\n",
              "    </tr>\n",
              "  </tbody>\n",
              "</table>\n",
              "</div>"
            ],
            "text/plain": [
              "                                                text  label\n",
              "0  p spat 7 szeoaait2 la ee uf340011386in 3409113...      0\n",
              "1  scan camscann uo aesienam awa houngi sa cumaam...      0\n",
              "2  4g hae et wt ss ae pe ee se ome eek oe nr ra r...      0\n",
              "3  govern ofind 5 pon kon oxi palagiri ganga anus...      0\n",
              "4  zto0z toir 318q lo 4 3 aixxd uidh nh uniqu ide...      0"
            ]
          },
          "metadata": {
            "tags": []
          },
          "execution_count": 13
        }
      ]
    },
    {
      "cell_type": "code",
      "metadata": {
        "id": "NiXcMWI9aucI"
      },
      "source": [
        ""
      ],
      "execution_count": 13,
      "outputs": []
    },
    {
      "cell_type": "code",
      "metadata": {
        "id": "uUcJeys7ncvH"
      },
      "source": [
        "corpus = df['text'].values"
      ],
      "execution_count": 14,
      "outputs": []
    },
    {
      "cell_type": "code",
      "metadata": {
        "id": "X8NnmZ9xncvL"
      },
      "source": [
        "from sklearn.feature_extraction.text import CountVectorizer, TfidfTransformer"
      ],
      "execution_count": 15,
      "outputs": []
    },
    {
      "cell_type": "code",
      "metadata": {
        "id": "We5gLlI0ncvN"
      },
      "source": [
        "cv = CountVectorizer(max_df = 0.5, max_features=1000)"
      ],
      "execution_count": 16,
      "outputs": []
    },
    {
      "cell_type": "code",
      "metadata": {
        "id": "Q8PBOf6HncvO",
        "outputId": "8f343587-1bed-4fd8-f936-88b85aa79139",
        "colab": {
          "base_uri": "https://localhost:8080/"
        }
      },
      "source": [
        "corpus.shape"
      ],
      "execution_count": 17,
      "outputs": [
        {
          "output_type": "execute_result",
          "data": {
            "text/plain": [
              "(268,)"
            ]
          },
          "metadata": {
            "tags": []
          },
          "execution_count": 17
        }
      ]
    },
    {
      "cell_type": "code",
      "metadata": {
        "id": "A3ySqM1LncvQ"
      },
      "source": [
        "X = cv.fit_transform(corpus)"
      ],
      "execution_count": 18,
      "outputs": []
    },
    {
      "cell_type": "code",
      "metadata": {
        "id": "Mwp3yw4rncvU"
      },
      "source": [
        "tfidf = TfidfTransformer()"
      ],
      "execution_count": 19,
      "outputs": []
    },
    {
      "cell_type": "code",
      "metadata": {
        "id": "CQDT7STxncvV"
      },
      "source": [
        "X = tfidf.fit_transform(X)"
      ],
      "execution_count": 20,
      "outputs": []
    },
    {
      "cell_type": "code",
      "metadata": {
        "id": "6EzidIxcncvV"
      },
      "source": [
        "y=df['label'].values"
      ],
      "execution_count": 21,
      "outputs": []
    },
    {
      "cell_type": "code",
      "metadata": {
        "id": "3LkdD0svcm_c",
        "outputId": "a7a7265f-819b-4dbd-8f23-1056303cf802",
        "colab": {
          "base_uri": "https://localhost:8080/"
        }
      },
      "source": [
        "X.shape"
      ],
      "execution_count": 22,
      "outputs": [
        {
          "output_type": "execute_result",
          "data": {
            "text/plain": [
              "(268, 1000)"
            ]
          },
          "metadata": {
            "tags": []
          },
          "execution_count": 22
        }
      ]
    },
    {
      "cell_type": "code",
      "metadata": {
        "id": "zb6IuVg0ncvW"
      },
      "source": [
        "from sklearn.naive_bayes import MultinomialNB"
      ],
      "execution_count": 36,
      "outputs": []
    },
    {
      "cell_type": "code",
      "metadata": {
        "id": "3vzbixiWncvX"
      },
      "source": [
        "nb=MultinomialNB()"
      ],
      "execution_count": 37,
      "outputs": []
    },
    {
      "cell_type": "code",
      "metadata": {
        "id": "InWhqHXPOkPt",
        "outputId": "c1b000c2-eaff-41d0-ac17-563827817c9f",
        "colab": {
          "base_uri": "https://localhost:8080/"
        }
      },
      "source": [
        "accuracy=[]\n",
        "p=[]\n",
        "r=[]    \n",
        "f1=[]\n",
        "for (train, test), i in zip(cv.split(X, y), range(5)):\n",
        "    print(test,train)\n",
        "    nb.fit(X[train], y[train])\n",
        "    y_pred=nb.predict(X[test])\n",
        "    y_pred_train=nb.predict(X[train])\n",
        "    print(accuracy_score(y_pred_train,y[train]))\n",
        "    accuracy.append(accuracy_score(y_pred,y[test]))\n",
        "    f1.append(f1_score(y_pred,y[test],average='weighted'))\n",
        "    p.append(precision_score(y_pred,y[test],average='weighted'))\n",
        "    r.append(recall_score(y_pred,y[test],average='weighted'))"
      ],
      "execution_count": 60,
      "outputs": [
        {
          "output_type": "stream",
          "text": [
            "[  5   7   9  19  25  35  38  41  46  48  50  52  58  60  74  77  78  88\n",
            "  95 101 109 113 115 116 120 125 132 138 140 147 153 157 159 171 174 177\n",
            " 188 192 194 196 200 202 203 209 220 226 227 230 232 252 253 254 255 264] [  0   1   2   3   4   6   8  10  11  12  13  14  15  16  17  18  20  21\n",
            "  22  23  24  26  27  28  29  30  31  32  33  34  36  37  39  40  42  43\n",
            "  44  45  47  49  51  53  54  55  56  57  59  61  62  63  64  65  66  67\n",
            "  68  69  70  71  72  73  75  76  79  80  81  82  83  84  85  86  87  89\n",
            "  90  91  92  93  94  96  97  98  99 100 102 103 104 105 106 107 108 110\n",
            " 111 112 114 117 118 119 121 122 123 124 126 127 128 129 130 131 133 134\n",
            " 135 136 137 139 141 142 143 144 145 146 148 149 150 151 152 154 155 156\n",
            " 158 160 161 162 163 164 165 166 167 168 169 170 172 173 175 176 178 179\n",
            " 180 181 182 183 184 185 186 187 189 190 191 193 195 197 198 199 201 204\n",
            " 205 206 207 208 210 211 212 213 214 215 216 217 218 219 221 222 223 224\n",
            " 225 228 229 231 233 234 235 236 237 238 239 240 241 242 243 244 245 246\n",
            " 247 248 249 250 251 256 257 258 259 260 261 262 263 265 266 267]\n",
            "0.8644859813084113\n",
            "[  8  10  18  20  22  30  32  33  43  45  55  59  63  67  68  72  85  86\n",
            "  93 103 105 108 111 118 123 129 133 141 143 148 154 156 160 161 166 168\n",
            " 180 190 197 199 201 211 213 214 217 219 224 225 229 231 250 256 260 262] [  0   1   2   3   4   5   6   7   9  11  12  13  14  15  16  17  19  21\n",
            "  23  24  25  26  27  28  29  31  34  35  36  37  38  39  40  41  42  44\n",
            "  46  47  48  49  50  51  52  53  54  56  57  58  60  61  62  64  65  66\n",
            "  69  70  71  73  74  75  76  77  78  79  80  81  82  83  84  87  88  89\n",
            "  90  91  92  94  95  96  97  98  99 100 101 102 104 106 107 109 110 112\n",
            " 113 114 115 116 117 119 120 121 122 124 125 126 127 128 130 131 132 134\n",
            " 135 136 137 138 139 140 142 144 145 146 147 149 150 151 152 153 155 157\n",
            " 158 159 162 163 164 165 167 169 170 171 172 173 174 175 176 177 178 179\n",
            " 181 182 183 184 185 186 187 188 189 191 192 193 194 195 196 198 200 202\n",
            " 203 204 205 206 207 208 209 210 212 215 216 218 220 221 222 223 226 227\n",
            " 228 230 232 233 234 235 236 237 238 239 240 241 242 243 244 245 246 247\n",
            " 248 249 251 252 253 254 255 257 258 259 261 263 264 265 266 267]\n",
            "0.8691588785046729\n",
            "[  0   6  12  16  24  26  28  31  34  49  56  57  62  64  69  79  96  97\n",
            "  99 102 104 106 107 117 121 122 124 126 137 139 149 150 151 152 169 170\n",
            " 182 184 186 187 204 205 212 221 223 235 240 245 246 249 251 259 263 267] [  1   2   3   4   5   7   8   9  10  11  13  14  15  17  18  19  20  21\n",
            "  22  23  25  27  29  30  32  33  35  36  37  38  39  40  41  42  43  44\n",
            "  45  46  47  48  50  51  52  53  54  55  58  59  60  61  63  65  66  67\n",
            "  68  70  71  72  73  74  75  76  77  78  80  81  82  83  84  85  86  87\n",
            "  88  89  90  91  92  93  94  95  98 100 101 103 105 108 109 110 111 112\n",
            " 113 114 115 116 118 119 120 123 125 127 128 129 130 131 132 133 134 135\n",
            " 136 138 140 141 142 143 144 145 146 147 148 153 154 155 156 157 158 159\n",
            " 160 161 162 163 164 165 166 167 168 171 172 173 174 175 176 177 178 179\n",
            " 180 181 183 185 188 189 190 191 192 193 194 195 196 197 198 199 200 201\n",
            " 202 203 206 207 208 209 210 211 213 214 215 216 217 218 219 220 222 224\n",
            " 225 226 227 228 229 230 231 232 233 234 236 237 238 239 241 242 243 244\n",
            " 247 248 250 252 253 254 255 256 257 258 260 261 262 264 265 266]\n",
            "0.8551401869158879\n",
            "[  1   3  11  17  21  29  36  37  42  47  53  54  65  75  76  81  82  84\n",
            "  91  92  94 100 112 114 119 127 130 135 136 145 155 162 167 172 175 176\n",
            " 191 193 195 198 207 208 216 228 233 234 236 241 244 247 258 265 266] [  0   2   4   5   6   7   8   9  10  12  13  14  15  16  18  19  20  22\n",
            "  23  24  25  26  27  28  30  31  32  33  34  35  38  39  40  41  43  44\n",
            "  45  46  48  49  50  51  52  55  56  57  58  59  60  61  62  63  64  66\n",
            "  67  68  69  70  71  72  73  74  77  78  79  80  83  85  86  87  88  89\n",
            "  90  93  95  96  97  98  99 101 102 103 104 105 106 107 108 109 110 111\n",
            " 113 115 116 117 118 120 121 122 123 124 125 126 128 129 131 132 133 134\n",
            " 137 138 139 140 141 142 143 144 146 147 148 149 150 151 152 153 154 156\n",
            " 157 158 159 160 161 163 164 165 166 168 169 170 171 173 174 177 178 179\n",
            " 180 181 182 183 184 185 186 187 188 189 190 192 194 196 197 199 200 201\n",
            " 202 203 204 205 206 209 210 211 212 213 214 215 217 218 219 220 221 222\n",
            " 223 224 225 226 227 229 230 231 232 235 237 238 239 240 242 243 245 246\n",
            " 248 249 250 251 252 253 254 255 256 257 259 260 261 262 263 264 267]\n",
            "0.8790697674418605\n",
            "[  2   4  13  14  15  23  27  39  40  44  51  61  66  70  71  73  80  83\n",
            "  87  89  90  98 110 128 131 134 142 144 146 158 163 164 165 173 178 179\n",
            " 181 183 185 189 206 210 215 218 222 237 238 239 242 243 248 257 261] [  0   1   3   5   6   7   8   9  10  11  12  16  17  18  19  20  21  22\n",
            "  24  25  26  28  29  30  31  32  33  34  35  36  37  38  41  42  43  45\n",
            "  46  47  48  49  50  52  53  54  55  56  57  58  59  60  62  63  64  65\n",
            "  67  68  69  72  74  75  76  77  78  79  81  82  84  85  86  88  91  92\n",
            "  93  94  95  96  97  99 100 101 102 103 104 105 106 107 108 109 111 112\n",
            " 113 114 115 116 117 118 119 120 121 122 123 124 125 126 127 129 130 132\n",
            " 133 135 136 137 138 139 140 141 143 145 147 148 149 150 151 152 153 154\n",
            " 155 156 157 159 160 161 162 166 167 168 169 170 171 172 174 175 176 177\n",
            " 180 182 184 186 187 188 190 191 192 193 194 195 196 197 198 199 200 201\n",
            " 202 203 204 205 207 208 209 211 212 213 214 216 217 219 220 221 223 224\n",
            " 225 226 227 228 229 230 231 232 233 234 235 236 240 241 244 245 246 247\n",
            " 249 250 251 252 253 254 255 256 258 259 260 262 263 264 265 266 267]\n",
            "0.8651162790697674\n"
          ],
          "name": "stdout"
        },
        {
          "output_type": "stream",
          "text": [
            "/usr/local/lib/python3.7/dist-packages/sklearn/metrics/_classification.py:1272: UndefinedMetricWarning: Recall is ill-defined and being set to 0.0 in labels with no true samples. Use `zero_division` parameter to control this behavior.\n",
            "  _warn_prf(average, modifier, msg_start, len(result))\n",
            "/usr/local/lib/python3.7/dist-packages/sklearn/metrics/_classification.py:1272: UndefinedMetricWarning: Recall is ill-defined and being set to 0.0 in labels with no true samples. Use `zero_division` parameter to control this behavior.\n",
            "  _warn_prf(average, modifier, msg_start, len(result))\n",
            "/usr/local/lib/python3.7/dist-packages/sklearn/metrics/_classification.py:1272: UndefinedMetricWarning: Recall is ill-defined and being set to 0.0 in labels with no true samples. Use `zero_division` parameter to control this behavior.\n",
            "  _warn_prf(average, modifier, msg_start, len(result))\n",
            "/usr/local/lib/python3.7/dist-packages/sklearn/metrics/_classification.py:1272: UndefinedMetricWarning: Recall is ill-defined and being set to 0.0 in labels with no true samples. Use `zero_division` parameter to control this behavior.\n",
            "  _warn_prf(average, modifier, msg_start, len(result))\n",
            "/usr/local/lib/python3.7/dist-packages/sklearn/metrics/_classification.py:1272: UndefinedMetricWarning: Recall is ill-defined and being set to 0.0 in labels with no true samples. Use `zero_division` parameter to control this behavior.\n",
            "  _warn_prf(average, modifier, msg_start, len(result))\n"
          ],
          "name": "stderr"
        }
      ]
    },
    {
      "cell_type": "code",
      "metadata": {
        "id": "CKmlGzroOkHY",
        "outputId": "c0b4b898-f4b1-4e03-d889-993520afba97",
        "colab": {
          "base_uri": "https://localhost:8080/"
        }
      },
      "source": [
        "np.mean(f1),np.mean(r),np.mean(p),np.mean(accuracy)"
      ],
      "execution_count": 61,
      "outputs": [
        {
          "output_type": "execute_result",
          "data": {
            "text/plain": [
              "(0.7049734260865043,\n",
              " 0.6753319357092942,\n",
              " 0.7714711051817972,\n",
              " 0.6753319357092942)"
            ]
          },
          "metadata": {
            "tags": []
          },
          "execution_count": 61
        }
      ]
    },
    {
      "cell_type": "code",
      "metadata": {
        "id": "ODV6e_-DOtsw"
      },
      "source": [
        ""
      ],
      "execution_count": null,
      "outputs": []
    },
    {
      "cell_type": "code",
      "metadata": {
        "id": "rpwi3gsgOtgI"
      },
      "source": [
        ""
      ],
      "execution_count": null,
      "outputs": []
    },
    {
      "cell_type": "code",
      "metadata": {
        "id": "xHuUzFtqOrX5"
      },
      "source": [
        ""
      ],
      "execution_count": null,
      "outputs": []
    },
    {
      "cell_type": "code",
      "metadata": {
        "id": "6XhksJU7cRlS"
      },
      "source": [
        "from sklearn.model_selection import StratifiedKFold"
      ],
      "execution_count": 38,
      "outputs": []
    },
    {
      "cell_type": "code",
      "metadata": {
        "id": "ZRyYlxV-cRd2"
      },
      "source": [
        "cv = StratifiedKFold(n_splits=5, random_state=40, shuffle=True)"
      ],
      "execution_count": 39,
      "outputs": []
    },
    {
      "cell_type": "code",
      "metadata": {
        "id": "dwc6s_cicRVF"
      },
      "source": [
        "from sklearn.metrics import *"
      ],
      "execution_count": 40,
      "outputs": []
    },
    {
      "cell_type": "code",
      "metadata": {
        "id": "1eVOkTfodM0d",
        "outputId": "66b2c478-e3a0-451d-b7b6-37f917ffebec",
        "colab": {
          "base_uri": "https://localhost:8080/"
        }
      },
      "source": [
        "nb.fit(X,y)"
      ],
      "execution_count": 41,
      "outputs": [
        {
          "output_type": "execute_result",
          "data": {
            "text/plain": [
              "MultinomialNB(alpha=1.0, class_prior=None, fit_prior=True)"
            ]
          },
          "metadata": {
            "tags": []
          },
          "execution_count": 41
        }
      ]
    },
    {
      "cell_type": "code",
      "metadata": {
        "id": "rit6pmtZdUEv"
      },
      "source": [
        "y_train_predict=nb.predict(X)"
      ],
      "execution_count": 42,
      "outputs": []
    },
    {
      "cell_type": "code",
      "metadata": {
        "id": "FfMUFrgPdT49",
        "outputId": "83796532-c932-44f0-e076-ccf8582e1e53",
        "colab": {
          "base_uri": "https://localhost:8080/"
        }
      },
      "source": [
        "y_train_predict"
      ],
      "execution_count": 43,
      "outputs": [
        {
          "output_type": "execute_result",
          "data": {
            "text/plain": [
              "array([0, 0, 0, 0, 0, 0, 0, 0, 0, 0, 0, 0, 0, 0, 0, 0, 0, 0, 0, 0, 0, 0,\n",
              "       0, 0, 0, 0, 0, 0, 0, 0, 0, 0, 0, 0, 0, 0, 0, 0, 0, 0, 0, 0, 0, 0,\n",
              "       0, 0, 0, 0, 0, 0, 0, 0, 1, 0, 2, 0, 3, 2, 1, 0, 0, 0, 2, 0, 0, 1,\n",
              "       0, 0, 2, 2, 2, 2, 2, 2, 2, 2, 2, 2, 2, 2, 2, 2, 2, 2, 2, 2, 2, 2,\n",
              "       2, 2, 2, 2, 2, 2, 2, 2, 2, 2, 2, 2, 2, 2, 2, 2, 2, 2, 2, 2, 2, 2,\n",
              "       2, 2, 2, 2, 2, 2, 2, 2, 2, 3, 3, 3, 3, 3, 3, 3, 3, 3, 3, 3, 3, 3,\n",
              "       3, 2, 3, 3, 0, 3, 0, 3, 3, 3, 3, 3, 0, 3, 3, 3, 3, 4, 4, 4, 4, 4,\n",
              "       4, 6, 4, 4, 4, 4, 6, 4, 4, 4, 4, 4, 4, 4, 4, 4, 4, 4, 4, 6, 4, 4,\n",
              "       4, 0, 4, 4, 4, 6, 4, 6, 4, 4, 4, 4, 4, 6, 4, 6, 4, 4, 4, 4, 4, 4,\n",
              "       4, 4, 0, 5, 5, 2, 5, 5, 0, 5, 5, 0, 5, 2, 5, 5, 5, 5, 5, 6, 6, 6,\n",
              "       6, 6, 6, 6, 6, 6, 6, 6, 6, 6, 6, 6, 6, 6, 6, 6, 6, 6, 6, 6, 4, 6,\n",
              "       6, 6, 6, 6, 6, 4, 6, 6, 6, 6, 4, 6, 6, 6, 6, 4, 6, 6, 6, 6, 4, 4,\n",
              "       6, 6, 6, 6])"
            ]
          },
          "metadata": {
            "tags": []
          },
          "execution_count": 43
        }
      ]
    },
    {
      "cell_type": "code",
      "metadata": {
        "id": "PfKELZd2dzV5",
        "outputId": "d29983a2-1176-480e-a02b-bbbeb00ddf69",
        "colab": {
          "base_uri": "https://localhost:8080/"
        }
      },
      "source": [
        "f1_score(y_train_predict,y,average='weighted')"
      ],
      "execution_count": 44,
      "outputs": [
        {
          "output_type": "execute_result",
          "data": {
            "text/plain": [
              "0.8774572919890231"
            ]
          },
          "metadata": {
            "tags": []
          },
          "execution_count": 44
        }
      ]
    },
    {
      "cell_type": "code",
      "metadata": {
        "id": "SRHDlvhoduVi"
      },
      "source": [
        "# from sklearn.utils import shuffle\n",
        "# X, y = shuffle(X, y)"
      ],
      "execution_count": 45,
      "outputs": []
    },
    {
      "cell_type": "code",
      "metadata": {
        "id": "3iCtyeiKh-ZO"
      },
      "source": [
        "from sklearn.linear_model import LogisticRegression"
      ],
      "execution_count": 46,
      "outputs": []
    },
    {
      "cell_type": "code",
      "metadata": {
        "id": "Bdj7FBs-h-Rz"
      },
      "source": [
        "lr=LogisticRegression()"
      ],
      "execution_count": 24,
      "outputs": []
    },
    {
      "cell_type": "code",
      "metadata": {
        "id": "kw0gsXd-GzW8"
      },
      "source": [
        "from sklearn import pipeline"
      ],
      "execution_count": 25,
      "outputs": []
    },
    {
      "cell_type": "code",
      "metadata": {
        "id": "vpTayHnNHQqH"
      },
      "source": [
        "from sklearn.model_selection import GridSearchCV"
      ],
      "execution_count": 65,
      "outputs": []
    },
    {
      "cell_type": "markdown",
      "metadata": {
        "id": "h1xI2nK-j-B6"
      },
      "source": [
        ""
      ]
    },
    {
      "cell_type": "code",
      "metadata": {
        "id": "tkNEELZhOf4W"
      },
      "source": [
        ""
      ],
      "execution_count": null,
      "outputs": []
    },
    {
      "cell_type": "code",
      "metadata": {
        "id": "wv141LKKOfvc"
      },
      "source": [
        ""
      ],
      "execution_count": null,
      "outputs": []
    },
    {
      "cell_type": "code",
      "metadata": {
        "id": "U6fGH-jKOflH"
      },
      "source": [
        ""
      ],
      "execution_count": null,
      "outputs": []
    },
    {
      "cell_type": "code",
      "metadata": {
        "id": "VKvRxsGWOfNW"
      },
      "source": [
        ""
      ],
      "execution_count": null,
      "outputs": []
    },
    {
      "cell_type": "code",
      "metadata": {
        "id": "ouJDuRqeGyFx",
        "outputId": "9f568c29-895e-4e36-e7cf-58d68004e442",
        "colab": {
          "base_uri": "https://localhost:8080/",
          "height": 1000
        }
      },
      "source": [
        "max_iter = range(100, 500)\n",
        "solver = ['lbfgs', 'newton-cg', 'liblinear']\n",
        "warm_start = [True, False]\n",
        "C = np.arange(0, 1, 0.01)\n",
        "random_grid ={\n",
        "    'max_iter' : max_iter,\n",
        "    'warm_start' : warm_start,\n",
        "    'solver' : solver,\n",
        "    'C' : C,\n",
        "}\n",
        "\n",
        "random_estimator = GridSearchCV(LogisticRegression(), random_grid,scoring='accuracy')\n",
        "\n",
        "random_estimator.fit(X, y)"
      ],
      "execution_count": 72,
      "outputs": [
        {
          "output_type": "stream",
          "text": [
            "/usr/local/lib/python3.7/dist-packages/sklearn/linear_model/_logistic.py:935: RuntimeWarning: divide by zero encountered in double_scalars\n",
            "  args=(X, target, 1. / C, sample_weight),\n",
            "/usr/local/lib/python3.7/dist-packages/sklearn/linear_model/_logistic.py:301: RuntimeWarning: invalid value encountered in double_scalars\n",
            "  loss += 0.5 * alpha * squared_norm(w)\n",
            "/usr/local/lib/python3.7/dist-packages/sklearn/linear_model/_logistic.py:353: RuntimeWarning: invalid value encountered in multiply\n",
            "  grad[:, :n_features] += alpha * w\n",
            "/usr/local/lib/python3.7/dist-packages/sklearn/linear_model/_logistic.py:940: ConvergenceWarning: lbfgs failed to converge (status=2):\n",
            "ABNORMAL_TERMINATION_IN_LNSRCH.\n",
            "\n",
            "Increase the number of iterations (max_iter) or scale the data as shown in:\n",
            "    https://scikit-learn.org/stable/modules/preprocessing.html\n",
            "Please also refer to the documentation for alternative solver options:\n",
            "    https://scikit-learn.org/stable/modules/linear_model.html#logistic-regression\n",
            "  extra_warning_msg=_LOGISTIC_SOLVER_CONVERGENCE_MSG)\n",
            "/usr/local/lib/python3.7/dist-packages/sklearn/linear_model/_logistic.py:935: RuntimeWarning: divide by zero encountered in double_scalars\n",
            "  args=(X, target, 1. / C, sample_weight),\n",
            "/usr/local/lib/python3.7/dist-packages/sklearn/linear_model/_logistic.py:301: RuntimeWarning: invalid value encountered in double_scalars\n",
            "  loss += 0.5 * alpha * squared_norm(w)\n",
            "/usr/local/lib/python3.7/dist-packages/sklearn/linear_model/_logistic.py:353: RuntimeWarning: invalid value encountered in multiply\n",
            "  grad[:, :n_features] += alpha * w\n",
            "/usr/local/lib/python3.7/dist-packages/sklearn/linear_model/_logistic.py:940: ConvergenceWarning: lbfgs failed to converge (status=2):\n",
            "ABNORMAL_TERMINATION_IN_LNSRCH.\n",
            "\n",
            "Increase the number of iterations (max_iter) or scale the data as shown in:\n",
            "    https://scikit-learn.org/stable/modules/preprocessing.html\n",
            "Please also refer to the documentation for alternative solver options:\n",
            "    https://scikit-learn.org/stable/modules/linear_model.html#logistic-regression\n",
            "  extra_warning_msg=_LOGISTIC_SOLVER_CONVERGENCE_MSG)\n",
            "/usr/local/lib/python3.7/dist-packages/sklearn/linear_model/_logistic.py:935: RuntimeWarning: divide by zero encountered in double_scalars\n",
            "  args=(X, target, 1. / C, sample_weight),\n",
            "/usr/local/lib/python3.7/dist-packages/sklearn/linear_model/_logistic.py:301: RuntimeWarning: invalid value encountered in double_scalars\n",
            "  loss += 0.5 * alpha * squared_norm(w)\n",
            "/usr/local/lib/python3.7/dist-packages/sklearn/linear_model/_logistic.py:353: RuntimeWarning: invalid value encountered in multiply\n",
            "  grad[:, :n_features] += alpha * w\n",
            "/usr/local/lib/python3.7/dist-packages/sklearn/linear_model/_logistic.py:940: ConvergenceWarning: lbfgs failed to converge (status=2):\n",
            "ABNORMAL_TERMINATION_IN_LNSRCH.\n",
            "\n",
            "Increase the number of iterations (max_iter) or scale the data as shown in:\n",
            "    https://scikit-learn.org/stable/modules/preprocessing.html\n",
            "Please also refer to the documentation for alternative solver options:\n",
            "    https://scikit-learn.org/stable/modules/linear_model.html#logistic-regression\n",
            "  extra_warning_msg=_LOGISTIC_SOLVER_CONVERGENCE_MSG)\n",
            "/usr/local/lib/python3.7/dist-packages/sklearn/linear_model/_logistic.py:935: RuntimeWarning: divide by zero encountered in double_scalars\n",
            "  args=(X, target, 1. / C, sample_weight),\n",
            "/usr/local/lib/python3.7/dist-packages/sklearn/linear_model/_logistic.py:301: RuntimeWarning: invalid value encountered in double_scalars\n",
            "  loss += 0.5 * alpha * squared_norm(w)\n",
            "/usr/local/lib/python3.7/dist-packages/sklearn/linear_model/_logistic.py:353: RuntimeWarning: invalid value encountered in multiply\n",
            "  grad[:, :n_features] += alpha * w\n",
            "/usr/local/lib/python3.7/dist-packages/sklearn/linear_model/_logistic.py:940: ConvergenceWarning: lbfgs failed to converge (status=2):\n",
            "ABNORMAL_TERMINATION_IN_LNSRCH.\n",
            "\n",
            "Increase the number of iterations (max_iter) or scale the data as shown in:\n",
            "    https://scikit-learn.org/stable/modules/preprocessing.html\n",
            "Please also refer to the documentation for alternative solver options:\n",
            "    https://scikit-learn.org/stable/modules/linear_model.html#logistic-regression\n",
            "  extra_warning_msg=_LOGISTIC_SOLVER_CONVERGENCE_MSG)\n",
            "/usr/local/lib/python3.7/dist-packages/sklearn/linear_model/_logistic.py:935: RuntimeWarning: divide by zero encountered in double_scalars\n",
            "  args=(X, target, 1. / C, sample_weight),\n",
            "/usr/local/lib/python3.7/dist-packages/sklearn/linear_model/_logistic.py:301: RuntimeWarning: invalid value encountered in double_scalars\n",
            "  loss += 0.5 * alpha * squared_norm(w)\n",
            "/usr/local/lib/python3.7/dist-packages/sklearn/linear_model/_logistic.py:353: RuntimeWarning: invalid value encountered in multiply\n",
            "  grad[:, :n_features] += alpha * w\n",
            "/usr/local/lib/python3.7/dist-packages/sklearn/linear_model/_logistic.py:940: ConvergenceWarning: lbfgs failed to converge (status=2):\n",
            "ABNORMAL_TERMINATION_IN_LNSRCH.\n",
            "\n",
            "Increase the number of iterations (max_iter) or scale the data as shown in:\n",
            "    https://scikit-learn.org/stable/modules/preprocessing.html\n",
            "Please also refer to the documentation for alternative solver options:\n",
            "    https://scikit-learn.org/stable/modules/linear_model.html#logistic-regression\n",
            "  extra_warning_msg=_LOGISTIC_SOLVER_CONVERGENCE_MSG)\n",
            "/usr/local/lib/python3.7/dist-packages/sklearn/linear_model/_logistic.py:935: RuntimeWarning: divide by zero encountered in double_scalars\n",
            "  args=(X, target, 1. / C, sample_weight),\n",
            "/usr/local/lib/python3.7/dist-packages/sklearn/linear_model/_logistic.py:301: RuntimeWarning: invalid value encountered in double_scalars\n",
            "  loss += 0.5 * alpha * squared_norm(w)\n",
            "/usr/local/lib/python3.7/dist-packages/sklearn/linear_model/_logistic.py:353: RuntimeWarning: invalid value encountered in multiply\n",
            "  grad[:, :n_features] += alpha * w\n",
            "/usr/local/lib/python3.7/dist-packages/sklearn/linear_model/_logistic.py:940: ConvergenceWarning: lbfgs failed to converge (status=2):\n",
            "ABNORMAL_TERMINATION_IN_LNSRCH.\n",
            "\n",
            "Increase the number of iterations (max_iter) or scale the data as shown in:\n",
            "    https://scikit-learn.org/stable/modules/preprocessing.html\n",
            "Please also refer to the documentation for alternative solver options:\n",
            "    https://scikit-learn.org/stable/modules/linear_model.html#logistic-regression\n",
            "  extra_warning_msg=_LOGISTIC_SOLVER_CONVERGENCE_MSG)\n",
            "/usr/local/lib/python3.7/dist-packages/sklearn/linear_model/_logistic.py:935: RuntimeWarning: divide by zero encountered in double_scalars\n",
            "  args=(X, target, 1. / C, sample_weight),\n",
            "/usr/local/lib/python3.7/dist-packages/sklearn/linear_model/_logistic.py:301: RuntimeWarning: invalid value encountered in double_scalars\n",
            "  loss += 0.5 * alpha * squared_norm(w)\n",
            "/usr/local/lib/python3.7/dist-packages/sklearn/linear_model/_logistic.py:353: RuntimeWarning: invalid value encountered in multiply\n",
            "  grad[:, :n_features] += alpha * w\n",
            "/usr/local/lib/python3.7/dist-packages/sklearn/linear_model/_logistic.py:940: ConvergenceWarning: lbfgs failed to converge (status=2):\n",
            "ABNORMAL_TERMINATION_IN_LNSRCH.\n",
            "\n",
            "Increase the number of iterations (max_iter) or scale the data as shown in:\n",
            "    https://scikit-learn.org/stable/modules/preprocessing.html\n",
            "Please also refer to the documentation for alternative solver options:\n",
            "    https://scikit-learn.org/stable/modules/linear_model.html#logistic-regression\n",
            "  extra_warning_msg=_LOGISTIC_SOLVER_CONVERGENCE_MSG)\n",
            "/usr/local/lib/python3.7/dist-packages/sklearn/linear_model/_logistic.py:935: RuntimeWarning: divide by zero encountered in double_scalars\n",
            "  args=(X, target, 1. / C, sample_weight),\n",
            "/usr/local/lib/python3.7/dist-packages/sklearn/linear_model/_logistic.py:301: RuntimeWarning: invalid value encountered in double_scalars\n",
            "  loss += 0.5 * alpha * squared_norm(w)\n",
            "/usr/local/lib/python3.7/dist-packages/sklearn/linear_model/_logistic.py:353: RuntimeWarning: invalid value encountered in multiply\n",
            "  grad[:, :n_features] += alpha * w\n",
            "/usr/local/lib/python3.7/dist-packages/sklearn/linear_model/_logistic.py:940: ConvergenceWarning: lbfgs failed to converge (status=2):\n",
            "ABNORMAL_TERMINATION_IN_LNSRCH.\n",
            "\n",
            "Increase the number of iterations (max_iter) or scale the data as shown in:\n",
            "    https://scikit-learn.org/stable/modules/preprocessing.html\n",
            "Please also refer to the documentation for alternative solver options:\n",
            "    https://scikit-learn.org/stable/modules/linear_model.html#logistic-regression\n",
            "  extra_warning_msg=_LOGISTIC_SOLVER_CONVERGENCE_MSG)\n",
            "/usr/local/lib/python3.7/dist-packages/sklearn/linear_model/_logistic.py:935: RuntimeWarning: divide by zero encountered in double_scalars\n",
            "  args=(X, target, 1. / C, sample_weight),\n",
            "/usr/local/lib/python3.7/dist-packages/sklearn/linear_model/_logistic.py:301: RuntimeWarning: invalid value encountered in double_scalars\n",
            "  loss += 0.5 * alpha * squared_norm(w)\n",
            "/usr/local/lib/python3.7/dist-packages/sklearn/linear_model/_logistic.py:353: RuntimeWarning: invalid value encountered in multiply\n",
            "  grad[:, :n_features] += alpha * w\n",
            "/usr/local/lib/python3.7/dist-packages/sklearn/linear_model/_logistic.py:940: ConvergenceWarning: lbfgs failed to converge (status=2):\n",
            "ABNORMAL_TERMINATION_IN_LNSRCH.\n",
            "\n",
            "Increase the number of iterations (max_iter) or scale the data as shown in:\n",
            "    https://scikit-learn.org/stable/modules/preprocessing.html\n",
            "Please also refer to the documentation for alternative solver options:\n",
            "    https://scikit-learn.org/stable/modules/linear_model.html#logistic-regression\n",
            "  extra_warning_msg=_LOGISTIC_SOLVER_CONVERGENCE_MSG)\n",
            "/usr/local/lib/python3.7/dist-packages/sklearn/linear_model/_logistic.py:935: RuntimeWarning: divide by zero encountered in double_scalars\n",
            "  args=(X, target, 1. / C, sample_weight),\n",
            "/usr/local/lib/python3.7/dist-packages/sklearn/linear_model/_logistic.py:301: RuntimeWarning: invalid value encountered in double_scalars\n",
            "  loss += 0.5 * alpha * squared_norm(w)\n",
            "/usr/local/lib/python3.7/dist-packages/sklearn/linear_model/_logistic.py:353: RuntimeWarning: invalid value encountered in multiply\n",
            "  grad[:, :n_features] += alpha * w\n",
            "/usr/local/lib/python3.7/dist-packages/sklearn/linear_model/_logistic.py:940: ConvergenceWarning: lbfgs failed to converge (status=2):\n",
            "ABNORMAL_TERMINATION_IN_LNSRCH.\n",
            "\n",
            "Increase the number of iterations (max_iter) or scale the data as shown in:\n",
            "    https://scikit-learn.org/stable/modules/preprocessing.html\n",
            "Please also refer to the documentation for alternative solver options:\n",
            "    https://scikit-learn.org/stable/modules/linear_model.html#logistic-regression\n",
            "  extra_warning_msg=_LOGISTIC_SOLVER_CONVERGENCE_MSG)\n",
            "/usr/local/lib/python3.7/dist-packages/sklearn/linear_model/_logistic.py:943: RuntimeWarning: divide by zero encountered in double_scalars\n",
            "  args = (X, target, 1. / C, sample_weight)\n",
            "/usr/local/lib/python3.7/dist-packages/sklearn/linear_model/_logistic.py:301: RuntimeWarning: invalid value encountered in double_scalars\n",
            "  loss += 0.5 * alpha * squared_norm(w)\n",
            "/usr/local/lib/python3.7/dist-packages/sklearn/linear_model/_logistic.py:353: RuntimeWarning: invalid value encountered in multiply\n",
            "  grad[:, :n_features] += alpha * w\n",
            "/usr/local/lib/python3.7/dist-packages/scipy/optimize/linesearch.py:466: LineSearchWarning: The line search algorithm did not converge\n",
            "  warn('The line search algorithm did not converge', LineSearchWarning)\n",
            "/usr/local/lib/python3.7/dist-packages/scipy/optimize/linesearch.py:314: LineSearchWarning: The line search algorithm did not converge\n",
            "  warn('The line search algorithm did not converge', LineSearchWarning)\n",
            "/usr/local/lib/python3.7/dist-packages/sklearn/utils/optimize.py:212: ConvergenceWarning: newton-cg failed to converge. Increase the number of iterations.\n",
            "  \"number of iterations.\", ConvergenceWarning)\n",
            "/usr/local/lib/python3.7/dist-packages/sklearn/linear_model/_logistic.py:943: RuntimeWarning: divide by zero encountered in double_scalars\n",
            "  args = (X, target, 1. / C, sample_weight)\n",
            "/usr/local/lib/python3.7/dist-packages/sklearn/linear_model/_logistic.py:301: RuntimeWarning: invalid value encountered in double_scalars\n",
            "  loss += 0.5 * alpha * squared_norm(w)\n",
            "/usr/local/lib/python3.7/dist-packages/sklearn/linear_model/_logistic.py:353: RuntimeWarning: invalid value encountered in multiply\n",
            "  grad[:, :n_features] += alpha * w\n",
            "/usr/local/lib/python3.7/dist-packages/scipy/optimize/linesearch.py:466: LineSearchWarning: The line search algorithm did not converge\n",
            "  warn('The line search algorithm did not converge', LineSearchWarning)\n",
            "/usr/local/lib/python3.7/dist-packages/scipy/optimize/linesearch.py:314: LineSearchWarning: The line search algorithm did not converge\n",
            "  warn('The line search algorithm did not converge', LineSearchWarning)\n",
            "/usr/local/lib/python3.7/dist-packages/sklearn/utils/optimize.py:212: ConvergenceWarning: newton-cg failed to converge. Increase the number of iterations.\n",
            "  \"number of iterations.\", ConvergenceWarning)\n",
            "/usr/local/lib/python3.7/dist-packages/sklearn/linear_model/_logistic.py:943: RuntimeWarning: divide by zero encountered in double_scalars\n",
            "  args = (X, target, 1. / C, sample_weight)\n",
            "/usr/local/lib/python3.7/dist-packages/sklearn/linear_model/_logistic.py:301: RuntimeWarning: invalid value encountered in double_scalars\n",
            "  loss += 0.5 * alpha * squared_norm(w)\n",
            "/usr/local/lib/python3.7/dist-packages/sklearn/linear_model/_logistic.py:353: RuntimeWarning: invalid value encountered in multiply\n",
            "  grad[:, :n_features] += alpha * w\n",
            "/usr/local/lib/python3.7/dist-packages/scipy/optimize/linesearch.py:466: LineSearchWarning: The line search algorithm did not converge\n",
            "  warn('The line search algorithm did not converge', LineSearchWarning)\n",
            "/usr/local/lib/python3.7/dist-packages/scipy/optimize/linesearch.py:314: LineSearchWarning: The line search algorithm did not converge\n",
            "  warn('The line search algorithm did not converge', LineSearchWarning)\n",
            "/usr/local/lib/python3.7/dist-packages/sklearn/utils/optimize.py:212: ConvergenceWarning: newton-cg failed to converge. Increase the number of iterations.\n",
            "  \"number of iterations.\", ConvergenceWarning)\n",
            "/usr/local/lib/python3.7/dist-packages/sklearn/linear_model/_logistic.py:943: RuntimeWarning: divide by zero encountered in double_scalars\n",
            "  args = (X, target, 1. / C, sample_weight)\n",
            "/usr/local/lib/python3.7/dist-packages/sklearn/linear_model/_logistic.py:301: RuntimeWarning: invalid value encountered in double_scalars\n",
            "  loss += 0.5 * alpha * squared_norm(w)\n",
            "/usr/local/lib/python3.7/dist-packages/sklearn/linear_model/_logistic.py:353: RuntimeWarning: invalid value encountered in multiply\n",
            "  grad[:, :n_features] += alpha * w\n",
            "/usr/local/lib/python3.7/dist-packages/scipy/optimize/linesearch.py:466: LineSearchWarning: The line search algorithm did not converge\n",
            "  warn('The line search algorithm did not converge', LineSearchWarning)\n",
            "/usr/local/lib/python3.7/dist-packages/scipy/optimize/linesearch.py:314: LineSearchWarning: The line search algorithm did not converge\n",
            "  warn('The line search algorithm did not converge', LineSearchWarning)\n",
            "/usr/local/lib/python3.7/dist-packages/sklearn/utils/optimize.py:212: ConvergenceWarning: newton-cg failed to converge. Increase the number of iterations.\n",
            "  \"number of iterations.\", ConvergenceWarning)\n",
            "/usr/local/lib/python3.7/dist-packages/sklearn/linear_model/_logistic.py:943: RuntimeWarning: divide by zero encountered in double_scalars\n",
            "  args = (X, target, 1. / C, sample_weight)\n",
            "/usr/local/lib/python3.7/dist-packages/sklearn/linear_model/_logistic.py:301: RuntimeWarning: invalid value encountered in double_scalars\n",
            "  loss += 0.5 * alpha * squared_norm(w)\n",
            "/usr/local/lib/python3.7/dist-packages/sklearn/linear_model/_logistic.py:353: RuntimeWarning: invalid value encountered in multiply\n",
            "  grad[:, :n_features] += alpha * w\n",
            "/usr/local/lib/python3.7/dist-packages/scipy/optimize/linesearch.py:466: LineSearchWarning: The line search algorithm did not converge\n",
            "  warn('The line search algorithm did not converge', LineSearchWarning)\n",
            "/usr/local/lib/python3.7/dist-packages/scipy/optimize/linesearch.py:314: LineSearchWarning: The line search algorithm did not converge\n",
            "  warn('The line search algorithm did not converge', LineSearchWarning)\n"
          ],
          "name": "stderr"
        },
        {
          "output_type": "error",
          "ename": "KeyboardInterrupt",
          "evalue": "ignored",
          "traceback": [
            "\u001b[0;31m---------------------------------------------------------------------------\u001b[0m",
            "\u001b[0;31mKeyboardInterrupt\u001b[0m                         Traceback (most recent call last)",
            "\u001b[0;32m<ipython-input-72-df2e1243514d>\u001b[0m in \u001b[0;36m<module>\u001b[0;34m()\u001b[0m\n\u001b[1;32m     12\u001b[0m \u001b[0mrandom_estimator\u001b[0m \u001b[0;34m=\u001b[0m \u001b[0mGridSearchCV\u001b[0m\u001b[0;34m(\u001b[0m\u001b[0mLogisticRegression\u001b[0m\u001b[0;34m(\u001b[0m\u001b[0;34m)\u001b[0m\u001b[0;34m,\u001b[0m \u001b[0mrandom_grid\u001b[0m\u001b[0;34m,\u001b[0m\u001b[0mscoring\u001b[0m\u001b[0;34m=\u001b[0m\u001b[0;34m'accuracy'\u001b[0m\u001b[0;34m)\u001b[0m\u001b[0;34m\u001b[0m\u001b[0;34m\u001b[0m\u001b[0m\n\u001b[1;32m     13\u001b[0m \u001b[0;34m\u001b[0m\u001b[0m\n\u001b[0;32m---> 14\u001b[0;31m \u001b[0mrandom_estimator\u001b[0m\u001b[0;34m.\u001b[0m\u001b[0mfit\u001b[0m\u001b[0;34m(\u001b[0m\u001b[0mX\u001b[0m\u001b[0;34m,\u001b[0m \u001b[0my\u001b[0m\u001b[0;34m)\u001b[0m\u001b[0;34m\u001b[0m\u001b[0;34m\u001b[0m\u001b[0m\n\u001b[0m",
            "\u001b[0;32m/usr/local/lib/python3.7/dist-packages/sklearn/model_selection/_search.py\u001b[0m in \u001b[0;36mfit\u001b[0;34m(self, X, y, groups, **fit_params)\u001b[0m\n\u001b[1;32m    708\u001b[0m                 \u001b[0;32mreturn\u001b[0m \u001b[0mresults\u001b[0m\u001b[0;34m\u001b[0m\u001b[0;34m\u001b[0m\u001b[0m\n\u001b[1;32m    709\u001b[0m \u001b[0;34m\u001b[0m\u001b[0m\n\u001b[0;32m--> 710\u001b[0;31m             \u001b[0mself\u001b[0m\u001b[0;34m.\u001b[0m\u001b[0m_run_search\u001b[0m\u001b[0;34m(\u001b[0m\u001b[0mevaluate_candidates\u001b[0m\u001b[0;34m)\u001b[0m\u001b[0;34m\u001b[0m\u001b[0;34m\u001b[0m\u001b[0m\n\u001b[0m\u001b[1;32m    711\u001b[0m \u001b[0;34m\u001b[0m\u001b[0m\n\u001b[1;32m    712\u001b[0m         \u001b[0;31m# For multi-metric evaluation, store the best_index_, best_params_ and\u001b[0m\u001b[0;34m\u001b[0m\u001b[0;34m\u001b[0m\u001b[0;34m\u001b[0m\u001b[0m\n",
            "\u001b[0;32m/usr/local/lib/python3.7/dist-packages/sklearn/model_selection/_search.py\u001b[0m in \u001b[0;36m_run_search\u001b[0;34m(self, evaluate_candidates)\u001b[0m\n\u001b[1;32m   1149\u001b[0m     \u001b[0;32mdef\u001b[0m \u001b[0m_run_search\u001b[0m\u001b[0;34m(\u001b[0m\u001b[0mself\u001b[0m\u001b[0;34m,\u001b[0m \u001b[0mevaluate_candidates\u001b[0m\u001b[0;34m)\u001b[0m\u001b[0;34m:\u001b[0m\u001b[0;34m\u001b[0m\u001b[0;34m\u001b[0m\u001b[0m\n\u001b[1;32m   1150\u001b[0m         \u001b[0;34m\"\"\"Search all candidates in param_grid\"\"\"\u001b[0m\u001b[0;34m\u001b[0m\u001b[0;34m\u001b[0m\u001b[0m\n\u001b[0;32m-> 1151\u001b[0;31m         \u001b[0mevaluate_candidates\u001b[0m\u001b[0;34m(\u001b[0m\u001b[0mParameterGrid\u001b[0m\u001b[0;34m(\u001b[0m\u001b[0mself\u001b[0m\u001b[0;34m.\u001b[0m\u001b[0mparam_grid\u001b[0m\u001b[0;34m)\u001b[0m\u001b[0;34m)\u001b[0m\u001b[0;34m\u001b[0m\u001b[0;34m\u001b[0m\u001b[0m\n\u001b[0m\u001b[1;32m   1152\u001b[0m \u001b[0;34m\u001b[0m\u001b[0m\n\u001b[1;32m   1153\u001b[0m \u001b[0;34m\u001b[0m\u001b[0m\n",
            "\u001b[0;32m/usr/local/lib/python3.7/dist-packages/sklearn/model_selection/_search.py\u001b[0m in \u001b[0;36mevaluate_candidates\u001b[0;34m(candidate_params)\u001b[0m\n\u001b[1;32m    687\u001b[0m                                \u001b[0;32mfor\u001b[0m \u001b[0mparameters\u001b[0m\u001b[0;34m,\u001b[0m \u001b[0;34m(\u001b[0m\u001b[0mtrain\u001b[0m\u001b[0;34m,\u001b[0m \u001b[0mtest\u001b[0m\u001b[0;34m)\u001b[0m\u001b[0;34m\u001b[0m\u001b[0;34m\u001b[0m\u001b[0m\n\u001b[1;32m    688\u001b[0m                                in product(candidate_params,\n\u001b[0;32m--> 689\u001b[0;31m                                           cv.split(X, y, groups)))\n\u001b[0m\u001b[1;32m    690\u001b[0m \u001b[0;34m\u001b[0m\u001b[0m\n\u001b[1;32m    691\u001b[0m                 \u001b[0;32mif\u001b[0m \u001b[0mlen\u001b[0m\u001b[0;34m(\u001b[0m\u001b[0mout\u001b[0m\u001b[0;34m)\u001b[0m \u001b[0;34m<\u001b[0m \u001b[0;36m1\u001b[0m\u001b[0;34m:\u001b[0m\u001b[0;34m\u001b[0m\u001b[0;34m\u001b[0m\u001b[0m\n",
            "\u001b[0;32m/usr/local/lib/python3.7/dist-packages/joblib/parallel.py\u001b[0m in \u001b[0;36m__call__\u001b[0;34m(self, iterable)\u001b[0m\n\u001b[1;32m   1042\u001b[0m                 \u001b[0mself\u001b[0m\u001b[0;34m.\u001b[0m\u001b[0m_iterating\u001b[0m \u001b[0;34m=\u001b[0m \u001b[0mself\u001b[0m\u001b[0;34m.\u001b[0m\u001b[0m_original_iterator\u001b[0m \u001b[0;32mis\u001b[0m \u001b[0;32mnot\u001b[0m \u001b[0;32mNone\u001b[0m\u001b[0;34m\u001b[0m\u001b[0;34m\u001b[0m\u001b[0m\n\u001b[1;32m   1043\u001b[0m \u001b[0;34m\u001b[0m\u001b[0m\n\u001b[0;32m-> 1044\u001b[0;31m             \u001b[0;32mwhile\u001b[0m \u001b[0mself\u001b[0m\u001b[0;34m.\u001b[0m\u001b[0mdispatch_one_batch\u001b[0m\u001b[0;34m(\u001b[0m\u001b[0miterator\u001b[0m\u001b[0;34m)\u001b[0m\u001b[0;34m:\u001b[0m\u001b[0;34m\u001b[0m\u001b[0;34m\u001b[0m\u001b[0m\n\u001b[0m\u001b[1;32m   1045\u001b[0m                 \u001b[0;32mpass\u001b[0m\u001b[0;34m\u001b[0m\u001b[0;34m\u001b[0m\u001b[0m\n\u001b[1;32m   1046\u001b[0m \u001b[0;34m\u001b[0m\u001b[0m\n",
            "\u001b[0;32m/usr/local/lib/python3.7/dist-packages/joblib/parallel.py\u001b[0m in \u001b[0;36mdispatch_one_batch\u001b[0;34m(self, iterator)\u001b[0m\n\u001b[1;32m    857\u001b[0m                 \u001b[0;32mreturn\u001b[0m \u001b[0;32mFalse\u001b[0m\u001b[0;34m\u001b[0m\u001b[0;34m\u001b[0m\u001b[0m\n\u001b[1;32m    858\u001b[0m             \u001b[0;32melse\u001b[0m\u001b[0;34m:\u001b[0m\u001b[0;34m\u001b[0m\u001b[0;34m\u001b[0m\u001b[0m\n\u001b[0;32m--> 859\u001b[0;31m                 \u001b[0mself\u001b[0m\u001b[0;34m.\u001b[0m\u001b[0m_dispatch\u001b[0m\u001b[0;34m(\u001b[0m\u001b[0mtasks\u001b[0m\u001b[0;34m)\u001b[0m\u001b[0;34m\u001b[0m\u001b[0;34m\u001b[0m\u001b[0m\n\u001b[0m\u001b[1;32m    860\u001b[0m                 \u001b[0;32mreturn\u001b[0m \u001b[0;32mTrue\u001b[0m\u001b[0;34m\u001b[0m\u001b[0;34m\u001b[0m\u001b[0m\n\u001b[1;32m    861\u001b[0m \u001b[0;34m\u001b[0m\u001b[0m\n",
            "\u001b[0;32m/usr/local/lib/python3.7/dist-packages/joblib/parallel.py\u001b[0m in \u001b[0;36m_dispatch\u001b[0;34m(self, batch)\u001b[0m\n\u001b[1;32m    775\u001b[0m         \u001b[0;32mwith\u001b[0m \u001b[0mself\u001b[0m\u001b[0;34m.\u001b[0m\u001b[0m_lock\u001b[0m\u001b[0;34m:\u001b[0m\u001b[0;34m\u001b[0m\u001b[0;34m\u001b[0m\u001b[0m\n\u001b[1;32m    776\u001b[0m             \u001b[0mjob_idx\u001b[0m \u001b[0;34m=\u001b[0m \u001b[0mlen\u001b[0m\u001b[0;34m(\u001b[0m\u001b[0mself\u001b[0m\u001b[0;34m.\u001b[0m\u001b[0m_jobs\u001b[0m\u001b[0;34m)\u001b[0m\u001b[0;34m\u001b[0m\u001b[0;34m\u001b[0m\u001b[0m\n\u001b[0;32m--> 777\u001b[0;31m             \u001b[0mjob\u001b[0m \u001b[0;34m=\u001b[0m \u001b[0mself\u001b[0m\u001b[0;34m.\u001b[0m\u001b[0m_backend\u001b[0m\u001b[0;34m.\u001b[0m\u001b[0mapply_async\u001b[0m\u001b[0;34m(\u001b[0m\u001b[0mbatch\u001b[0m\u001b[0;34m,\u001b[0m \u001b[0mcallback\u001b[0m\u001b[0;34m=\u001b[0m\u001b[0mcb\u001b[0m\u001b[0;34m)\u001b[0m\u001b[0;34m\u001b[0m\u001b[0;34m\u001b[0m\u001b[0m\n\u001b[0m\u001b[1;32m    778\u001b[0m             \u001b[0;31m# A job can complete so quickly than its callback is\u001b[0m\u001b[0;34m\u001b[0m\u001b[0;34m\u001b[0m\u001b[0;34m\u001b[0m\u001b[0m\n\u001b[1;32m    779\u001b[0m             \u001b[0;31m# called before we get here, causing self._jobs to\u001b[0m\u001b[0;34m\u001b[0m\u001b[0;34m\u001b[0m\u001b[0;34m\u001b[0m\u001b[0m\n",
            "\u001b[0;32m/usr/local/lib/python3.7/dist-packages/joblib/_parallel_backends.py\u001b[0m in \u001b[0;36mapply_async\u001b[0;34m(self, func, callback)\u001b[0m\n\u001b[1;32m    206\u001b[0m     \u001b[0;32mdef\u001b[0m \u001b[0mapply_async\u001b[0m\u001b[0;34m(\u001b[0m\u001b[0mself\u001b[0m\u001b[0;34m,\u001b[0m \u001b[0mfunc\u001b[0m\u001b[0;34m,\u001b[0m \u001b[0mcallback\u001b[0m\u001b[0;34m=\u001b[0m\u001b[0;32mNone\u001b[0m\u001b[0;34m)\u001b[0m\u001b[0;34m:\u001b[0m\u001b[0;34m\u001b[0m\u001b[0;34m\u001b[0m\u001b[0m\n\u001b[1;32m    207\u001b[0m         \u001b[0;34m\"\"\"Schedule a func to be run\"\"\"\u001b[0m\u001b[0;34m\u001b[0m\u001b[0;34m\u001b[0m\u001b[0m\n\u001b[0;32m--> 208\u001b[0;31m         \u001b[0mresult\u001b[0m \u001b[0;34m=\u001b[0m \u001b[0mImmediateResult\u001b[0m\u001b[0;34m(\u001b[0m\u001b[0mfunc\u001b[0m\u001b[0;34m)\u001b[0m\u001b[0;34m\u001b[0m\u001b[0;34m\u001b[0m\u001b[0m\n\u001b[0m\u001b[1;32m    209\u001b[0m         \u001b[0;32mif\u001b[0m \u001b[0mcallback\u001b[0m\u001b[0;34m:\u001b[0m\u001b[0;34m\u001b[0m\u001b[0;34m\u001b[0m\u001b[0m\n\u001b[1;32m    210\u001b[0m             \u001b[0mcallback\u001b[0m\u001b[0;34m(\u001b[0m\u001b[0mresult\u001b[0m\u001b[0;34m)\u001b[0m\u001b[0;34m\u001b[0m\u001b[0;34m\u001b[0m\u001b[0m\n",
            "\u001b[0;32m/usr/local/lib/python3.7/dist-packages/joblib/_parallel_backends.py\u001b[0m in \u001b[0;36m__init__\u001b[0;34m(self, batch)\u001b[0m\n\u001b[1;32m    570\u001b[0m         \u001b[0;31m# Don't delay the application, to avoid keeping the input\u001b[0m\u001b[0;34m\u001b[0m\u001b[0;34m\u001b[0m\u001b[0;34m\u001b[0m\u001b[0m\n\u001b[1;32m    571\u001b[0m         \u001b[0;31m# arguments in memory\u001b[0m\u001b[0;34m\u001b[0m\u001b[0;34m\u001b[0m\u001b[0;34m\u001b[0m\u001b[0m\n\u001b[0;32m--> 572\u001b[0;31m         \u001b[0mself\u001b[0m\u001b[0;34m.\u001b[0m\u001b[0mresults\u001b[0m \u001b[0;34m=\u001b[0m \u001b[0mbatch\u001b[0m\u001b[0;34m(\u001b[0m\u001b[0;34m)\u001b[0m\u001b[0;34m\u001b[0m\u001b[0;34m\u001b[0m\u001b[0m\n\u001b[0m\u001b[1;32m    573\u001b[0m \u001b[0;34m\u001b[0m\u001b[0m\n\u001b[1;32m    574\u001b[0m     \u001b[0;32mdef\u001b[0m \u001b[0mget\u001b[0m\u001b[0;34m(\u001b[0m\u001b[0mself\u001b[0m\u001b[0;34m)\u001b[0m\u001b[0;34m:\u001b[0m\u001b[0;34m\u001b[0m\u001b[0;34m\u001b[0m\u001b[0m\n",
            "\u001b[0;32m/usr/local/lib/python3.7/dist-packages/joblib/parallel.py\u001b[0m in \u001b[0;36m__call__\u001b[0;34m(self)\u001b[0m\n\u001b[1;32m    261\u001b[0m         \u001b[0;32mwith\u001b[0m \u001b[0mparallel_backend\u001b[0m\u001b[0;34m(\u001b[0m\u001b[0mself\u001b[0m\u001b[0;34m.\u001b[0m\u001b[0m_backend\u001b[0m\u001b[0;34m,\u001b[0m \u001b[0mn_jobs\u001b[0m\u001b[0;34m=\u001b[0m\u001b[0mself\u001b[0m\u001b[0;34m.\u001b[0m\u001b[0m_n_jobs\u001b[0m\u001b[0;34m)\u001b[0m\u001b[0;34m:\u001b[0m\u001b[0;34m\u001b[0m\u001b[0;34m\u001b[0m\u001b[0m\n\u001b[1;32m    262\u001b[0m             return [func(*args, **kwargs)\n\u001b[0;32m--> 263\u001b[0;31m                     for func, args, kwargs in self.items]\n\u001b[0m\u001b[1;32m    264\u001b[0m \u001b[0;34m\u001b[0m\u001b[0m\n\u001b[1;32m    265\u001b[0m     \u001b[0;32mdef\u001b[0m \u001b[0m__reduce__\u001b[0m\u001b[0;34m(\u001b[0m\u001b[0mself\u001b[0m\u001b[0;34m)\u001b[0m\u001b[0;34m:\u001b[0m\u001b[0;34m\u001b[0m\u001b[0;34m\u001b[0m\u001b[0m\n",
            "\u001b[0;32m/usr/local/lib/python3.7/dist-packages/joblib/parallel.py\u001b[0m in \u001b[0;36m<listcomp>\u001b[0;34m(.0)\u001b[0m\n\u001b[1;32m    261\u001b[0m         \u001b[0;32mwith\u001b[0m \u001b[0mparallel_backend\u001b[0m\u001b[0;34m(\u001b[0m\u001b[0mself\u001b[0m\u001b[0;34m.\u001b[0m\u001b[0m_backend\u001b[0m\u001b[0;34m,\u001b[0m \u001b[0mn_jobs\u001b[0m\u001b[0;34m=\u001b[0m\u001b[0mself\u001b[0m\u001b[0;34m.\u001b[0m\u001b[0m_n_jobs\u001b[0m\u001b[0;34m)\u001b[0m\u001b[0;34m:\u001b[0m\u001b[0;34m\u001b[0m\u001b[0;34m\u001b[0m\u001b[0m\n\u001b[1;32m    262\u001b[0m             return [func(*args, **kwargs)\n\u001b[0;32m--> 263\u001b[0;31m                     for func, args, kwargs in self.items]\n\u001b[0m\u001b[1;32m    264\u001b[0m \u001b[0;34m\u001b[0m\u001b[0m\n\u001b[1;32m    265\u001b[0m     \u001b[0;32mdef\u001b[0m \u001b[0m__reduce__\u001b[0m\u001b[0;34m(\u001b[0m\u001b[0mself\u001b[0m\u001b[0;34m)\u001b[0m\u001b[0;34m:\u001b[0m\u001b[0;34m\u001b[0m\u001b[0;34m\u001b[0m\u001b[0m\n",
            "\u001b[0;32m/usr/local/lib/python3.7/dist-packages/sklearn/model_selection/_validation.py\u001b[0m in \u001b[0;36m_fit_and_score\u001b[0;34m(estimator, X, y, scorer, train, test, verbose, parameters, fit_params, return_train_score, return_parameters, return_n_test_samples, return_times, return_estimator, error_score)\u001b[0m\n\u001b[1;32m    513\u001b[0m             \u001b[0mestimator\u001b[0m\u001b[0;34m.\u001b[0m\u001b[0mfit\u001b[0m\u001b[0;34m(\u001b[0m\u001b[0mX_train\u001b[0m\u001b[0;34m,\u001b[0m \u001b[0;34m**\u001b[0m\u001b[0mfit_params\u001b[0m\u001b[0;34m)\u001b[0m\u001b[0;34m\u001b[0m\u001b[0;34m\u001b[0m\u001b[0m\n\u001b[1;32m    514\u001b[0m         \u001b[0;32melse\u001b[0m\u001b[0;34m:\u001b[0m\u001b[0;34m\u001b[0m\u001b[0;34m\u001b[0m\u001b[0m\n\u001b[0;32m--> 515\u001b[0;31m             \u001b[0mestimator\u001b[0m\u001b[0;34m.\u001b[0m\u001b[0mfit\u001b[0m\u001b[0;34m(\u001b[0m\u001b[0mX_train\u001b[0m\u001b[0;34m,\u001b[0m \u001b[0my_train\u001b[0m\u001b[0;34m,\u001b[0m \u001b[0;34m**\u001b[0m\u001b[0mfit_params\u001b[0m\u001b[0;34m)\u001b[0m\u001b[0;34m\u001b[0m\u001b[0;34m\u001b[0m\u001b[0m\n\u001b[0m\u001b[1;32m    516\u001b[0m \u001b[0;34m\u001b[0m\u001b[0m\n\u001b[1;32m    517\u001b[0m     \u001b[0;32mexcept\u001b[0m \u001b[0mException\u001b[0m \u001b[0;32mas\u001b[0m \u001b[0me\u001b[0m\u001b[0;34m:\u001b[0m\u001b[0;34m\u001b[0m\u001b[0;34m\u001b[0m\u001b[0m\n",
            "\u001b[0;32m/usr/local/lib/python3.7/dist-packages/sklearn/linear_model/_logistic.py\u001b[0m in \u001b[0;36mfit\u001b[0;34m(self, X, y, sample_weight)\u001b[0m\n\u001b[1;32m   1599\u001b[0m                       \u001b[0mpenalty\u001b[0m\u001b[0;34m=\u001b[0m\u001b[0mpenalty\u001b[0m\u001b[0;34m,\u001b[0m \u001b[0mmax_squared_sum\u001b[0m\u001b[0;34m=\u001b[0m\u001b[0mmax_squared_sum\u001b[0m\u001b[0;34m,\u001b[0m\u001b[0;34m\u001b[0m\u001b[0;34m\u001b[0m\u001b[0m\n\u001b[1;32m   1600\u001b[0m                       sample_weight=sample_weight)\n\u001b[0;32m-> 1601\u001b[0;31m             for class_, warm_start_coef_ in zip(classes_, warm_start_coef))\n\u001b[0m\u001b[1;32m   1602\u001b[0m \u001b[0;34m\u001b[0m\u001b[0m\n\u001b[1;32m   1603\u001b[0m         \u001b[0mfold_coefs_\u001b[0m\u001b[0;34m,\u001b[0m \u001b[0m_\u001b[0m\u001b[0;34m,\u001b[0m \u001b[0mn_iter_\u001b[0m \u001b[0;34m=\u001b[0m \u001b[0mzip\u001b[0m\u001b[0;34m(\u001b[0m\u001b[0;34m*\u001b[0m\u001b[0mfold_coefs_\u001b[0m\u001b[0;34m)\u001b[0m\u001b[0;34m\u001b[0m\u001b[0;34m\u001b[0m\u001b[0m\n",
            "\u001b[0;32m/usr/local/lib/python3.7/dist-packages/joblib/parallel.py\u001b[0m in \u001b[0;36m__call__\u001b[0;34m(self, iterable)\u001b[0m\n\u001b[1;32m   1039\u001b[0m             \u001b[0;31m# remaining jobs.\u001b[0m\u001b[0;34m\u001b[0m\u001b[0;34m\u001b[0m\u001b[0;34m\u001b[0m\u001b[0m\n\u001b[1;32m   1040\u001b[0m             \u001b[0mself\u001b[0m\u001b[0;34m.\u001b[0m\u001b[0m_iterating\u001b[0m \u001b[0;34m=\u001b[0m \u001b[0;32mFalse\u001b[0m\u001b[0;34m\u001b[0m\u001b[0;34m\u001b[0m\u001b[0m\n\u001b[0;32m-> 1041\u001b[0;31m             \u001b[0;32mif\u001b[0m \u001b[0mself\u001b[0m\u001b[0;34m.\u001b[0m\u001b[0mdispatch_one_batch\u001b[0m\u001b[0;34m(\u001b[0m\u001b[0miterator\u001b[0m\u001b[0;34m)\u001b[0m\u001b[0;34m:\u001b[0m\u001b[0;34m\u001b[0m\u001b[0;34m\u001b[0m\u001b[0m\n\u001b[0m\u001b[1;32m   1042\u001b[0m                 \u001b[0mself\u001b[0m\u001b[0;34m.\u001b[0m\u001b[0m_iterating\u001b[0m \u001b[0;34m=\u001b[0m \u001b[0mself\u001b[0m\u001b[0;34m.\u001b[0m\u001b[0m_original_iterator\u001b[0m \u001b[0;32mis\u001b[0m \u001b[0;32mnot\u001b[0m \u001b[0;32mNone\u001b[0m\u001b[0;34m\u001b[0m\u001b[0;34m\u001b[0m\u001b[0m\n\u001b[1;32m   1043\u001b[0m \u001b[0;34m\u001b[0m\u001b[0m\n",
            "\u001b[0;32m/usr/local/lib/python3.7/dist-packages/joblib/parallel.py\u001b[0m in \u001b[0;36mdispatch_one_batch\u001b[0;34m(self, iterator)\u001b[0m\n\u001b[1;32m    857\u001b[0m                 \u001b[0;32mreturn\u001b[0m \u001b[0;32mFalse\u001b[0m\u001b[0;34m\u001b[0m\u001b[0;34m\u001b[0m\u001b[0m\n\u001b[1;32m    858\u001b[0m             \u001b[0;32melse\u001b[0m\u001b[0;34m:\u001b[0m\u001b[0;34m\u001b[0m\u001b[0;34m\u001b[0m\u001b[0m\n\u001b[0;32m--> 859\u001b[0;31m                 \u001b[0mself\u001b[0m\u001b[0;34m.\u001b[0m\u001b[0m_dispatch\u001b[0m\u001b[0;34m(\u001b[0m\u001b[0mtasks\u001b[0m\u001b[0;34m)\u001b[0m\u001b[0;34m\u001b[0m\u001b[0;34m\u001b[0m\u001b[0m\n\u001b[0m\u001b[1;32m    860\u001b[0m                 \u001b[0;32mreturn\u001b[0m \u001b[0;32mTrue\u001b[0m\u001b[0;34m\u001b[0m\u001b[0;34m\u001b[0m\u001b[0m\n\u001b[1;32m    861\u001b[0m \u001b[0;34m\u001b[0m\u001b[0m\n",
            "\u001b[0;32m/usr/local/lib/python3.7/dist-packages/joblib/parallel.py\u001b[0m in \u001b[0;36m_dispatch\u001b[0;34m(self, batch)\u001b[0m\n\u001b[1;32m    775\u001b[0m         \u001b[0;32mwith\u001b[0m \u001b[0mself\u001b[0m\u001b[0;34m.\u001b[0m\u001b[0m_lock\u001b[0m\u001b[0;34m:\u001b[0m\u001b[0;34m\u001b[0m\u001b[0;34m\u001b[0m\u001b[0m\n\u001b[1;32m    776\u001b[0m             \u001b[0mjob_idx\u001b[0m \u001b[0;34m=\u001b[0m \u001b[0mlen\u001b[0m\u001b[0;34m(\u001b[0m\u001b[0mself\u001b[0m\u001b[0;34m.\u001b[0m\u001b[0m_jobs\u001b[0m\u001b[0;34m)\u001b[0m\u001b[0;34m\u001b[0m\u001b[0;34m\u001b[0m\u001b[0m\n\u001b[0;32m--> 777\u001b[0;31m             \u001b[0mjob\u001b[0m \u001b[0;34m=\u001b[0m \u001b[0mself\u001b[0m\u001b[0;34m.\u001b[0m\u001b[0m_backend\u001b[0m\u001b[0;34m.\u001b[0m\u001b[0mapply_async\u001b[0m\u001b[0;34m(\u001b[0m\u001b[0mbatch\u001b[0m\u001b[0;34m,\u001b[0m \u001b[0mcallback\u001b[0m\u001b[0;34m=\u001b[0m\u001b[0mcb\u001b[0m\u001b[0;34m)\u001b[0m\u001b[0;34m\u001b[0m\u001b[0;34m\u001b[0m\u001b[0m\n\u001b[0m\u001b[1;32m    778\u001b[0m             \u001b[0;31m# A job can complete so quickly than its callback is\u001b[0m\u001b[0;34m\u001b[0m\u001b[0;34m\u001b[0m\u001b[0;34m\u001b[0m\u001b[0m\n\u001b[1;32m    779\u001b[0m             \u001b[0;31m# called before we get here, causing self._jobs to\u001b[0m\u001b[0;34m\u001b[0m\u001b[0;34m\u001b[0m\u001b[0;34m\u001b[0m\u001b[0m\n",
            "\u001b[0;32m/usr/local/lib/python3.7/dist-packages/joblib/_parallel_backends.py\u001b[0m in \u001b[0;36mapply_async\u001b[0;34m(self, func, callback)\u001b[0m\n\u001b[1;32m    206\u001b[0m     \u001b[0;32mdef\u001b[0m \u001b[0mapply_async\u001b[0m\u001b[0;34m(\u001b[0m\u001b[0mself\u001b[0m\u001b[0;34m,\u001b[0m \u001b[0mfunc\u001b[0m\u001b[0;34m,\u001b[0m \u001b[0mcallback\u001b[0m\u001b[0;34m=\u001b[0m\u001b[0;32mNone\u001b[0m\u001b[0;34m)\u001b[0m\u001b[0;34m:\u001b[0m\u001b[0;34m\u001b[0m\u001b[0;34m\u001b[0m\u001b[0m\n\u001b[1;32m    207\u001b[0m         \u001b[0;34m\"\"\"Schedule a func to be run\"\"\"\u001b[0m\u001b[0;34m\u001b[0m\u001b[0;34m\u001b[0m\u001b[0m\n\u001b[0;32m--> 208\u001b[0;31m         \u001b[0mresult\u001b[0m \u001b[0;34m=\u001b[0m \u001b[0mImmediateResult\u001b[0m\u001b[0;34m(\u001b[0m\u001b[0mfunc\u001b[0m\u001b[0;34m)\u001b[0m\u001b[0;34m\u001b[0m\u001b[0;34m\u001b[0m\u001b[0m\n\u001b[0m\u001b[1;32m    209\u001b[0m         \u001b[0;32mif\u001b[0m \u001b[0mcallback\u001b[0m\u001b[0;34m:\u001b[0m\u001b[0;34m\u001b[0m\u001b[0;34m\u001b[0m\u001b[0m\n\u001b[1;32m    210\u001b[0m             \u001b[0mcallback\u001b[0m\u001b[0;34m(\u001b[0m\u001b[0mresult\u001b[0m\u001b[0;34m)\u001b[0m\u001b[0;34m\u001b[0m\u001b[0;34m\u001b[0m\u001b[0m\n",
            "\u001b[0;32m/usr/local/lib/python3.7/dist-packages/joblib/_parallel_backends.py\u001b[0m in \u001b[0;36m__init__\u001b[0;34m(self, batch)\u001b[0m\n\u001b[1;32m    570\u001b[0m         \u001b[0;31m# Don't delay the application, to avoid keeping the input\u001b[0m\u001b[0;34m\u001b[0m\u001b[0;34m\u001b[0m\u001b[0;34m\u001b[0m\u001b[0m\n\u001b[1;32m    571\u001b[0m         \u001b[0;31m# arguments in memory\u001b[0m\u001b[0;34m\u001b[0m\u001b[0;34m\u001b[0m\u001b[0;34m\u001b[0m\u001b[0m\n\u001b[0;32m--> 572\u001b[0;31m         \u001b[0mself\u001b[0m\u001b[0;34m.\u001b[0m\u001b[0mresults\u001b[0m \u001b[0;34m=\u001b[0m \u001b[0mbatch\u001b[0m\u001b[0;34m(\u001b[0m\u001b[0;34m)\u001b[0m\u001b[0;34m\u001b[0m\u001b[0;34m\u001b[0m\u001b[0m\n\u001b[0m\u001b[1;32m    573\u001b[0m \u001b[0;34m\u001b[0m\u001b[0m\n\u001b[1;32m    574\u001b[0m     \u001b[0;32mdef\u001b[0m \u001b[0mget\u001b[0m\u001b[0;34m(\u001b[0m\u001b[0mself\u001b[0m\u001b[0;34m)\u001b[0m\u001b[0;34m:\u001b[0m\u001b[0;34m\u001b[0m\u001b[0;34m\u001b[0m\u001b[0m\n",
            "\u001b[0;32m/usr/local/lib/python3.7/dist-packages/joblib/parallel.py\u001b[0m in \u001b[0;36m__call__\u001b[0;34m(self)\u001b[0m\n\u001b[1;32m    261\u001b[0m         \u001b[0;32mwith\u001b[0m \u001b[0mparallel_backend\u001b[0m\u001b[0;34m(\u001b[0m\u001b[0mself\u001b[0m\u001b[0;34m.\u001b[0m\u001b[0m_backend\u001b[0m\u001b[0;34m,\u001b[0m \u001b[0mn_jobs\u001b[0m\u001b[0;34m=\u001b[0m\u001b[0mself\u001b[0m\u001b[0;34m.\u001b[0m\u001b[0m_n_jobs\u001b[0m\u001b[0;34m)\u001b[0m\u001b[0;34m:\u001b[0m\u001b[0;34m\u001b[0m\u001b[0;34m\u001b[0m\u001b[0m\n\u001b[1;32m    262\u001b[0m             return [func(*args, **kwargs)\n\u001b[0;32m--> 263\u001b[0;31m                     for func, args, kwargs in self.items]\n\u001b[0m\u001b[1;32m    264\u001b[0m \u001b[0;34m\u001b[0m\u001b[0m\n\u001b[1;32m    265\u001b[0m     \u001b[0;32mdef\u001b[0m \u001b[0m__reduce__\u001b[0m\u001b[0;34m(\u001b[0m\u001b[0mself\u001b[0m\u001b[0;34m)\u001b[0m\u001b[0;34m:\u001b[0m\u001b[0;34m\u001b[0m\u001b[0;34m\u001b[0m\u001b[0m\n",
            "\u001b[0;32m/usr/local/lib/python3.7/dist-packages/joblib/parallel.py\u001b[0m in \u001b[0;36m<listcomp>\u001b[0;34m(.0)\u001b[0m\n\u001b[1;32m    261\u001b[0m         \u001b[0;32mwith\u001b[0m \u001b[0mparallel_backend\u001b[0m\u001b[0;34m(\u001b[0m\u001b[0mself\u001b[0m\u001b[0;34m.\u001b[0m\u001b[0m_backend\u001b[0m\u001b[0;34m,\u001b[0m \u001b[0mn_jobs\u001b[0m\u001b[0;34m=\u001b[0m\u001b[0mself\u001b[0m\u001b[0;34m.\u001b[0m\u001b[0m_n_jobs\u001b[0m\u001b[0;34m)\u001b[0m\u001b[0;34m:\u001b[0m\u001b[0;34m\u001b[0m\u001b[0;34m\u001b[0m\u001b[0m\n\u001b[1;32m    262\u001b[0m             return [func(*args, **kwargs)\n\u001b[0;32m--> 263\u001b[0;31m                     for func, args, kwargs in self.items]\n\u001b[0m\u001b[1;32m    264\u001b[0m \u001b[0;34m\u001b[0m\u001b[0m\n\u001b[1;32m    265\u001b[0m     \u001b[0;32mdef\u001b[0m \u001b[0m__reduce__\u001b[0m\u001b[0;34m(\u001b[0m\u001b[0mself\u001b[0m\u001b[0;34m)\u001b[0m\u001b[0;34m:\u001b[0m\u001b[0;34m\u001b[0m\u001b[0;34m\u001b[0m\u001b[0m\n",
            "\u001b[0;32m/usr/local/lib/python3.7/dist-packages/sklearn/linear_model/_logistic.py\u001b[0m in \u001b[0;36m_logistic_regression_path\u001b[0;34m(X, y, pos_class, Cs, fit_intercept, max_iter, tol, verbose, solver, coef, class_weight, dual, penalty, intercept_scaling, multi_class, random_state, check_input, max_squared_sum, sample_weight, l1_ratio)\u001b[0m\n\u001b[1;32m    943\u001b[0m             \u001b[0margs\u001b[0m \u001b[0;34m=\u001b[0m \u001b[0;34m(\u001b[0m\u001b[0mX\u001b[0m\u001b[0;34m,\u001b[0m \u001b[0mtarget\u001b[0m\u001b[0;34m,\u001b[0m \u001b[0;36m1.\u001b[0m \u001b[0;34m/\u001b[0m \u001b[0mC\u001b[0m\u001b[0;34m,\u001b[0m \u001b[0msample_weight\u001b[0m\u001b[0;34m)\u001b[0m\u001b[0;34m\u001b[0m\u001b[0;34m\u001b[0m\u001b[0m\n\u001b[1;32m    944\u001b[0m             w0, n_iter_i = _newton_cg(hess, func, grad, w0, args=args,\n\u001b[0;32m--> 945\u001b[0;31m                                       maxiter=max_iter, tol=tol)\n\u001b[0m\u001b[1;32m    946\u001b[0m         \u001b[0;32melif\u001b[0m \u001b[0msolver\u001b[0m \u001b[0;34m==\u001b[0m \u001b[0;34m'liblinear'\u001b[0m\u001b[0;34m:\u001b[0m\u001b[0;34m\u001b[0m\u001b[0;34m\u001b[0m\u001b[0m\n\u001b[1;32m    947\u001b[0m             coef_, intercept_, n_iter_i, = _fit_liblinear(\n",
            "\u001b[0;32m/usr/local/lib/python3.7/dist-packages/sklearn/utils/optimize.py\u001b[0m in \u001b[0;36m_newton_cg\u001b[0;34m(grad_hess, func, grad, x0, args, tol, maxiter, maxinner, line_search, warn)\u001b[0m\n\u001b[1;32m    200\u001b[0m                 \u001b[0malphak\u001b[0m\u001b[0;34m,\u001b[0m \u001b[0mfc\u001b[0m\u001b[0;34m,\u001b[0m \u001b[0mgc\u001b[0m\u001b[0;34m,\u001b[0m \u001b[0mold_fval\u001b[0m\u001b[0;34m,\u001b[0m \u001b[0mold_old_fval\u001b[0m\u001b[0;34m,\u001b[0m \u001b[0mgfkp1\u001b[0m \u001b[0;34m=\u001b[0m\u001b[0;31m \u001b[0m\u001b[0;31m\\\u001b[0m\u001b[0;34m\u001b[0m\u001b[0;34m\u001b[0m\u001b[0m\n\u001b[1;32m    201\u001b[0m                     _line_search_wolfe12(func, grad, xk, xsupi, fgrad,\n\u001b[0;32m--> 202\u001b[0;31m                                          old_fval, old_old_fval, args=args)\n\u001b[0m\u001b[1;32m    203\u001b[0m             \u001b[0;32mexcept\u001b[0m \u001b[0m_LineSearchError\u001b[0m\u001b[0;34m:\u001b[0m\u001b[0;34m\u001b[0m\u001b[0;34m\u001b[0m\u001b[0m\n\u001b[1;32m    204\u001b[0m                 \u001b[0mwarnings\u001b[0m\u001b[0;34m.\u001b[0m\u001b[0mwarn\u001b[0m\u001b[0;34m(\u001b[0m\u001b[0;34m'Line Search failed'\u001b[0m\u001b[0;34m)\u001b[0m\u001b[0;34m\u001b[0m\u001b[0;34m\u001b[0m\u001b[0m\n",
            "\u001b[0;32m/usr/local/lib/python3.7/dist-packages/sklearn/utils/optimize.py\u001b[0m in \u001b[0;36m_line_search_wolfe12\u001b[0;34m(f, fprime, xk, pk, gfk, old_fval, old_old_fval, **kwargs)\u001b[0m\n\u001b[1;32m     41\u001b[0m     ret = line_search_wolfe1(f, fprime, xk, pk, gfk,\n\u001b[1;32m     42\u001b[0m                              \u001b[0mold_fval\u001b[0m\u001b[0;34m,\u001b[0m \u001b[0mold_old_fval\u001b[0m\u001b[0;34m,\u001b[0m\u001b[0;34m\u001b[0m\u001b[0;34m\u001b[0m\u001b[0m\n\u001b[0;32m---> 43\u001b[0;31m                              **kwargs)\n\u001b[0m\u001b[1;32m     44\u001b[0m \u001b[0;34m\u001b[0m\u001b[0m\n\u001b[1;32m     45\u001b[0m     \u001b[0;32mif\u001b[0m \u001b[0mret\u001b[0m\u001b[0;34m[\u001b[0m\u001b[0;36m0\u001b[0m\u001b[0;34m]\u001b[0m \u001b[0;32mis\u001b[0m \u001b[0;32mNone\u001b[0m\u001b[0;34m:\u001b[0m\u001b[0;34m\u001b[0m\u001b[0;34m\u001b[0m\u001b[0m\n",
            "\u001b[0;32m/usr/local/lib/python3.7/dist-packages/scipy/optimize/linesearch.py\u001b[0m in \u001b[0;36mline_search_wolfe1\u001b[0;34m(f, fprime, xk, pk, gfk, old_fval, old_old_fval, args, c1, c2, amax, amin, xtol)\u001b[0m\n\u001b[1;32m     99\u001b[0m     stp, fval, old_fval = scalar_search_wolfe1(\n\u001b[1;32m    100\u001b[0m             \u001b[0mphi\u001b[0m\u001b[0;34m,\u001b[0m \u001b[0mderphi\u001b[0m\u001b[0;34m,\u001b[0m \u001b[0mold_fval\u001b[0m\u001b[0;34m,\u001b[0m \u001b[0mold_old_fval\u001b[0m\u001b[0;34m,\u001b[0m \u001b[0mderphi0\u001b[0m\u001b[0;34m,\u001b[0m\u001b[0;34m\u001b[0m\u001b[0;34m\u001b[0m\u001b[0m\n\u001b[0;32m--> 101\u001b[0;31m             c1=c1, c2=c2, amax=amax, amin=amin, xtol=xtol)\n\u001b[0m\u001b[1;32m    102\u001b[0m \u001b[0;34m\u001b[0m\u001b[0m\n\u001b[1;32m    103\u001b[0m     \u001b[0;32mreturn\u001b[0m \u001b[0mstp\u001b[0m\u001b[0;34m,\u001b[0m \u001b[0mfc\u001b[0m\u001b[0;34m[\u001b[0m\u001b[0;36m0\u001b[0m\u001b[0;34m]\u001b[0m\u001b[0;34m,\u001b[0m \u001b[0mgc\u001b[0m\u001b[0;34m[\u001b[0m\u001b[0;36m0\u001b[0m\u001b[0;34m]\u001b[0m\u001b[0;34m,\u001b[0m \u001b[0mfval\u001b[0m\u001b[0;34m,\u001b[0m \u001b[0mold_fval\u001b[0m\u001b[0;34m,\u001b[0m \u001b[0mgval\u001b[0m\u001b[0;34m[\u001b[0m\u001b[0;36m0\u001b[0m\u001b[0;34m]\u001b[0m\u001b[0;34m\u001b[0m\u001b[0;34m\u001b[0m\u001b[0m\n",
            "\u001b[0;32m/usr/local/lib/python3.7/dist-packages/scipy/optimize/linesearch.py\u001b[0m in \u001b[0;36mscalar_search_wolfe1\u001b[0;34m(phi, derphi, phi0, old_phi0, derphi0, c1, c2, amax, amin, xtol)\u001b[0m\n\u001b[1;32m    174\u001b[0m             \u001b[0malpha1\u001b[0m \u001b[0;34m=\u001b[0m \u001b[0mstp\u001b[0m\u001b[0;34m\u001b[0m\u001b[0;34m\u001b[0m\u001b[0m\n\u001b[1;32m    175\u001b[0m             \u001b[0mphi1\u001b[0m \u001b[0;34m=\u001b[0m \u001b[0mphi\u001b[0m\u001b[0;34m(\u001b[0m\u001b[0mstp\u001b[0m\u001b[0;34m)\u001b[0m\u001b[0;34m\u001b[0m\u001b[0;34m\u001b[0m\u001b[0m\n\u001b[0;32m--> 176\u001b[0;31m             \u001b[0mderphi1\u001b[0m \u001b[0;34m=\u001b[0m \u001b[0mderphi\u001b[0m\u001b[0;34m(\u001b[0m\u001b[0mstp\u001b[0m\u001b[0;34m)\u001b[0m\u001b[0;34m\u001b[0m\u001b[0;34m\u001b[0m\u001b[0m\n\u001b[0m\u001b[1;32m    177\u001b[0m         \u001b[0;32melse\u001b[0m\u001b[0;34m:\u001b[0m\u001b[0;34m\u001b[0m\u001b[0;34m\u001b[0m\u001b[0m\n\u001b[1;32m    178\u001b[0m             \u001b[0;32mbreak\u001b[0m\u001b[0;34m\u001b[0m\u001b[0;34m\u001b[0m\u001b[0m\n",
            "\u001b[0;32m/usr/local/lib/python3.7/dist-packages/scipy/optimize/linesearch.py\u001b[0m in \u001b[0;36mderphi\u001b[0;34m(s)\u001b[0m\n\u001b[1;32m     88\u001b[0m \u001b[0;34m\u001b[0m\u001b[0m\n\u001b[1;32m     89\u001b[0m     \u001b[0;32mdef\u001b[0m \u001b[0mderphi\u001b[0m\u001b[0;34m(\u001b[0m\u001b[0ms\u001b[0m\u001b[0;34m)\u001b[0m\u001b[0;34m:\u001b[0m\u001b[0;34m\u001b[0m\u001b[0;34m\u001b[0m\u001b[0m\n\u001b[0;32m---> 90\u001b[0;31m         \u001b[0mgval\u001b[0m\u001b[0;34m[\u001b[0m\u001b[0;36m0\u001b[0m\u001b[0;34m]\u001b[0m \u001b[0;34m=\u001b[0m \u001b[0mfprime\u001b[0m\u001b[0;34m(\u001b[0m\u001b[0mxk\u001b[0m \u001b[0;34m+\u001b[0m \u001b[0ms\u001b[0m\u001b[0;34m*\u001b[0m\u001b[0mpk\u001b[0m\u001b[0;34m,\u001b[0m \u001b[0;34m*\u001b[0m\u001b[0mnewargs\u001b[0m\u001b[0;34m)\u001b[0m\u001b[0;34m\u001b[0m\u001b[0;34m\u001b[0m\u001b[0m\n\u001b[0m\u001b[1;32m     91\u001b[0m         \u001b[0;32mif\u001b[0m \u001b[0mgradient\u001b[0m\u001b[0;34m:\u001b[0m\u001b[0;34m\u001b[0m\u001b[0;34m\u001b[0m\u001b[0m\n\u001b[1;32m     92\u001b[0m             \u001b[0mgc\u001b[0m\u001b[0;34m[\u001b[0m\u001b[0;36m0\u001b[0m\u001b[0;34m]\u001b[0m \u001b[0;34m+=\u001b[0m \u001b[0;36m1\u001b[0m\u001b[0;34m\u001b[0m\u001b[0;34m\u001b[0m\u001b[0m\n",
            "\u001b[0;32m/usr/local/lib/python3.7/dist-packages/sklearn/linear_model/_logistic.py\u001b[0m in \u001b[0;36m<lambda>\u001b[0;34m(x, *args)\u001b[0m\n\u001b[1;32m    912\u001b[0m         \u001b[0;32melif\u001b[0m \u001b[0msolver\u001b[0m \u001b[0;34m==\u001b[0m \u001b[0;34m'newton-cg'\u001b[0m\u001b[0;34m:\u001b[0m\u001b[0;34m\u001b[0m\u001b[0;34m\u001b[0m\u001b[0m\n\u001b[1;32m    913\u001b[0m             \u001b[0mfunc\u001b[0m \u001b[0;34m=\u001b[0m \u001b[0;32mlambda\u001b[0m \u001b[0mx\u001b[0m\u001b[0;34m,\u001b[0m \u001b[0;34m*\u001b[0m\u001b[0margs\u001b[0m\u001b[0;34m:\u001b[0m \u001b[0m_multinomial_loss\u001b[0m\u001b[0;34m(\u001b[0m\u001b[0mx\u001b[0m\u001b[0;34m,\u001b[0m \u001b[0;34m*\u001b[0m\u001b[0margs\u001b[0m\u001b[0;34m)\u001b[0m\u001b[0;34m[\u001b[0m\u001b[0;36m0\u001b[0m\u001b[0;34m]\u001b[0m\u001b[0;34m\u001b[0m\u001b[0;34m\u001b[0m\u001b[0m\n\u001b[0;32m--> 914\u001b[0;31m             \u001b[0mgrad\u001b[0m \u001b[0;34m=\u001b[0m \u001b[0;32mlambda\u001b[0m \u001b[0mx\u001b[0m\u001b[0;34m,\u001b[0m \u001b[0;34m*\u001b[0m\u001b[0margs\u001b[0m\u001b[0;34m:\u001b[0m \u001b[0m_multinomial_loss_grad\u001b[0m\u001b[0;34m(\u001b[0m\u001b[0mx\u001b[0m\u001b[0;34m,\u001b[0m \u001b[0;34m*\u001b[0m\u001b[0margs\u001b[0m\u001b[0;34m)\u001b[0m\u001b[0;34m[\u001b[0m\u001b[0;36m1\u001b[0m\u001b[0;34m]\u001b[0m\u001b[0;34m\u001b[0m\u001b[0;34m\u001b[0m\u001b[0m\n\u001b[0m\u001b[1;32m    915\u001b[0m             \u001b[0mhess\u001b[0m \u001b[0;34m=\u001b[0m \u001b[0m_multinomial_grad_hess\u001b[0m\u001b[0;34m\u001b[0m\u001b[0;34m\u001b[0m\u001b[0m\n\u001b[1;32m    916\u001b[0m         \u001b[0mwarm_start_sag\u001b[0m \u001b[0;34m=\u001b[0m \u001b[0;34m{\u001b[0m\u001b[0;34m'coef'\u001b[0m\u001b[0;34m:\u001b[0m \u001b[0mw0\u001b[0m\u001b[0;34m.\u001b[0m\u001b[0mT\u001b[0m\u001b[0;34m}\u001b[0m\u001b[0;34m\u001b[0m\u001b[0;34m\u001b[0m\u001b[0m\n",
            "\u001b[0;32m/usr/local/lib/python3.7/dist-packages/sklearn/linear_model/_logistic.py\u001b[0m in \u001b[0;36m_multinomial_loss_grad\u001b[0;34m(w, X, Y, alpha, sample_weight)\u001b[0m\n\u001b[1;32m    347\u001b[0m     grad = np.zeros((n_classes, n_features + bool(fit_intercept)),\n\u001b[1;32m    348\u001b[0m                     dtype=X.dtype)\n\u001b[0;32m--> 349\u001b[0;31m     \u001b[0mloss\u001b[0m\u001b[0;34m,\u001b[0m \u001b[0mp\u001b[0m\u001b[0;34m,\u001b[0m \u001b[0mw\u001b[0m \u001b[0;34m=\u001b[0m \u001b[0m_multinomial_loss\u001b[0m\u001b[0;34m(\u001b[0m\u001b[0mw\u001b[0m\u001b[0;34m,\u001b[0m \u001b[0mX\u001b[0m\u001b[0;34m,\u001b[0m \u001b[0mY\u001b[0m\u001b[0;34m,\u001b[0m \u001b[0malpha\u001b[0m\u001b[0;34m,\u001b[0m \u001b[0msample_weight\u001b[0m\u001b[0;34m)\u001b[0m\u001b[0;34m\u001b[0m\u001b[0;34m\u001b[0m\u001b[0m\n\u001b[0m\u001b[1;32m    350\u001b[0m     \u001b[0msample_weight\u001b[0m \u001b[0;34m=\u001b[0m \u001b[0msample_weight\u001b[0m\u001b[0;34m[\u001b[0m\u001b[0;34m:\u001b[0m\u001b[0;34m,\u001b[0m \u001b[0mnp\u001b[0m\u001b[0;34m.\u001b[0m\u001b[0mnewaxis\u001b[0m\u001b[0;34m]\u001b[0m\u001b[0;34m\u001b[0m\u001b[0;34m\u001b[0m\u001b[0m\n\u001b[1;32m    351\u001b[0m     \u001b[0mdiff\u001b[0m \u001b[0;34m=\u001b[0m \u001b[0msample_weight\u001b[0m \u001b[0;34m*\u001b[0m \u001b[0;34m(\u001b[0m\u001b[0mp\u001b[0m \u001b[0;34m-\u001b[0m \u001b[0mY\u001b[0m\u001b[0;34m)\u001b[0m\u001b[0;34m\u001b[0m\u001b[0;34m\u001b[0m\u001b[0m\n",
            "\u001b[0;32m/usr/local/lib/python3.7/dist-packages/sklearn/linear_model/_logistic.py\u001b[0m in \u001b[0;36m_multinomial_loss\u001b[0;34m(w, X, Y, alpha, sample_weight)\u001b[0m\n\u001b[1;32m    297\u001b[0m     \u001b[0mp\u001b[0m \u001b[0;34m=\u001b[0m \u001b[0msafe_sparse_dot\u001b[0m\u001b[0;34m(\u001b[0m\u001b[0mX\u001b[0m\u001b[0;34m,\u001b[0m \u001b[0mw\u001b[0m\u001b[0;34m.\u001b[0m\u001b[0mT\u001b[0m\u001b[0;34m)\u001b[0m\u001b[0;34m\u001b[0m\u001b[0;34m\u001b[0m\u001b[0m\n\u001b[1;32m    298\u001b[0m     \u001b[0mp\u001b[0m \u001b[0;34m+=\u001b[0m \u001b[0mintercept\u001b[0m\u001b[0;34m\u001b[0m\u001b[0;34m\u001b[0m\u001b[0m\n\u001b[0;32m--> 299\u001b[0;31m     \u001b[0mp\u001b[0m \u001b[0;34m-=\u001b[0m \u001b[0mlogsumexp\u001b[0m\u001b[0;34m(\u001b[0m\u001b[0mp\u001b[0m\u001b[0;34m,\u001b[0m \u001b[0maxis\u001b[0m\u001b[0;34m=\u001b[0m\u001b[0;36m1\u001b[0m\u001b[0;34m)\u001b[0m\u001b[0;34m[\u001b[0m\u001b[0;34m:\u001b[0m\u001b[0;34m,\u001b[0m \u001b[0mnp\u001b[0m\u001b[0;34m.\u001b[0m\u001b[0mnewaxis\u001b[0m\u001b[0;34m]\u001b[0m\u001b[0;34m\u001b[0m\u001b[0;34m\u001b[0m\u001b[0m\n\u001b[0m\u001b[1;32m    300\u001b[0m     \u001b[0mloss\u001b[0m \u001b[0;34m=\u001b[0m \u001b[0;34m-\u001b[0m\u001b[0;34m(\u001b[0m\u001b[0msample_weight\u001b[0m \u001b[0;34m*\u001b[0m \u001b[0mY\u001b[0m \u001b[0;34m*\u001b[0m \u001b[0mp\u001b[0m\u001b[0;34m)\u001b[0m\u001b[0;34m.\u001b[0m\u001b[0msum\u001b[0m\u001b[0;34m(\u001b[0m\u001b[0;34m)\u001b[0m\u001b[0;34m\u001b[0m\u001b[0;34m\u001b[0m\u001b[0m\n\u001b[1;32m    301\u001b[0m     \u001b[0mloss\u001b[0m \u001b[0;34m+=\u001b[0m \u001b[0;36m0.5\u001b[0m \u001b[0;34m*\u001b[0m \u001b[0malpha\u001b[0m \u001b[0;34m*\u001b[0m \u001b[0msquared_norm\u001b[0m\u001b[0;34m(\u001b[0m\u001b[0mw\u001b[0m\u001b[0;34m)\u001b[0m\u001b[0;34m\u001b[0m\u001b[0;34m\u001b[0m\u001b[0m\n",
            "\u001b[0;32m/usr/local/lib/python3.7/dist-packages/scipy/special/_logsumexp.py\u001b[0m in \u001b[0;36mlogsumexp\u001b[0;34m(a, axis, b, keepdims, return_sign)\u001b[0m\n\u001b[1;32m    114\u001b[0m     \u001b[0;31m# suppress warnings about log of zero\u001b[0m\u001b[0;34m\u001b[0m\u001b[0;34m\u001b[0m\u001b[0;34m\u001b[0m\u001b[0m\n\u001b[1;32m    115\u001b[0m     \u001b[0;32mwith\u001b[0m \u001b[0mnp\u001b[0m\u001b[0;34m.\u001b[0m\u001b[0merrstate\u001b[0m\u001b[0;34m(\u001b[0m\u001b[0mdivide\u001b[0m\u001b[0;34m=\u001b[0m\u001b[0;34m'ignore'\u001b[0m\u001b[0;34m)\u001b[0m\u001b[0;34m:\u001b[0m\u001b[0;34m\u001b[0m\u001b[0;34m\u001b[0m\u001b[0m\n\u001b[0;32m--> 116\u001b[0;31m         \u001b[0ms\u001b[0m \u001b[0;34m=\u001b[0m \u001b[0mnp\u001b[0m\u001b[0;34m.\u001b[0m\u001b[0msum\u001b[0m\u001b[0;34m(\u001b[0m\u001b[0mtmp\u001b[0m\u001b[0;34m,\u001b[0m \u001b[0maxis\u001b[0m\u001b[0;34m=\u001b[0m\u001b[0maxis\u001b[0m\u001b[0;34m,\u001b[0m \u001b[0mkeepdims\u001b[0m\u001b[0;34m=\u001b[0m\u001b[0mkeepdims\u001b[0m\u001b[0;34m)\u001b[0m\u001b[0;34m\u001b[0m\u001b[0;34m\u001b[0m\u001b[0m\n\u001b[0m\u001b[1;32m    117\u001b[0m         \u001b[0;32mif\u001b[0m \u001b[0mreturn_sign\u001b[0m\u001b[0;34m:\u001b[0m\u001b[0;34m\u001b[0m\u001b[0;34m\u001b[0m\u001b[0m\n\u001b[1;32m    118\u001b[0m             \u001b[0msgn\u001b[0m \u001b[0;34m=\u001b[0m \u001b[0mnp\u001b[0m\u001b[0;34m.\u001b[0m\u001b[0msign\u001b[0m\u001b[0;34m(\u001b[0m\u001b[0ms\u001b[0m\u001b[0;34m)\u001b[0m\u001b[0;34m\u001b[0m\u001b[0;34m\u001b[0m\u001b[0m\n",
            "\u001b[0;32m<__array_function__ internals>\u001b[0m in \u001b[0;36msum\u001b[0;34m(*args, **kwargs)\u001b[0m\n",
            "\u001b[0;32m/usr/local/lib/python3.7/dist-packages/numpy/core/fromnumeric.py\u001b[0m in \u001b[0;36msum\u001b[0;34m(a, axis, dtype, out, keepdims, initial, where)\u001b[0m\n\u001b[1;32m   2240\u001b[0m \u001b[0;34m\u001b[0m\u001b[0m\n\u001b[1;32m   2241\u001b[0m     return _wrapreduction(a, np.add, 'sum', axis, dtype, out, keepdims=keepdims,\n\u001b[0;32m-> 2242\u001b[0;31m                           initial=initial, where=where)\n\u001b[0m\u001b[1;32m   2243\u001b[0m \u001b[0;34m\u001b[0m\u001b[0m\n\u001b[1;32m   2244\u001b[0m \u001b[0;34m\u001b[0m\u001b[0m\n",
            "\u001b[0;32m/usr/local/lib/python3.7/dist-packages/numpy/core/fromnumeric.py\u001b[0m in \u001b[0;36m_wrapreduction\u001b[0;34m(obj, ufunc, method, axis, dtype, out, **kwargs)\u001b[0m\n\u001b[1;32m     85\u001b[0m                 \u001b[0;32mreturn\u001b[0m \u001b[0mreduction\u001b[0m\u001b[0;34m(\u001b[0m\u001b[0maxis\u001b[0m\u001b[0;34m=\u001b[0m\u001b[0maxis\u001b[0m\u001b[0;34m,\u001b[0m \u001b[0mout\u001b[0m\u001b[0;34m=\u001b[0m\u001b[0mout\u001b[0m\u001b[0;34m,\u001b[0m \u001b[0;34m**\u001b[0m\u001b[0mpasskwargs\u001b[0m\u001b[0;34m)\u001b[0m\u001b[0;34m\u001b[0m\u001b[0;34m\u001b[0m\u001b[0m\n\u001b[1;32m     86\u001b[0m \u001b[0;34m\u001b[0m\u001b[0m\n\u001b[0;32m---> 87\u001b[0;31m     \u001b[0;32mreturn\u001b[0m \u001b[0mufunc\u001b[0m\u001b[0;34m.\u001b[0m\u001b[0mreduce\u001b[0m\u001b[0;34m(\u001b[0m\u001b[0mobj\u001b[0m\u001b[0;34m,\u001b[0m \u001b[0maxis\u001b[0m\u001b[0;34m,\u001b[0m \u001b[0mdtype\u001b[0m\u001b[0;34m,\u001b[0m \u001b[0mout\u001b[0m\u001b[0;34m,\u001b[0m \u001b[0;34m**\u001b[0m\u001b[0mpasskwargs\u001b[0m\u001b[0;34m)\u001b[0m\u001b[0;34m\u001b[0m\u001b[0;34m\u001b[0m\u001b[0m\n\u001b[0m\u001b[1;32m     88\u001b[0m \u001b[0;34m\u001b[0m\u001b[0m\n\u001b[1;32m     89\u001b[0m \u001b[0;34m\u001b[0m\u001b[0m\n",
            "\u001b[0;31mKeyboardInterrupt\u001b[0m: "
          ]
        }
      ]
    },
    {
      "cell_type": "code",
      "metadata": {
        "id": "Yul26U8fKuQl",
        "outputId": "17fbb732-9667-4d51-f161-f7fcfd18832e",
        "colab": {
          "base_uri": "https://localhost:8080/"
        }
      },
      "source": [
        "random_estimator.best_params_"
      ],
      "execution_count": 47,
      "outputs": [
        {
          "output_type": "execute_result",
          "data": {
            "text/plain": [
              "{'C': 0.9500000000000001,\n",
              " 'max_iter': 368,\n",
              " 'solver': 'newton-cg',\n",
              " 'warm_start': False}"
            ]
          },
          "metadata": {
            "tags": []
          },
          "execution_count": 47
        }
      ]
    },
    {
      "cell_type": "code",
      "metadata": {
        "id": "rVshSRpWKuIR"
      },
      "source": [
        "lr=LogisticRegression(C= 0.9500000000000001,\n",
        " max_iter=368,\n",
        " solver= 'newton-cg',\n",
        " warm_start=False)"
      ],
      "execution_count": 51,
      "outputs": []
    },
    {
      "cell_type": "code",
      "metadata": {
        "id": "w568TMGMLOyR",
        "outputId": "71f2f140-cb91-4370-ae3b-e9d1792b4a1f",
        "colab": {
          "base_uri": "https://localhost:8080/"
        }
      },
      "source": [
        "accuracy=[]\n",
        "p=[]\n",
        "r=[]    \n",
        "f1=[]\n",
        "for (train, test), i in zip(cv.split(X, y), range(5)):\n",
        "    print(test,train)\n",
        "    lr.fit(X[train], y[train])\n",
        "    y_pred=lr.predict(X[test])\n",
        "    y_pred_train=lr.predict(X[train])\n",
        "    print(accuracy_score(y_pred_train,y[train]))\n",
        "    accuracy.append(accuracy_score(y_pred,y[test]))\n",
        "    f1.append(f1_score(y_pred,y[test],average='weighted'))\n",
        "    p.append(precision_score(y_pred,y[test],average='weighted'))\n",
        "    r.append(recall_score(y_pred,y[test],average='weighted'))"
      ],
      "execution_count": 52,
      "outputs": [
        {
          "output_type": "stream",
          "text": [
            "[  5   7   9  19  25  35  38  41  46  48  50  52  58  60  74  77  78  88\n",
            "  95 101 109 113 115 116 120 125 132 138 140 147 153 157 159 171 174 177\n",
            " 188 192 194 196 200 202 203 209 220 226 227 230 232 252 253 254 255 264] [  0   1   2   3   4   6   8  10  11  12  13  14  15  16  17  18  20  21\n",
            "  22  23  24  26  27  28  29  30  31  32  33  34  36  37  39  40  42  43\n",
            "  44  45  47  49  51  53  54  55  56  57  59  61  62  63  64  65  66  67\n",
            "  68  69  70  71  72  73  75  76  79  80  81  82  83  84  85  86  87  89\n",
            "  90  91  92  93  94  96  97  98  99 100 102 103 104 105 106 107 108 110\n",
            " 111 112 114 117 118 119 121 122 123 124 126 127 128 129 130 131 133 134\n",
            " 135 136 137 139 141 142 143 144 145 146 148 149 150 151 152 154 155 156\n",
            " 158 160 161 162 163 164 165 166 167 168 169 170 172 173 175 176 178 179\n",
            " 180 181 182 183 184 185 186 187 189 190 191 193 195 197 198 199 201 204\n",
            " 205 206 207 208 210 211 212 213 214 215 216 217 218 219 221 222 223 224\n",
            " 225 228 229 231 233 234 235 236 237 238 239 240 241 242 243 244 245 246\n",
            " 247 248 249 250 251 256 257 258 259 260 261 262 263 265 266 267]\n",
            "0.9299065420560748\n",
            "[  8  10  18  20  22  30  32  33  43  45  55  59  63  67  68  72  85  86\n",
            "  93 103 105 108 111 118 123 129 133 141 143 148 154 156 160 161 166 168\n",
            " 180 190 197 199 201 211 213 214 217 219 224 225 229 231 250 256 260 262] [  0   1   2   3   4   5   6   7   9  11  12  13  14  15  16  17  19  21\n",
            "  23  24  25  26  27  28  29  31  34  35  36  37  38  39  40  41  42  44\n",
            "  46  47  48  49  50  51  52  53  54  56  57  58  60  61  62  64  65  66\n",
            "  69  70  71  73  74  75  76  77  78  79  80  81  82  83  84  87  88  89\n",
            "  90  91  92  94  95  96  97  98  99 100 101 102 104 106 107 109 110 112\n",
            " 113 114 115 116 117 119 120 121 122 124 125 126 127 128 130 131 132 134\n",
            " 135 136 137 138 139 140 142 144 145 146 147 149 150 151 152 153 155 157\n",
            " 158 159 162 163 164 165 167 169 170 171 172 173 174 175 176 177 178 179\n",
            " 181 182 183 184 185 186 187 188 189 191 192 193 194 195 196 198 200 202\n",
            " 203 204 205 206 207 208 209 210 212 215 216 218 220 221 222 223 226 227\n",
            " 228 230 232 233 234 235 236 237 238 239 240 241 242 243 244 245 246 247\n",
            " 248 249 251 252 253 254 255 257 258 259 261 263 264 265 266 267]\n",
            "0.9299065420560748\n",
            "[  0   6  12  16  24  26  28  31  34  49  56  57  62  64  69  79  96  97\n",
            "  99 102 104 106 107 117 121 122 124 126 137 139 149 150 151 152 169 170\n",
            " 182 184 186 187 204 205 212 221 223 235 240 245 246 249 251 259 263 267] [  1   2   3   4   5   7   8   9  10  11  13  14  15  17  18  19  20  21\n",
            "  22  23  25  27  29  30  32  33  35  36  37  38  39  40  41  42  43  44\n",
            "  45  46  47  48  50  51  52  53  54  55  58  59  60  61  63  65  66  67\n",
            "  68  70  71  72  73  74  75  76  77  78  80  81  82  83  84  85  86  87\n",
            "  88  89  90  91  92  93  94  95  98 100 101 103 105 108 109 110 111 112\n",
            " 113 114 115 116 118 119 120 123 125 127 128 129 130 131 132 133 134 135\n",
            " 136 138 140 141 142 143 144 145 146 147 148 153 154 155 156 157 158 159\n",
            " 160 161 162 163 164 165 166 167 168 171 172 173 174 175 176 177 178 179\n",
            " 180 181 183 185 188 189 190 191 192 193 194 195 196 197 198 199 200 201\n",
            " 202 203 206 207 208 209 210 211 213 214 215 216 217 218 219 220 222 224\n",
            " 225 226 227 228 229 230 231 232 233 234 236 237 238 239 241 242 243 244\n",
            " 247 248 250 252 253 254 255 256 257 258 260 261 262 264 265 266]\n",
            "0.9158878504672897\n",
            "[  1   3  11  17  21  29  36  37  42  47  53  54  65  75  76  81  82  84\n",
            "  91  92  94 100 112 114 119 127 130 135 136 145 155 162 167 172 175 176\n",
            " 191 193 195 198 207 208 216 228 233 234 236 241 244 247 258 265 266] [  0   2   4   5   6   7   8   9  10  12  13  14  15  16  18  19  20  22\n",
            "  23  24  25  26  27  28  30  31  32  33  34  35  38  39  40  41  43  44\n",
            "  45  46  48  49  50  51  52  55  56  57  58  59  60  61  62  63  64  66\n",
            "  67  68  69  70  71  72  73  74  77  78  79  80  83  85  86  87  88  89\n",
            "  90  93  95  96  97  98  99 101 102 103 104 105 106 107 108 109 110 111\n",
            " 113 115 116 117 118 120 121 122 123 124 125 126 128 129 131 132 133 134\n",
            " 137 138 139 140 141 142 143 144 146 147 148 149 150 151 152 153 154 156\n",
            " 157 158 159 160 161 163 164 165 166 168 169 170 171 173 174 177 178 179\n",
            " 180 181 182 183 184 185 186 187 188 189 190 192 194 196 197 199 200 201\n",
            " 202 203 204 205 206 209 210 211 212 213 214 215 217 218 219 220 221 222\n",
            " 223 224 225 226 227 229 230 231 232 235 237 238 239 240 242 243 245 246\n",
            " 248 249 250 251 252 253 254 255 256 257 259 260 261 262 263 264 267]\n"
          ],
          "name": "stdout"
        },
        {
          "output_type": "stream",
          "text": [
            "/usr/local/lib/python3.7/dist-packages/sklearn/metrics/_classification.py:1272: UndefinedMetricWarning: Recall is ill-defined and being set to 0.0 in labels with no true samples. Use `zero_division` parameter to control this behavior.\n",
            "  _warn_prf(average, modifier, msg_start, len(result))\n",
            "/usr/local/lib/python3.7/dist-packages/sklearn/metrics/_classification.py:1272: UndefinedMetricWarning: Recall is ill-defined and being set to 0.0 in labels with no true samples. Use `zero_division` parameter to control this behavior.\n",
            "  _warn_prf(average, modifier, msg_start, len(result))\n"
          ],
          "name": "stderr"
        },
        {
          "output_type": "stream",
          "text": [
            "0.9488372093023256\n",
            "[  2   4  13  14  15  23  27  39  40  44  51  61  66  70  71  73  80  83\n",
            "  87  89  90  98 110 128 131 134 142 144 146 158 163 164 165 173 178 179\n",
            " 181 183 185 189 206 210 215 218 222 237 238 239 242 243 248 257 261] [  0   1   3   5   6   7   8   9  10  11  12  16  17  18  19  20  21  22\n",
            "  24  25  26  28  29  30  31  32  33  34  35  36  37  38  41  42  43  45\n",
            "  46  47  48  49  50  52  53  54  55  56  57  58  59  60  62  63  64  65\n",
            "  67  68  69  72  74  75  76  77  78  79  81  82  84  85  86  88  91  92\n",
            "  93  94  95  96  97  99 100 101 102 103 104 105 106 107 108 109 111 112\n",
            " 113 114 115 116 117 118 119 120 121 122 123 124 125 126 127 129 130 132\n",
            " 133 135 136 137 138 139 140 141 143 145 147 148 149 150 151 152 153 154\n",
            " 155 156 157 159 160 161 162 166 167 168 169 170 171 172 174 175 176 177\n",
            " 180 182 184 186 187 188 190 191 192 193 194 195 196 197 198 199 200 201\n",
            " 202 203 204 205 207 208 209 211 212 213 214 216 217 219 220 221 223 224\n",
            " 225 226 227 228 229 230 231 232 233 234 235 236 240 241 244 245 246 247\n",
            " 249 250 251 252 253 254 255 256 258 259 260 262 263 264 265 266 267]\n",
            "0.9395348837209302\n"
          ],
          "name": "stdout"
        },
        {
          "output_type": "stream",
          "text": [
            "/usr/local/lib/python3.7/dist-packages/sklearn/metrics/_classification.py:1272: UndefinedMetricWarning: Recall is ill-defined and being set to 0.0 in labels with no true samples. Use `zero_division` parameter to control this behavior.\n",
            "  _warn_prf(average, modifier, msg_start, len(result))\n"
          ],
          "name": "stderr"
        }
      ]
    },
    {
      "cell_type": "code",
      "metadata": {
        "id": "HeeFgNY6LOpx",
        "outputId": "3faa3393-ed03-4bfa-d994-ae6145b59f3c",
        "colab": {
          "base_uri": "https://localhost:8080/"
        }
      },
      "source": [
        "np.mean(f1),np.mean(r),np.mean(p),np.mean(accuracy)"
      ],
      "execution_count": 53,
      "outputs": [
        {
          "output_type": "execute_result",
          "data": {
            "text/plain": [
              "(0.7158663737407072, 0.693780573025856, 0.767120682718167, 0.693780573025856)"
            ]
          },
          "metadata": {
            "tags": []
          },
          "execution_count": 53
        }
      ]
    },
    {
      "cell_type": "code",
      "metadata": {
        "id": "4LeqDOKlLMXK"
      },
      "source": [
        ""
      ],
      "execution_count": null,
      "outputs": []
    },
    {
      "cell_type": "code",
      "metadata": {
        "id": "O9WtJ-SOKt0T"
      },
      "source": [
        ""
      ],
      "execution_count": null,
      "outputs": []
    },
    {
      "cell_type": "markdown",
      "metadata": {
        "id": "VY1BVew1Jsf3"
      },
      "source": [
        "# hyperparameter tuning for naive bayes"
      ]
    },
    {
      "cell_type": "code",
      "metadata": {
        "id": "RDFdOMqQMbvY"
      },
      "source": [
        "from sklearn.model_selection import TimeSeriesSplit, GridSearchCV"
      ],
      "execution_count": 55,
      "outputs": []
    },
    {
      "cell_type": "code",
      "metadata": {
        "id": "_tn4RzxxJrgH",
        "outputId": "d2e46009-8a8e-4973-a93c-3b0609d68a41",
        "colab": {
          "base_uri": "https://localhost:8080/"
        }
      },
      "source": [
        "parameters = {\"alpha\":  np.array( [0.00001, 0.0001, 0.001, 0.01, 0.1, 1, 10] )}\n",
        "\n",
        "n_folds = 10\n",
        "\n",
        "cv_timeSeries = TimeSeriesSplit(n_splits=n_folds)\n",
        "    \n",
        "model = MultinomialNB()\n",
        "\n",
        "my_cv = TimeSeriesSplit(n_splits=n_folds).split(X)\n",
        "    \n",
        "gsearch_cv = GridSearchCV(estimator=model, param_grid=parameters, cv=my_cv,scoring='accuracy')\n",
        "\n",
        "gsearch_cv.fit(X,y)"
      ],
      "execution_count": 58,
      "outputs": [
        {
          "output_type": "execute_result",
          "data": {
            "text/plain": [
              "GridSearchCV(cv=<generator object TimeSeriesSplit.split at 0x7fb88a3d5950>,\n",
              "             error_score=nan,\n",
              "             estimator=MultinomialNB(alpha=1.0, class_prior=None,\n",
              "                                     fit_prior=True),\n",
              "             iid='deprecated', n_jobs=None,\n",
              "             param_grid={'alpha': array([1.e-05, 1.e-04, 1.e-03, 1.e-02, 1.e-01, 1.e+00, 1.e+01])},\n",
              "             pre_dispatch='2*n_jobs', refit=True, return_train_score=False,\n",
              "             scoring='accuracy', verbose=0)"
            ]
          },
          "metadata": {
            "tags": []
          },
          "execution_count": 58
        }
      ]
    },
    {
      "cell_type": "code",
      "metadata": {
        "id": "erWmt0NAJrbR",
        "outputId": "fc1f9ede-a231-4ad1-8415-c268420a0643",
        "colab": {
          "base_uri": "https://localhost:8080/"
        }
      },
      "source": [
        "gsearch_cv.best_params_"
      ],
      "execution_count": 59,
      "outputs": [
        {
          "output_type": "execute_result",
          "data": {
            "text/plain": [
              "{'alpha': 0.01}"
            ]
          },
          "metadata": {
            "tags": []
          },
          "execution_count": 59
        }
      ]
    },
    {
      "cell_type": "code",
      "metadata": {
        "id": "tOHgaXBZJrUC"
      },
      "source": [
        ""
      ],
      "execution_count": null,
      "outputs": []
    },
    {
      "cell_type": "code",
      "metadata": {
        "id": "3kasDgtDJrMp"
      },
      "source": [
        ""
      ],
      "execution_count": null,
      "outputs": []
    },
    {
      "cell_type": "code",
      "metadata": {
        "id": "pGjyZRRZGx70"
      },
      "source": [
        "best_clf = clf.fit(X_train, y_train)"
      ],
      "execution_count": null,
      "outputs": []
    },
    {
      "cell_type": "code",
      "metadata": {
        "id": "dILvuzD7Gxy6"
      },
      "source": [
        ""
      ],
      "execution_count": null,
      "outputs": []
    },
    {
      "cell_type": "code",
      "metadata": {
        "id": "JJD-qKaaduN2"
      },
      "source": [
        ""
      ],
      "execution_count": 372,
      "outputs": []
    },
    {
      "cell_type": "code",
      "metadata": {
        "id": "a6I3QByecQnf",
        "outputId": "e292ddf2-fd3f-4caf-ea15-27663920a3d4",
        "colab": {
          "base_uri": "https://localhost:8080/"
        }
      },
      "source": [
        "accuracy=[]\n",
        "p=[]\n",
        "r=[]    \n",
        "f1=[]\n",
        "for (train, test), i in zip(cv.split(X, y), range(5)):\n",
        "    print(test,train)\n",
        "    nb.fit(X[train], y[train])\n",
        "    y_pred=nb.predict(X[test],)\n",
        "    y_pred_train=nb.predict(X[train])\n",
        "    print(accuracy_score(y_pred_train,y[train]))\n",
        "    accuracy.append(accuracy_score(y_pred,y[test]))\n",
        "    f1.append(f1_score(y_pred,y[test],average='weighted'))\n",
        "    p.append(precision_score(y_pred,y[test],average='weighted'))\n",
        "    r.append(recall_score(y_pred,y[test],average='weighted'))"
      ],
      "execution_count": 373,
      "outputs": [
        {
          "output_type": "stream",
          "text": [
            "[  5   7   9  19  25  35  38  41  46  48  50  52  58  60  74  77  78  88\n",
            "  95 101 109 113 115 116 120 125 132 138 140 147 153 157 159 171 174 177\n",
            " 188 192 194 196 200 202 203 209 220 226 227 230 232 252 253 254 255 264] [  0   1   2   3   4   6   8  10  11  12  13  14  15  16  17  18  20  21\n",
            "  22  23  24  26  27  28  29  30  31  32  33  34  36  37  39  40  42  43\n",
            "  44  45  47  49  51  53  54  55  56  57  59  61  62  63  64  65  66  67\n",
            "  68  69  70  71  72  73  75  76  79  80  81  82  83  84  85  86  87  89\n",
            "  90  91  92  93  94  96  97  98  99 100 102 103 104 105 106 107 108 110\n",
            " 111 112 114 117 118 119 121 122 123 124 126 127 128 129 130 131 133 134\n",
            " 135 136 137 139 141 142 143 144 145 146 148 149 150 151 152 154 155 156\n",
            " 158 160 161 162 163 164 165 166 167 168 169 170 172 173 175 176 178 179\n",
            " 180 181 182 183 184 185 186 187 189 190 191 193 195 197 198 199 201 204\n",
            " 205 206 207 208 210 211 212 213 214 215 216 217 218 219 221 222 223 224\n",
            " 225 228 229 231 233 234 235 236 237 238 239 240 241 242 243 244 245 246\n",
            " 247 248 249 250 251 256 257 258 259 260 261 262 263 265 266 267]\n",
            "0.8644859813084113\n",
            "[  8  10  18  20  22  30  32  33  43  45  55  59  63  67  68  72  85  86\n",
            "  93 103 105 108 111 118 123 129 133 141 143 148 154 156 160 161 166 168\n",
            " 180 190 197 199 201 211 213 214 217 219 224 225 229 231 250 256 260 262] [  0   1   2   3   4   5   6   7   9  11  12  13  14  15  16  17  19  21\n",
            "  23  24  25  26  27  28  29  31  34  35  36  37  38  39  40  41  42  44\n",
            "  46  47  48  49  50  51  52  53  54  56  57  58  60  61  62  64  65  66\n",
            "  69  70  71  73  74  75  76  77  78  79  80  81  82  83  84  87  88  89\n",
            "  90  91  92  94  95  96  97  98  99 100 101 102 104 106 107 109 110 112\n",
            " 113 114 115 116 117 119 120 121 122 124 125 126 127 128 130 131 132 134\n",
            " 135 136 137 138 139 140 142 144 145 146 147 149 150 151 152 153 155 157\n",
            " 158 159 162 163 164 165 167 169 170 171 172 173 174 175 176 177 178 179\n",
            " 181 182 183 184 185 186 187 188 189 191 192 193 194 195 196 198 200 202\n",
            " 203 204 205 206 207 208 209 210 212 215 216 218 220 221 222 223 226 227\n",
            " 228 230 232 233 234 235 236 237 238 239 240 241 242 243 244 245 246 247\n",
            " 248 249 251 252 253 254 255 257 258 259 261 263 264 265 266 267]\n",
            "0.8691588785046729\n",
            "[  0   6  12  16  24  26  28  31  34  49  56  57  62  64  69  79  96  97\n",
            "  99 102 104 106 107 117 121 122 124 126 137 139 149 150 151 152 169 170\n",
            " 182 184 186 187 204 205 212 221 223 235 240 245 246 249 251 259 263 267] [  1   2   3   4   5   7   8   9  10  11  13  14  15  17  18  19  20  21\n",
            "  22  23  25  27  29  30  32  33  35  36  37  38  39  40  41  42  43  44\n",
            "  45  46  47  48  50  51  52  53  54  55  58  59  60  61  63  65  66  67\n",
            "  68  70  71  72  73  74  75  76  77  78  80  81  82  83  84  85  86  87\n",
            "  88  89  90  91  92  93  94  95  98 100 101 103 105 108 109 110 111 112\n",
            " 113 114 115 116 118 119 120 123 125 127 128 129 130 131 132 133 134 135\n",
            " 136 138 140 141 142 143 144 145 146 147 148 153 154 155 156 157 158 159\n",
            " 160 161 162 163 164 165 166 167 168 171 172 173 174 175 176 177 178 179\n",
            " 180 181 183 185 188 189 190 191 192 193 194 195 196 197 198 199 200 201\n",
            " 202 203 206 207 208 209 210 211 213 214 215 216 217 218 219 220 222 224\n",
            " 225 226 227 228 229 230 231 232 233 234 236 237 238 239 241 242 243 244\n",
            " 247 248 250 252 253 254 255 256 257 258 260 261 262 264 265 266]\n",
            "0.8551401869158879\n",
            "[  1   3  11  17  21  29  36  37  42  47  53  54  65  75  76  81  82  84\n",
            "  91  92  94 100 112 114 119 127 130 135 136 145 155 162 167 172 175 176\n",
            " 191 193 195 198 207 208 216 228 233 234 236 241 244 247 258 265 266] [  0   2   4   5   6   7   8   9  10  12  13  14  15  16  18  19  20  22\n",
            "  23  24  25  26  27  28  30  31  32  33  34  35  38  39  40  41  43  44\n",
            "  45  46  48  49  50  51  52  55  56  57  58  59  60  61  62  63  64  66\n",
            "  67  68  69  70  71  72  73  74  77  78  79  80  83  85  86  87  88  89\n",
            "  90  93  95  96  97  98  99 101 102 103 104 105 106 107 108 109 110 111\n",
            " 113 115 116 117 118 120 121 122 123 124 125 126 128 129 131 132 133 134\n",
            " 137 138 139 140 141 142 143 144 146 147 148 149 150 151 152 153 154 156\n",
            " 157 158 159 160 161 163 164 165 166 168 169 170 171 173 174 177 178 179\n",
            " 180 181 182 183 184 185 186 187 188 189 190 192 194 196 197 199 200 201\n",
            " 202 203 204 205 206 209 210 211 212 213 214 215 217 218 219 220 221 222\n",
            " 223 224 225 226 227 229 230 231 232 235 237 238 239 240 242 243 245 246\n",
            " 248 249 250 251 252 253 254 255 256 257 259 260 261 262 263 264 267]\n",
            "0.8790697674418605\n",
            "[  2   4  13  14  15  23  27  39  40  44  51  61  66  70  71  73  80  83\n",
            "  87  89  90  98 110 128 131 134 142 144 146 158 163 164 165 173 178 179\n",
            " 181 183 185 189 206 210 215 218 222 237 238 239 242 243 248 257 261] [  0   1   3   5   6   7   8   9  10  11  12  16  17  18  19  20  21  22\n",
            "  24  25  26  28  29  30  31  32  33  34  35  36  37  38  41  42  43  45\n",
            "  46  47  48  49  50  52  53  54  55  56  57  58  59  60  62  63  64  65\n",
            "  67  68  69  72  74  75  76  77  78  79  81  82  84  85  86  88  91  92\n",
            "  93  94  95  96  97  99 100 101 102 103 104 105 106 107 108 109 111 112\n",
            " 113 114 115 116 117 118 119 120 121 122 123 124 125 126 127 129 130 132\n",
            " 133 135 136 137 138 139 140 141 143 145 147 148 149 150 151 152 153 154\n",
            " 155 156 157 159 160 161 162 166 167 168 169 170 171 172 174 175 176 177\n",
            " 180 182 184 186 187 188 190 191 192 193 194 195 196 197 198 199 200 201\n",
            " 202 203 204 205 207 208 209 211 212 213 214 216 217 219 220 221 223 224\n",
            " 225 226 227 228 229 230 231 232 233 234 235 236 240 241 244 245 246 247\n",
            " 249 250 251 252 253 254 255 256 258 259 260 262 263 264 265 266 267]\n",
            "0.8651162790697674\n"
          ],
          "name": "stdout"
        },
        {
          "output_type": "stream",
          "text": [
            "/usr/local/lib/python3.7/dist-packages/sklearn/metrics/_classification.py:1272: UndefinedMetricWarning: Recall is ill-defined and being set to 0.0 in labels with no true samples. Use `zero_division` parameter to control this behavior.\n",
            "  _warn_prf(average, modifier, msg_start, len(result))\n",
            "/usr/local/lib/python3.7/dist-packages/sklearn/metrics/_classification.py:1272: UndefinedMetricWarning: Recall is ill-defined and being set to 0.0 in labels with no true samples. Use `zero_division` parameter to control this behavior.\n",
            "  _warn_prf(average, modifier, msg_start, len(result))\n",
            "/usr/local/lib/python3.7/dist-packages/sklearn/metrics/_classification.py:1272: UndefinedMetricWarning: Recall is ill-defined and being set to 0.0 in labels with no true samples. Use `zero_division` parameter to control this behavior.\n",
            "  _warn_prf(average, modifier, msg_start, len(result))\n",
            "/usr/local/lib/python3.7/dist-packages/sklearn/metrics/_classification.py:1272: UndefinedMetricWarning: Recall is ill-defined and being set to 0.0 in labels with no true samples. Use `zero_division` parameter to control this behavior.\n",
            "  _warn_prf(average, modifier, msg_start, len(result))\n",
            "/usr/local/lib/python3.7/dist-packages/sklearn/metrics/_classification.py:1272: UndefinedMetricWarning: Recall is ill-defined and being set to 0.0 in labels with no true samples. Use `zero_division` parameter to control this behavior.\n",
            "  _warn_prf(average, modifier, msg_start, len(result))\n"
          ],
          "name": "stderr"
        }
      ]
    },
    {
      "cell_type": "code",
      "metadata": {
        "id": "8RgBX8zDcQf_",
        "outputId": "7731493f-03cc-4417-8729-e155cbb2023b",
        "colab": {
          "base_uri": "https://localhost:8080/"
        }
      },
      "source": [
        "np.mean(accuracy)"
      ],
      "execution_count": 374,
      "outputs": [
        {
          "output_type": "execute_result",
          "data": {
            "text/plain": [
              "0.6753319357092942"
            ]
          },
          "metadata": {
            "tags": []
          },
          "execution_count": 374
        }
      ]
    },
    {
      "cell_type": "code",
      "metadata": {
        "id": "vu2BxI60cQYy",
        "outputId": "cb7aa8fb-5d11-446a-c434-a0b229b841c8",
        "colab": {
          "base_uri": "https://localhost:8080/"
        }
      },
      "source": [
        "np.mean(p)"
      ],
      "execution_count": 375,
      "outputs": [
        {
          "output_type": "execute_result",
          "data": {
            "text/plain": [
              "0.7714711051817972"
            ]
          },
          "metadata": {
            "tags": []
          },
          "execution_count": 375
        }
      ]
    },
    {
      "cell_type": "code",
      "metadata": {
        "id": "i5OlIWVJcQQq",
        "outputId": "41ccf76c-10e2-4560-fd70-fbe1678f90b8",
        "colab": {
          "base_uri": "https://localhost:8080/"
        }
      },
      "source": [
        "np.mean(r)"
      ],
      "execution_count": 376,
      "outputs": [
        {
          "output_type": "execute_result",
          "data": {
            "text/plain": [
              "0.6753319357092942"
            ]
          },
          "metadata": {
            "tags": []
          },
          "execution_count": 376
        }
      ]
    },
    {
      "cell_type": "code",
      "metadata": {
        "id": "hIKjN_mBf97C",
        "outputId": "68d86b29-1d90-4304-e291-9ecd3bc24455",
        "colab": {
          "base_uri": "https://localhost:8080/"
        }
      },
      "source": [
        "np.mean(f1)"
      ],
      "execution_count": 377,
      "outputs": [
        {
          "output_type": "execute_result",
          "data": {
            "text/plain": [
              "0.7049734260865043"
            ]
          },
          "metadata": {
            "tags": []
          },
          "execution_count": 377
        }
      ]
    },
    {
      "cell_type": "code",
      "metadata": {
        "id": "fJavL75EiLS8"
      },
      "source": [
        ""
      ],
      "execution_count": 377,
      "outputs": []
    },
    {
      "cell_type": "code",
      "metadata": {
        "id": "t51PvarQiLNH",
        "outputId": "099fa8af-df08-46ce-83dd-381cac12e345",
        "colab": {
          "base_uri": "https://localhost:8080/"
        }
      },
      "source": [
        "accuracy=[]\n",
        "p=[]\n",
        "r=[]    \n",
        "f1=[]\n",
        "for (train, test), i in zip(cv.split(X, y), range(5)):\n",
        "    print(test,train)\n",
        "    lr.fit(X[train], y[train])\n",
        "    y_pred=lr.predict(X[test])\n",
        "    y_pred_train=lr.predict(X[train])\n",
        "    print(accuracy_score(y_pred_train,y[train]))\n",
        "    accuracy.append(accuracy_score(y_pred,y[test]))\n",
        "    f1.append(f1_score(y_pred,y[test],average='weighted'))\n",
        "    p.append(precision_score(y_pred,y[test],average='weighted'))\n",
        "    r.append(recall_score(y_pred,y[test],average='weighted'))"
      ],
      "execution_count": 378,
      "outputs": [
        {
          "output_type": "stream",
          "text": [
            "[  5   7   9  19  25  35  38  41  46  48  50  52  58  60  74  77  78  88\n",
            "  95 101 109 113 115 116 120 125 132 138 140 147 153 157 159 171 174 177\n",
            " 188 192 194 196 200 202 203 209 220 226 227 230 232 252 253 254 255 264] [  0   1   2   3   4   6   8  10  11  12  13  14  15  16  17  18  20  21\n",
            "  22  23  24  26  27  28  29  30  31  32  33  34  36  37  39  40  42  43\n",
            "  44  45  47  49  51  53  54  55  56  57  59  61  62  63  64  65  66  67\n",
            "  68  69  70  71  72  73  75  76  79  80  81  82  83  84  85  86  87  89\n",
            "  90  91  92  93  94  96  97  98  99 100 102 103 104 105 106 107 108 110\n",
            " 111 112 114 117 118 119 121 122 123 124 126 127 128 129 130 131 133 134\n",
            " 135 136 137 139 141 142 143 144 145 146 148 149 150 151 152 154 155 156\n",
            " 158 160 161 162 163 164 165 166 167 168 169 170 172 173 175 176 178 179\n",
            " 180 181 182 183 184 185 186 187 189 190 191 193 195 197 198 199 201 204\n",
            " 205 206 207 208 210 211 212 213 214 215 216 217 218 219 221 222 223 224\n",
            " 225 228 229 231 233 234 235 236 237 238 239 240 241 242 243 244 245 246\n",
            " 247 248 249 250 251 256 257 258 259 260 261 262 263 265 266 267]\n",
            "0.9299065420560748\n",
            "[  8  10  18  20  22  30  32  33  43  45  55  59  63  67  68  72  85  86\n",
            "  93 103 105 108 111 118 123 129 133 141 143 148 154 156 160 161 166 168\n",
            " 180 190 197 199 201 211 213 214 217 219 224 225 229 231 250 256 260 262] [  0   1   2   3   4   5   6   7   9  11  12  13  14  15  16  17  19  21\n",
            "  23  24  25  26  27  28  29  31  34  35  36  37  38  39  40  41  42  44\n",
            "  46  47  48  49  50  51  52  53  54  56  57  58  60  61  62  64  65  66\n",
            "  69  70  71  73  74  75  76  77  78  79  80  81  82  83  84  87  88  89\n",
            "  90  91  92  94  95  96  97  98  99 100 101 102 104 106 107 109 110 112\n",
            " 113 114 115 116 117 119 120 121 122 124 125 126 127 128 130 131 132 134\n",
            " 135 136 137 138 139 140 142 144 145 146 147 149 150 151 152 153 155 157\n",
            " 158 159 162 163 164 165 167 169 170 171 172 173 174 175 176 177 178 179\n",
            " 181 182 183 184 185 186 187 188 189 191 192 193 194 195 196 198 200 202\n",
            " 203 204 205 206 207 208 209 210 212 215 216 218 220 221 222 223 226 227\n",
            " 228 230 232 233 234 235 236 237 238 239 240 241 242 243 244 245 246 247\n",
            " 248 249 251 252 253 254 255 257 258 259 261 263 264 265 266 267]\n",
            "0.9299065420560748\n",
            "[  0   6  12  16  24  26  28  31  34  49  56  57  62  64  69  79  96  97\n",
            "  99 102 104 106 107 117 121 122 124 126 137 139 149 150 151 152 169 170\n",
            " 182 184 186 187 204 205 212 221 223 235 240 245 246 249 251 259 263 267] [  1   2   3   4   5   7   8   9  10  11  13  14  15  17  18  19  20  21\n",
            "  22  23  25  27  29  30  32  33  35  36  37  38  39  40  41  42  43  44\n",
            "  45  46  47  48  50  51  52  53  54  55  58  59  60  61  63  65  66  67\n",
            "  68  70  71  72  73  74  75  76  77  78  80  81  82  83  84  85  86  87\n",
            "  88  89  90  91  92  93  94  95  98 100 101 103 105 108 109 110 111 112\n",
            " 113 114 115 116 118 119 120 123 125 127 128 129 130 131 132 133 134 135\n",
            " 136 138 140 141 142 143 144 145 146 147 148 153 154 155 156 157 158 159\n",
            " 160 161 162 163 164 165 166 167 168 171 172 173 174 175 176 177 178 179\n",
            " 180 181 183 185 188 189 190 191 192 193 194 195 196 197 198 199 200 201\n",
            " 202 203 206 207 208 209 210 211 213 214 215 216 217 218 219 220 222 224\n",
            " 225 226 227 228 229 230 231 232 233 234 236 237 238 239 241 242 243 244\n",
            " 247 248 250 252 253 254 255 256 257 258 260 261 262 264 265 266]\n",
            "0.9205607476635514\n",
            "[  1   3  11  17  21  29  36  37  42  47  53  54  65  75  76  81  82  84\n",
            "  91  92  94 100 112 114 119 127 130 135 136 145 155 162 167 172 175 176\n",
            " 191 193 195 198 207 208 216 228 233 234 236 241 244 247 258 265 266] [  0   2   4   5   6   7   8   9  10  12  13  14  15  16  18  19  20  22\n",
            "  23  24  25  26  27  28  30  31  32  33  34  35  38  39  40  41  43  44\n",
            "  45  46  48  49  50  51  52  55  56  57  58  59  60  61  62  63  64  66\n",
            "  67  68  69  70  71  72  73  74  77  78  79  80  83  85  86  87  88  89\n",
            "  90  93  95  96  97  98  99 101 102 103 104 105 106 107 108 109 110 111\n",
            " 113 115 116 117 118 120 121 122 123 124 125 126 128 129 131 132 133 134\n",
            " 137 138 139 140 141 142 143 144 146 147 148 149 150 151 152 153 154 156\n",
            " 157 158 159 160 161 163 164 165 166 168 169 170 171 173 174 177 178 179\n",
            " 180 181 182 183 184 185 186 187 188 189 190 192 194 196 197 199 200 201\n",
            " 202 203 204 205 206 209 210 211 212 213 214 215 217 218 219 220 221 222\n",
            " 223 224 225 226 227 229 230 231 232 235 237 238 239 240 242 243 245 246\n",
            " 248 249 250 251 252 253 254 255 256 257 259 260 261 262 263 264 267]\n",
            "0.9534883720930233\n",
            "[  2   4  13  14  15  23  27  39  40  44  51  61  66  70  71  73  80  83\n",
            "  87  89  90  98 110 128 131 134 142 144 146 158 163 164 165 173 178 179\n",
            " 181 183 185 189 206 210 215 218 222 237 238 239 242 243 248 257 261] [  0   1   3   5   6   7   8   9  10  11  12  16  17  18  19  20  21  22\n",
            "  24  25  26  28  29  30  31  32  33  34  35  36  37  38  41  42  43  45\n",
            "  46  47  48  49  50  52  53  54  55  56  57  58  59  60  62  63  64  65\n",
            "  67  68  69  72  74  75  76  77  78  79  81  82  84  85  86  88  91  92\n",
            "  93  94  95  96  97  99 100 101 102 103 104 105 106 107 108 109 111 112\n",
            " 113 114 115 116 117 118 119 120 121 122 123 124 125 126 127 129 130 132\n",
            " 133 135 136 137 138 139 140 141 143 145 147 148 149 150 151 152 153 154\n",
            " 155 156 157 159 160 161 162 166 167 168 169 170 171 172 174 175 176 177\n",
            " 180 182 184 186 187 188 190 191 192 193 194 195 196 197 198 199 200 201\n",
            " 202 203 204 205 207 208 209 211 212 213 214 216 217 219 220 221 223 224\n",
            " 225 226 227 228 229 230 231 232 233 234 235 236 240 241 244 245 246 247\n",
            " 249 250 251 252 253 254 255 256 258 259 260 262 263 264 265 266 267]\n",
            "0.9395348837209302\n"
          ],
          "name": "stdout"
        },
        {
          "output_type": "stream",
          "text": [
            "/usr/local/lib/python3.7/dist-packages/sklearn/metrics/_classification.py:1272: UndefinedMetricWarning: Recall is ill-defined and being set to 0.0 in labels with no true samples. Use `zero_division` parameter to control this behavior.\n",
            "  _warn_prf(average, modifier, msg_start, len(result))\n",
            "/usr/local/lib/python3.7/dist-packages/sklearn/metrics/_classification.py:1272: UndefinedMetricWarning: Recall is ill-defined and being set to 0.0 in labels with no true samples. Use `zero_division` parameter to control this behavior.\n",
            "  _warn_prf(average, modifier, msg_start, len(result))\n"
          ],
          "name": "stderr"
        }
      ]
    },
    {
      "cell_type": "code",
      "metadata": {
        "id": "mth40InZiLIS",
        "outputId": "b6b59b5d-e37f-4756-eea7-7f745bdf9063",
        "colab": {
          "base_uri": "https://localhost:8080/"
        }
      },
      "source": [
        "np.mean(f1),np.mean(r),np.mean(p),np.mean(accuracy)"
      ],
      "execution_count": 379,
      "outputs": [
        {
          "output_type": "execute_result",
          "data": {
            "text/plain": [
              "(0.7161359155196829,\n",
              " 0.6975541579315164,\n",
              " 0.7649823179382927,\n",
              " 0.6975541579315164)"
            ]
          },
          "metadata": {
            "tags": []
          },
          "execution_count": 379
        }
      ]
    },
    {
      "cell_type": "code",
      "metadata": {
        "id": "Fe4i9sLbiLBt"
      },
      "source": [
        "from sklearn.ensemble import RandomForestClassifier"
      ],
      "execution_count": 74,
      "outputs": []
    },
    {
      "cell_type": "code",
      "metadata": {
        "id": "V0pMCFA10VR9"
      },
      "source": [
        "# RandomForestClassifier?"
      ],
      "execution_count": 381,
      "outputs": []
    },
    {
      "cell_type": "code",
      "metadata": {
        "id": "WMmQCaXniK7g"
      },
      "source": [
        "rf = RandomForestClassifier(bootstrap= True,max_depth= 20,max_features= 'sqrt',min_samples_leaf= 1,min_samples_split= 10,n_estimators= 1600)"
      ],
      "execution_count": 428,
      "outputs": []
    },
    {
      "cell_type": "code",
      "metadata": {
        "id": "12QAv7oQbJPi",
        "outputId": "edaf0238-216c-494d-9175-a9436101fdd5",
        "colab": {
          "base_uri": "https://localhost:8080/"
        }
      },
      "source": [
        "accuracy=[]\n",
        "p=[]\n",
        "r=[]    \n",
        "f1=[]\n",
        "for (train, test), i in zip(cv.split(X, y), range(5)):\n",
        "    print(test,train)\n",
        "    rf.fit(X[train], y[train])\n",
        "    y_pred=rf.predict(X[test])\n",
        "    y_pred_train=rf.predict(X[train])\n",
        "    print(accuracy_score(y_pred_train,y[train]))\n",
        "    accuracy.append(accuracy_score(y_pred,y[test]))\n",
        "    f1.append(f1_score(y_pred,y[test],average='weighted'))\n",
        "    p.append(precision_score(y_pred,y[test],average='weighted'))\n",
        "    r.append(recall_score(y_pred,y[test],average='weighted'))"
      ],
      "execution_count": 429,
      "outputs": [
        {
          "output_type": "stream",
          "text": [
            "[  5   7   9  19  25  35  38  41  46  48  50  52  58  60  74  77  78  88\n",
            "  95 101 109 113 115 116 120 125 132 138 140 147 153 157 159 171 174 177\n",
            " 188 192 194 196 200 202 203 209 220 226 227 230 232 252 253 254 255 264] [  0   1   2   3   4   6   8  10  11  12  13  14  15  16  17  18  20  21\n",
            "  22  23  24  26  27  28  29  30  31  32  33  34  36  37  39  40  42  43\n",
            "  44  45  47  49  51  53  54  55  56  57  59  61  62  63  64  65  66  67\n",
            "  68  69  70  71  72  73  75  76  79  80  81  82  83  84  85  86  87  89\n",
            "  90  91  92  93  94  96  97  98  99 100 102 103 104 105 106 107 108 110\n",
            " 111 112 114 117 118 119 121 122 123 124 126 127 128 129 130 131 133 134\n",
            " 135 136 137 139 141 142 143 144 145 146 148 149 150 151 152 154 155 156\n",
            " 158 160 161 162 163 164 165 166 167 168 169 170 172 173 175 176 178 179\n",
            " 180 181 182 183 184 185 186 187 189 190 191 193 195 197 198 199 201 204\n",
            " 205 206 207 208 210 211 212 213 214 215 216 217 218 219 221 222 223 224\n",
            " 225 228 229 231 233 234 235 236 237 238 239 240 241 242 243 244 245 246\n",
            " 247 248 249 250 251 256 257 258 259 260 261 262 263 265 266 267]\n",
            "0.9392523364485982\n",
            "[  8  10  18  20  22  30  32  33  43  45  55  59  63  67  68  72  85  86\n",
            "  93 103 105 108 111 118 123 129 133 141 143 148 154 156 160 161 166 168\n",
            " 180 190 197 199 201 211 213 214 217 219 224 225 229 231 250 256 260 262] [  0   1   2   3   4   5   6   7   9  11  12  13  14  15  16  17  19  21\n",
            "  23  24  25  26  27  28  29  31  34  35  36  37  38  39  40  41  42  44\n",
            "  46  47  48  49  50  51  52  53  54  56  57  58  60  61  62  64  65  66\n",
            "  69  70  71  73  74  75  76  77  78  79  80  81  82  83  84  87  88  89\n",
            "  90  91  92  94  95  96  97  98  99 100 101 102 104 106 107 109 110 112\n",
            " 113 114 115 116 117 119 120 121 122 124 125 126 127 128 130 131 132 134\n",
            " 135 136 137 138 139 140 142 144 145 146 147 149 150 151 152 153 155 157\n",
            " 158 159 162 163 164 165 167 169 170 171 172 173 174 175 176 177 178 179\n",
            " 181 182 183 184 185 186 187 188 189 191 192 193 194 195 196 198 200 202\n",
            " 203 204 205 206 207 208 209 210 212 215 216 218 220 221 222 223 226 227\n",
            " 228 230 232 233 234 235 236 237 238 239 240 241 242 243 244 245 246 247\n",
            " 248 249 251 252 253 254 255 257 258 259 261 263 264 265 266 267]\n",
            "0.9532710280373832\n",
            "[  0   6  12  16  24  26  28  31  34  49  56  57  62  64  69  79  96  97\n",
            "  99 102 104 106 107 117 121 122 124 126 137 139 149 150 151 152 169 170\n",
            " 182 184 186 187 204 205 212 221 223 235 240 245 246 249 251 259 263 267] [  1   2   3   4   5   7   8   9  10  11  13  14  15  17  18  19  20  21\n",
            "  22  23  25  27  29  30  32  33  35  36  37  38  39  40  41  42  43  44\n",
            "  45  46  47  48  50  51  52  53  54  55  58  59  60  61  63  65  66  67\n",
            "  68  70  71  72  73  74  75  76  77  78  80  81  82  83  84  85  86  87\n",
            "  88  89  90  91  92  93  94  95  98 100 101 103 105 108 109 110 111 112\n",
            " 113 114 115 116 118 119 120 123 125 127 128 129 130 131 132 133 134 135\n",
            " 136 138 140 141 142 143 144 145 146 147 148 153 154 155 156 157 158 159\n",
            " 160 161 162 163 164 165 166 167 168 171 172 173 174 175 176 177 178 179\n",
            " 180 181 183 185 188 189 190 191 192 193 194 195 196 197 198 199 200 201\n",
            " 202 203 206 207 208 209 210 211 213 214 215 216 217 218 219 220 222 224\n",
            " 225 226 227 228 229 230 231 232 233 234 236 237 238 239 241 242 243 244\n",
            " 247 248 250 252 253 254 255 256 257 258 260 261 262 264 265 266]\n"
          ],
          "name": "stdout"
        },
        {
          "output_type": "stream",
          "text": [
            "/usr/local/lib/python3.7/dist-packages/sklearn/metrics/_classification.py:1272: UndefinedMetricWarning: Recall is ill-defined and being set to 0.0 in labels with no true samples. Use `zero_division` parameter to control this behavior.\n",
            "  _warn_prf(average, modifier, msg_start, len(result))\n"
          ],
          "name": "stderr"
        },
        {
          "output_type": "stream",
          "text": [
            "0.9392523364485982\n",
            "[  1   3  11  17  21  29  36  37  42  47  53  54  65  75  76  81  82  84\n",
            "  91  92  94 100 112 114 119 127 130 135 136 145 155 162 167 172 175 176\n",
            " 191 193 195 198 207 208 216 228 233 234 236 241 244 247 258 265 266] [  0   2   4   5   6   7   8   9  10  12  13  14  15  16  18  19  20  22\n",
            "  23  24  25  26  27  28  30  31  32  33  34  35  38  39  40  41  43  44\n",
            "  45  46  48  49  50  51  52  55  56  57  58  59  60  61  62  63  64  66\n",
            "  67  68  69  70  71  72  73  74  77  78  79  80  83  85  86  87  88  89\n",
            "  90  93  95  96  97  98  99 101 102 103 104 105 106 107 108 109 110 111\n",
            " 113 115 116 117 118 120 121 122 123 124 125 126 128 129 131 132 133 134\n",
            " 137 138 139 140 141 142 143 144 146 147 148 149 150 151 152 153 154 156\n",
            " 157 158 159 160 161 163 164 165 166 168 169 170 171 173 174 177 178 179\n",
            " 180 181 182 183 184 185 186 187 188 189 190 192 194 196 197 199 200 201\n",
            " 202 203 204 205 206 209 210 211 212 213 214 215 217 218 219 220 221 222\n",
            " 223 224 225 226 227 229 230 231 232 235 237 238 239 240 242 243 245 246\n",
            " 248 249 250 251 252 253 254 255 256 257 259 260 261 262 263 264 267]\n",
            "0.9627906976744186\n",
            "[  2   4  13  14  15  23  27  39  40  44  51  61  66  70  71  73  80  83\n",
            "  87  89  90  98 110 128 131 134 142 144 146 158 163 164 165 173 178 179\n",
            " 181 183 185 189 206 210 215 218 222 237 238 239 242 243 248 257 261] [  0   1   3   5   6   7   8   9  10  11  12  16  17  18  19  20  21  22\n",
            "  24  25  26  28  29  30  31  32  33  34  35  36  37  38  41  42  43  45\n",
            "  46  47  48  49  50  52  53  54  55  56  57  58  59  60  62  63  64  65\n",
            "  67  68  69  72  74  75  76  77  78  79  81  82  84  85  86  88  91  92\n",
            "  93  94  95  96  97  99 100 101 102 103 104 105 106 107 108 109 111 112\n",
            " 113 114 115 116 117 118 119 120 121 122 123 124 125 126 127 129 130 132\n",
            " 133 135 136 137 138 139 140 141 143 145 147 148 149 150 151 152 153 154\n",
            " 155 156 157 159 160 161 162 166 167 168 169 170 171 172 174 175 176 177\n",
            " 180 182 184 186 187 188 190 191 192 193 194 195 196 197 198 199 200 201\n",
            " 202 203 204 205 207 208 209 211 212 213 214 216 217 219 220 221 223 224\n",
            " 225 226 227 228 229 230 231 232 233 234 235 236 240 241 244 245 246 247\n",
            " 249 250 251 252 253 254 255 256 258 259 260 262 263 264 265 266 267]\n",
            "0.9534883720930233\n"
          ],
          "name": "stdout"
        }
      ]
    },
    {
      "cell_type": "code",
      "metadata": {
        "id": "Wd__i2iZ_8vL",
        "outputId": "2da93879-e9a2-4b1f-f26e-f31ff0167577",
        "colab": {
          "base_uri": "https://localhost:8080/"
        }
      },
      "source": [
        "np.mean(f1),np.mean(r),np.mean(p),np.mean(accuracy)"
      ],
      "execution_count": 430,
      "outputs": [
        {
          "output_type": "execute_result",
          "data": {
            "text/plain": [
              "(0.71871602251461, 0.7015373864430468, 0.7709158672680685, 0.7015373864430468)"
            ]
          },
          "metadata": {
            "tags": []
          },
          "execution_count": 430
        }
      ]
    },
    {
      "cell_type": "code",
      "metadata": {
        "id": "llhlEUCXDNkR"
      },
      "source": [
        ""
      ],
      "execution_count": null,
      "outputs": []
    },
    {
      "cell_type": "code",
      "metadata": {
        "id": "PAaBUUR3DNc-"
      },
      "source": [
        ""
      ],
      "execution_count": null,
      "outputs": []
    },
    {
      "cell_type": "markdown",
      "metadata": {
        "id": "07u94ZfgDO7u"
      },
      "source": [
        "Random forest hyperparameter tuning"
      ]
    },
    {
      "cell_type": "code",
      "metadata": {
        "id": "PasPR3tmDNTF"
      },
      "source": [
        ""
      ],
      "execution_count": null,
      "outputs": []
    },
    {
      "cell_type": "code",
      "metadata": {
        "id": "J4CLBX8V-hZZ"
      },
      "source": [
        "from sklearn.model_selection import RandomizedSearchCV\n",
        "# Number of trees in random forest\n",
        "n_estimators = [int(x) for x in np.linspace(start = 200, stop = 2000, num = 10)]\n",
        "# Number of features to consider at every split\n",
        "max_features = ['auto', 'sqrt']\n",
        "# Maximum number of levels in tree\n",
        "max_depth = [int(x) for x in np.linspace(10, 110, num = 11)]\n",
        "max_depth.append(None)\n",
        "# Minimum number of samples required to split a node\n",
        "min_samples_split = [2, 5, 10]\n",
        "# Minimum number of samples required at each leaf node\n",
        "min_samples_leaf = [1, 2, 4]\n",
        "# Method of selecting samples for training each tree\n",
        "bootstrap = [True, False]\n",
        "# Create the random grid\n",
        "random_grid = {'n_estimators': n_estimators,\n",
        "               'max_features': max_features,\n",
        "               'max_depth': max_depth,\n",
        "               'min_samples_split': min_samples_split,\n",
        "               'min_samples_leaf': min_samples_leaf,\n",
        "               'bootstrap': bootstrap}"
      ],
      "execution_count": 77,
      "outputs": []
    },
    {
      "cell_type": "code",
      "metadata": {
        "id": "c60mIFzO_l0e"
      },
      "source": [
        "# sorted(pipeline.get_params().keys())"
      ],
      "execution_count": 78,
      "outputs": []
    },
    {
      "cell_type": "code",
      "metadata": {
        "id": "kZRuzNIcAFDb"
      },
      "source": [
        "X=X.toarray()"
      ],
      "execution_count": 79,
      "outputs": []
    },
    {
      "cell_type": "code",
      "metadata": {
        "id": "l5rg4FqAC4vM"
      },
      "source": [
        "rf=RandomForestClassifier()"
      ],
      "execution_count": 80,
      "outputs": []
    },
    {
      "cell_type": "code",
      "metadata": {
        "id": "uyBBB26q-e0E"
      },
      "source": [
        "rf_random = GridSearchCV(rf, random_grid)#, n_iter = 100, cv = 3, verbose=2, random_state=42, n_jobs = -1\n",
        "# Fit the random search model\n",
        "rf_random.fit(X,y)"
      ],
      "execution_count": null,
      "outputs": []
    },
    {
      "cell_type": "code",
      "metadata": {
        "id": "Mx8XeezVElvt"
      },
      "source": [
        "rf_random.best_params_"
      ],
      "execution_count": null,
      "outputs": []
    },
    {
      "cell_type": "code",
      "metadata": {
        "id": "1BlQueiumdE8"
      },
      "source": [
        "rf = RandomForestClassifier(bootstrap= True,max_depth= 20,max_features= 'sqrt',min_samples_leaf= 1,min_samples_split= 10,n_estimators= 1600)"
      ],
      "execution_count": null,
      "outputs": []
    },
    {
      "cell_type": "code",
      "metadata": {
        "id": "xqZXG9FYmc9h"
      },
      "source": [
        "accuracy=[]\n",
        "p=[]\n",
        "r=[]    \n",
        "f1=[]\n",
        "for (train, test), i in zip(cv.split(X, y), range(5)):\n",
        "    print(test,train)\n",
        "    rf.fit(X[train], y[train])\n",
        "    y_pred=rf.predict(X[test])\n",
        "    y_pred_train=rf.predict(X[train])\n",
        "    print(accuracy_score(y_pred_train,y[train]))\n",
        "    accuracy.append(accuracy_score(y_pred,y[test]))\n",
        "    f1.append(f1_score(y_pred,y[test],average='weighted'))\n",
        "    p.append(precision_score(y_pred,y[test],average='weighted'))\n",
        "    r.append(recall_score(y_pred,y[test],average='weighted'))"
      ],
      "execution_count": null,
      "outputs": []
    },
    {
      "cell_type": "code",
      "metadata": {
        "id": "b7-KkJVrmcv-"
      },
      "source": [
        ""
      ],
      "execution_count": null,
      "outputs": []
    },
    {
      "cell_type": "code",
      "metadata": {
        "id": "YQHxirkm-ein"
      },
      "source": [
        "# len(test)"
      ],
      "execution_count": 402,
      "outputs": []
    },
    {
      "cell_type": "code",
      "metadata": {
        "id": "tlxP_Qf--ebV"
      },
      "source": [
        "# RandomizedSearchCV.best_parameter"
      ],
      "execution_count": 423,
      "outputs": []
    },
    {
      "cell_type": "code",
      "metadata": {
        "id": "eNNWz8gzjLqF",
        "outputId": "aed49cff-d47b-40c7-d2d7-9c60206570e2",
        "colab": {
          "base_uri": "https://localhost:8080/"
        }
      },
      "source": [
        "np.mean(f1),np.mean(r),np.mean(p),np.mean(accuracy)"
      ],
      "execution_count": 384,
      "outputs": [
        {
          "output_type": "execute_result",
          "data": {
            "text/plain": [
              "(0.6647974587513283,\n",
              " 0.6528301886792452,\n",
              " 0.7071911992037778,\n",
              " 0.6528301886792452)"
            ]
          },
          "metadata": {
            "tags": []
          },
          "execution_count": 384
        }
      ]
    },
    {
      "cell_type": "code",
      "metadata": {
        "id": "pzHnsPuQlnCJ",
        "outputId": "37a37af0-0927-4315-e338-d1cd02738bc1",
        "colab": {
          "base_uri": "https://localhost:8080/"
        }
      },
      "source": [
        "len(test)"
      ],
      "execution_count": 385,
      "outputs": [
        {
          "output_type": "execute_result",
          "data": {
            "text/plain": [
              "53"
            ]
          },
          "metadata": {
            "tags": []
          },
          "execution_count": 385
        }
      ]
    },
    {
      "cell_type": "code",
      "metadata": {
        "id": "JuDkYKBplUw5",
        "outputId": "22d4d415-f906-4f9d-ab3c-84d7e54931c8",
        "colab": {
          "base_uri": "https://localhost:8080/"
        }
      },
      "source": [
        "confusion_matrix(y_pred,y[test])"
      ],
      "execution_count": 386,
      "outputs": [
        {
          "output_type": "execute_result",
          "data": {
            "text/plain": [
              "array([[9, 0, 1, 0, 0, 0, 0],\n",
              "       [0, 3, 1, 0, 0, 0, 0],\n",
              "       [0, 0, 8, 0, 0, 0, 0],\n",
              "       [0, 0, 0, 5, 0, 0, 0],\n",
              "       [1, 0, 0, 1, 4, 0, 9],\n",
              "       [0, 0, 0, 0, 0, 3, 0],\n",
              "       [0, 0, 0, 0, 7, 0, 1]])"
            ]
          },
          "metadata": {
            "tags": []
          },
          "execution_count": 386
        }
      ]
    },
    {
      "cell_type": "code",
      "metadata": {
        "id": "Jat7J3aqlEro"
      },
      "source": [
        "from xgboost import XGBClassifier"
      ],
      "execution_count": 387,
      "outputs": []
    },
    {
      "cell_type": "code",
      "metadata": {
        "id": "-ieIenwmjbQE"
      },
      "source": [
        "xgb=XGBClassifier()"
      ],
      "execution_count": 388,
      "outputs": []
    },
    {
      "cell_type": "code",
      "metadata": {
        "id": "CYw_4bnajbJK",
        "outputId": "013f355a-cec2-4ecf-8485-044ef29704c9",
        "colab": {
          "base_uri": "https://localhost:8080/"
        }
      },
      "source": [
        "accuracy=[]\n",
        "p=[]\n",
        "r=[]    \n",
        "f1=[]\n",
        "for (train, test), i in zip(cv.split(X, y), range(5)):\n",
        "    print(test,train)\n",
        "    xgb.fit(X[train], y[train])\n",
        "    y_pred=xgb.predict(X[test])\n",
        "    y_pred_train=xgb.predict(X[train])\n",
        "    print(accuracy_score(y_pred_train,y[train]))\n",
        "    accuracy.append(accuracy_score(y_pred,y[test]))\n",
        "    f1.append(f1_score(y_pred,y[test],average='weighted'))\n",
        "    p.append(precision_score(y_pred,y[test],average='weighted'))\n",
        "    r.append(recall_score(y_pred,y[test],average='weighted'))"
      ],
      "execution_count": 389,
      "outputs": [
        {
          "output_type": "stream",
          "text": [
            "[  5   7   9  19  25  35  38  41  46  48  50  52  58  60  74  77  78  88\n",
            "  95 101 109 113 115 116 120 125 132 138 140 147 153 157 159 171 174 177\n",
            " 188 192 194 196 200 202 203 209 220 226 227 230 232 252 253 254 255 264] [  0   1   2   3   4   6   8  10  11  12  13  14  15  16  17  18  20  21\n",
            "  22  23  24  26  27  28  29  30  31  32  33  34  36  37  39  40  42  43\n",
            "  44  45  47  49  51  53  54  55  56  57  59  61  62  63  64  65  66  67\n",
            "  68  69  70  71  72  73  75  76  79  80  81  82  83  84  85  86  87  89\n",
            "  90  91  92  93  94  96  97  98  99 100 102 103 104 105 106 107 108 110\n",
            " 111 112 114 117 118 119 121 122 123 124 126 127 128 129 130 131 133 134\n",
            " 135 136 137 139 141 142 143 144 145 146 148 149 150 151 152 154 155 156\n",
            " 158 160 161 162 163 164 165 166 167 168 169 170 172 173 175 176 178 179\n",
            " 180 181 182 183 184 185 186 187 189 190 191 193 195 197 198 199 201 204\n",
            " 205 206 207 208 210 211 212 213 214 215 216 217 218 219 221 222 223 224\n",
            " 225 228 229 231 233 234 235 236 237 238 239 240 241 242 243 244 245 246\n",
            " 247 248 249 250 251 256 257 258 259 260 261 262 263 265 266 267]\n",
            "0.9392523364485982\n",
            "[  8  10  18  20  22  30  32  33  43  45  55  59  63  67  68  72  85  86\n",
            "  93 103 105 108 111 118 123 129 133 141 143 148 154 156 160 161 166 168\n",
            " 180 190 197 199 201 211 213 214 217 219 224 225 229 231 250 256 260 262] [  0   1   2   3   4   5   6   7   9  11  12  13  14  15  16  17  19  21\n",
            "  23  24  25  26  27  28  29  31  34  35  36  37  38  39  40  41  42  44\n",
            "  46  47  48  49  50  51  52  53  54  56  57  58  60  61  62  64  65  66\n",
            "  69  70  71  73  74  75  76  77  78  79  80  81  82  83  84  87  88  89\n",
            "  90  91  92  94  95  96  97  98  99 100 101 102 104 106 107 109 110 112\n",
            " 113 114 115 116 117 119 120 121 122 124 125 126 127 128 130 131 132 134\n",
            " 135 136 137 138 139 140 142 144 145 146 147 149 150 151 152 153 155 157\n",
            " 158 159 162 163 164 165 167 169 170 171 172 173 174 175 176 177 178 179\n",
            " 181 182 183 184 185 186 187 188 189 191 192 193 194 195 196 198 200 202\n",
            " 203 204 205 206 207 208 209 210 212 215 216 218 220 221 222 223 226 227\n",
            " 228 230 232 233 234 235 236 237 238 239 240 241 242 243 244 245 246 247\n",
            " 248 249 251 252 253 254 255 257 258 259 261 263 264 265 266 267]\n",
            "0.9532710280373832\n",
            "[  0   6  12  16  24  26  28  31  34  49  56  57  62  64  69  79  96  97\n",
            "  99 102 104 106 107 117 121 122 124 126 137 139 149 150 151 152 169 170\n",
            " 182 184 186 187 204 205 212 221 223 235 240 245 246 249 251 259 263 267] [  1   2   3   4   5   7   8   9  10  11  13  14  15  17  18  19  20  21\n",
            "  22  23  25  27  29  30  32  33  35  36  37  38  39  40  41  42  43  44\n",
            "  45  46  47  48  50  51  52  53  54  55  58  59  60  61  63  65  66  67\n",
            "  68  70  71  72  73  74  75  76  77  78  80  81  82  83  84  85  86  87\n",
            "  88  89  90  91  92  93  94  95  98 100 101 103 105 108 109 110 111 112\n",
            " 113 114 115 116 118 119 120 123 125 127 128 129 130 131 132 133 134 135\n",
            " 136 138 140 141 142 143 144 145 146 147 148 153 154 155 156 157 158 159\n",
            " 160 161 162 163 164 165 166 167 168 171 172 173 174 175 176 177 178 179\n",
            " 180 181 183 185 188 189 190 191 192 193 194 195 196 197 198 199 200 201\n",
            " 202 203 206 207 208 209 210 211 213 214 215 216 217 218 219 220 222 224\n",
            " 225 226 227 228 229 230 231 232 233 234 236 237 238 239 241 242 243 244\n",
            " 247 248 250 252 253 254 255 256 257 258 260 261 262 264 265 266]\n",
            "0.9392523364485982\n",
            "[  1   3  11  17  21  29  36  37  42  47  53  54  65  75  76  81  82  84\n",
            "  91  92  94 100 112 114 119 127 130 135 136 145 155 162 167 172 175 176\n",
            " 191 193 195 198 207 208 216 228 233 234 236 241 244 247 258 265 266] [  0   2   4   5   6   7   8   9  10  12  13  14  15  16  18  19  20  22\n",
            "  23  24  25  26  27  28  30  31  32  33  34  35  38  39  40  41  43  44\n",
            "  45  46  48  49  50  51  52  55  56  57  58  59  60  61  62  63  64  66\n",
            "  67  68  69  70  71  72  73  74  77  78  79  80  83  85  86  87  88  89\n",
            "  90  93  95  96  97  98  99 101 102 103 104 105 106 107 108 109 110 111\n",
            " 113 115 116 117 118 120 121 122 123 124 125 126 128 129 131 132 133 134\n",
            " 137 138 139 140 141 142 143 144 146 147 148 149 150 151 152 153 154 156\n",
            " 157 158 159 160 161 163 164 165 166 168 169 170 171 173 174 177 178 179\n",
            " 180 181 182 183 184 185 186 187 188 189 190 192 194 196 197 199 200 201\n",
            " 202 203 204 205 206 209 210 211 212 213 214 215 217 218 219 220 221 222\n",
            " 223 224 225 226 227 229 230 231 232 235 237 238 239 240 242 243 245 246\n",
            " 248 249 250 251 252 253 254 255 256 257 259 260 261 262 263 264 267]\n",
            "0.9674418604651163\n",
            "[  2   4  13  14  15  23  27  39  40  44  51  61  66  70  71  73  80  83\n",
            "  87  89  90  98 110 128 131 134 142 144 146 158 163 164 165 173 178 179\n",
            " 181 183 185 189 206 210 215 218 222 237 238 239 242 243 248 257 261] [  0   1   3   5   6   7   8   9  10  11  12  16  17  18  19  20  21  22\n",
            "  24  25  26  28  29  30  31  32  33  34  35  36  37  38  41  42  43  45\n",
            "  46  47  48  49  50  52  53  54  55  56  57  58  59  60  62  63  64  65\n",
            "  67  68  69  72  74  75  76  77  78  79  81  82  84  85  86  88  91  92\n",
            "  93  94  95  96  97  99 100 101 102 103 104 105 106 107 108 109 111 112\n",
            " 113 114 115 116 117 118 119 120 121 122 123 124 125 126 127 129 130 132\n",
            " 133 135 136 137 138 139 140 141 143 145 147 148 149 150 151 152 153 154\n",
            " 155 156 157 159 160 161 162 166 167 168 169 170 171 172 174 175 176 177\n",
            " 180 182 184 186 187 188 190 191 192 193 194 195 196 197 198 199 200 201\n",
            " 202 203 204 205 207 208 209 211 212 213 214 216 217 219 220 221 223 224\n",
            " 225 226 227 228 229 230 231 232 233 234 235 236 240 241 244 245 246 247\n",
            " 249 250 251 252 253 254 255 256 258 259 260 262 263 264 265 266 267]\n"
          ],
          "name": "stdout"
        },
        {
          "output_type": "stream",
          "text": [
            "/usr/local/lib/python3.7/dist-packages/sklearn/metrics/_classification.py:1272: UndefinedMetricWarning: Recall is ill-defined and being set to 0.0 in labels with no true samples. Use `zero_division` parameter to control this behavior.\n",
            "  _warn_prf(average, modifier, msg_start, len(result))\n"
          ],
          "name": "stderr"
        },
        {
          "output_type": "stream",
          "text": [
            "0.958139534883721\n"
          ],
          "name": "stdout"
        }
      ]
    },
    {
      "cell_type": "code",
      "metadata": {
        "id": "uFF9NX_BjMHY",
        "outputId": "68d40c62-3b77-43bb-cf6a-3de270f82235",
        "colab": {
          "base_uri": "https://localhost:8080/"
        }
      },
      "source": [
        "np.mean(f1),np.mean(r),np.mean(p),np.mean(accuracy)"
      ],
      "execution_count": 390,
      "outputs": [
        {
          "output_type": "execute_result",
          "data": {
            "text/plain": [
              "(0.6356000073483976, 0.630188679245283, 0.6606645067022426, 0.630188679245283)"
            ]
          },
          "metadata": {
            "tags": []
          },
          "execution_count": 390
        }
      ]
    },
    {
      "cell_type": "code",
      "metadata": {
        "id": "SEk3AXkVjMNU",
        "outputId": "b5e1ce10-d92a-45fb-8103-def0d10a3576",
        "colab": {
          "base_uri": "https://localhost:8080/"
        }
      },
      "source": [
        "confusion_matrix(y_pred,y[test])"
      ],
      "execution_count": 260,
      "outputs": [
        {
          "output_type": "execute_result",
          "data": {
            "text/plain": [
              "array([[9, 0, 1, 0, 0, 0, 0],\n",
              "       [0, 2, 0, 0, 0, 0, 0],\n",
              "       [1, 1, 9, 1, 0, 0, 0],\n",
              "       [0, 0, 0, 5, 0, 0, 0],\n",
              "       [0, 0, 0, 0, 4, 0, 8],\n",
              "       [0, 0, 0, 0, 0, 3, 0],\n",
              "       [0, 0, 0, 0, 7, 0, 2]])"
            ]
          },
          "metadata": {
            "tags": []
          },
          "execution_count": 260
        }
      ]
    },
    {
      "cell_type": "code",
      "metadata": {
        "id": "XJCyL2l8jMTU"
      },
      "source": [
        ""
      ],
      "execution_count": null,
      "outputs": []
    },
    {
      "cell_type": "code",
      "metadata": {
        "id": "YuBhrP2XncvX",
        "outputId": "6378641a-63d6-4dbf-ca45-35b65f064aad",
        "colab": {
          "base_uri": "https://localhost:8080/"
        }
      },
      "source": [
        "rf.fit(X,y)"
      ],
      "execution_count": 179,
      "outputs": [
        {
          "output_type": "execute_result",
          "data": {
            "text/plain": [
              "RandomForestClassifier(bootstrap=True, ccp_alpha=0.0, class_weight=None,\n",
              "                       criterion='gini', max_depth=None, max_features='auto',\n",
              "                       max_leaf_nodes=None, max_samples=None,\n",
              "                       min_impurity_decrease=0.0, min_impurity_split=None,\n",
              "                       min_samples_leaf=1, min_samples_split=2,\n",
              "                       min_weight_fraction_leaf=0.0, n_estimators=100,\n",
              "                       n_jobs=None, oob_score=False, random_state=None,\n",
              "                       verbose=0, warm_start=False)"
            ]
          },
          "metadata": {
            "tags": []
          },
          "execution_count": 179
        }
      ]
    },
    {
      "cell_type": "code",
      "metadata": {
        "id": "r13FmtB1ncvZ"
      },
      "source": [
        "y_pred=rf.predict(X)"
      ],
      "execution_count": 180,
      "outputs": []
    },
    {
      "cell_type": "code",
      "metadata": {
        "id": "96YUy3eCncvZ"
      },
      "source": [
        "from sklearn.metrics import accuracy_score"
      ],
      "execution_count": 177,
      "outputs": []
    },
    {
      "cell_type": "code",
      "metadata": {
        "id": "iJylK2Bxncvf",
        "outputId": "28595d17-68a6-42f4-fbc8-0e899d33b1f8",
        "colab": {
          "base_uri": "https://localhost:8080/"
        }
      },
      "source": [
        "f1_score(y,y_pred,average='weighted')"
      ],
      "execution_count": 185,
      "outputs": [
        {
          "output_type": "execute_result",
          "data": {
            "text/plain": [
              "0.9519505877025342"
            ]
          },
          "metadata": {
            "tags": []
          },
          "execution_count": 185
        }
      ]
    },
    {
      "cell_type": "code",
      "metadata": {
        "id": "dU2vYSg8pXst",
        "outputId": "819a7324-9772-454e-9281-fff2ec58a13e",
        "colab": {
          "base_uri": "https://localhost:8080/"
        }
      },
      "source": [
        "confusion_matrix(y,y_pred)"
      ],
      "execution_count": 186,
      "outputs": [
        {
          "output_type": "execute_result",
          "data": {
            "text/plain": [
              "array([[50,  1,  0,  0,  0,  0,  0],\n",
              "       [ 0,  7,  0,  0,  0,  0,  0],\n",
              "       [ 0,  1, 16,  0,  0,  0,  0],\n",
              "       [ 0,  0,  0, 12,  0,  0,  0],\n",
              "       [ 0,  0,  0,  0, 48,  0,  3],\n",
              "       [ 0,  0,  0,  0,  0, 17,  0],\n",
              "       [ 0,  0,  0,  0,  5,  0, 46]])"
            ]
          },
          "metadata": {
            "tags": []
          },
          "execution_count": 186
        }
      ]
    },
    {
      "cell_type": "code",
      "metadata": {
        "id": "bYUxjSniqKnx",
        "outputId": "dd81c542-851d-4f47-ddb7-29cf1c8f96aa",
        "colab": {
          "base_uri": "https://localhost:8080/",
          "height": 356
        }
      },
      "source": [
        "df.tail(10)"
      ],
      "execution_count": 189,
      "outputs": [
        {
          "output_type": "execute_result",
          "data": {
            "text/html": [
              "<div>\n",
              "<style scoped>\n",
              "    .dataframe tbody tr th:only-of-type {\n",
              "        vertical-align: middle;\n",
              "    }\n",
              "\n",
              "    .dataframe tbody tr th {\n",
              "        vertical-align: top;\n",
              "    }\n",
              "\n",
              "    .dataframe thead th {\n",
              "        text-align: right;\n",
              "    }\n",
              "</style>\n",
              "<table border=\"1\" class=\"dataframe\">\n",
              "  <thead>\n",
              "    <tr style=\"text-align: right;\">\n",
              "      <th></th>\n",
              "      <th>text</th>\n",
              "      <th>label</th>\n",
              "    </tr>\n",
              "  </thead>\n",
              "  <tbody>\n",
              "    <tr>\n",
              "      <th>196</th>\n",
              "      <td>mir nayanashre n reg ip 1889700 244081 babi de...</td>\n",
              "      <td>6</td>\n",
              "    </tr>\n",
              "    <tr>\n",
              "      <th>197</th>\n",
              "      <td>advis discharg 1 8 9 1 diabet diet 2 continu t...</td>\n",
              "      <td>6</td>\n",
              "    </tr>\n",
              "    <tr>\n",
              "      <th>198</th>\n",
              "      <td>discharg advic sino weicin name cc 2 inj nova ...</td>\n",
              "      <td>6</td>\n",
              "    </tr>\n",
              "    <tr>\n",
              "      <th>199</th>\n",
              "      <td>sharavathi hospit discharg summari name patien...</td>\n",
              "      <td>6</td>\n",
              "    </tr>\n",
              "    <tr>\n",
              "      <th>200</th>\n",
              "      <td>oe awa ys wr ol ca cte ol uy cn bob 0 fh yp oc...</td>\n",
              "      <td>6</td>\n",
              "    </tr>\n",
              "    <tr>\n",
              "      <th>201</th>\n",
              "      <td>shree tanay hospit besid dr venkatachari hospi...</td>\n",
              "      <td>6</td>\n",
              "    </tr>\n",
              "    <tr>\n",
              "      <th>202</th>\n",
              "      <td>het 38 glu 12 mg dl lac 2 2 mmol l methb 0 7 b...</td>\n",
              "      <td>6</td>\n",
              "    </tr>\n",
              "    <tr>\n",
              "      <th>203</th>\n",
              "      <td>discharg summari cont sheet potassium 4 4 meq ...</td>\n",
              "      <td>6</td>\n",
              "    </tr>\n",
              "    <tr>\n",
              "      <th>204</th>\n",
              "      <td>forti hospit limit e 4 154 9 bannerghatta road...</td>\n",
              "      <td>6</td>\n",
              "    </tr>\n",
              "    <tr>\n",
              "      <th>205</th>\n",
              "      <td>rea rl mchc 33 1 31 4 36 3 rdw 13 6 3 11 5 14 ...</td>\n",
              "      <td>6</td>\n",
              "    </tr>\n",
              "  </tbody>\n",
              "</table>\n",
              "</div>"
            ],
            "text/plain": [
              "                                                  text  label\n",
              "196  mir nayanashre n reg ip 1889700 244081 babi de...      6\n",
              "197  advis discharg 1 8 9 1 diabet diet 2 continu t...      6\n",
              "198  discharg advic sino weicin name cc 2 inj nova ...      6\n",
              "199  sharavathi hospit discharg summari name patien...      6\n",
              "200  oe awa ys wr ol ca cte ol uy cn bob 0 fh yp oc...      6\n",
              "201  shree tanay hospit besid dr venkatachari hospi...      6\n",
              "202  het 38 glu 12 mg dl lac 2 2 mmol l methb 0 7 b...      6\n",
              "203  discharg summari cont sheet potassium 4 4 meq ...      6\n",
              "204  forti hospit limit e 4 154 9 bannerghatta road...      6\n",
              "205  rea rl mchc 33 1 31 4 36 3 rdw 13 6 3 11 5 14 ...      6"
            ]
          },
          "metadata": {
            "tags": []
          },
          "execution_count": 189
        }
      ]
    },
    {
      "cell_type": "code",
      "metadata": {
        "id": "gJcrrNAYqKhq"
      },
      "source": [
        ""
      ],
      "execution_count": 189,
      "outputs": []
    },
    {
      "cell_type": "code",
      "metadata": {
        "id": "Xhuo27DLqKaQ"
      },
      "source": [
        ""
      ],
      "execution_count": null,
      "outputs": []
    },
    {
      "cell_type": "code",
      "metadata": {
        "id": "X0ZHr70qncvi",
        "outputId": "05a12fd7-afe9-4573-be96-86c455f4958c"
      },
      "source": [
        "X[0]"
      ],
      "execution_count": null,
      "outputs": [
        {
          "output_type": "execute_result",
          "data": {
            "text/plain": [
              "<1x23428 sparse matrix of type '<class 'numpy.float64'>'\n",
              "\twith 6 stored elements in Compressed Sparse Row format>"
            ]
          },
          "metadata": {
            "tags": []
          },
          "execution_count": 24
        }
      ]
    },
    {
      "cell_type": "code",
      "metadata": {
        "id": "WRhDNKg-ncvi"
      },
      "source": [
        "import pickle"
      ],
      "execution_count": null,
      "outputs": []
    },
    {
      "cell_type": "code",
      "metadata": {
        "id": "55amtOa1ncvj"
      },
      "source": [
        "filename='model.sav'\n",
        "\n",
        "pickle.dump(nb,open(filename, 'wb'))"
      ],
      "execution_count": null,
      "outputs": []
    },
    {
      "cell_type": "code",
      "metadata": {
        "id": "69ML5o0fncvj"
      },
      "source": [
        "filename2='cv.sav'\n",
        "\n",
        "pickle.dump(cv,open(filename2, 'wb'))"
      ],
      "execution_count": null,
      "outputs": []
    },
    {
      "cell_type": "code",
      "metadata": {
        "id": "-RpIUz1zncvk"
      },
      "source": [
        "filename3='tfidf.sav'\n",
        "\n",
        "pickle.dump(tfidf,open(filename3, 'wb'))"
      ],
      "execution_count": null,
      "outputs": []
    },
    {
      "cell_type": "code",
      "metadata": {
        "id": "1TfIUUs2ncvk"
      },
      "source": [
        ""
      ],
      "execution_count": null,
      "outputs": []
    }
  ]
}